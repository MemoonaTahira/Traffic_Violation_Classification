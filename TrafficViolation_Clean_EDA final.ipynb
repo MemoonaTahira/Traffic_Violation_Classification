{
 "cells": [
  {
   "cell_type": "code",
   "execution_count": 2,
   "id": "d04e7bea",
   "metadata": {},
   "outputs": [
    {
     "name": "stderr",
     "output_type": "stream",
     "text": [
      "c:\\Users\\Mona\\anaconda3\\envs\\mlzoomcamp\\lib\\site-packages\\xgboost\\compat.py:36: FutureWarning: pandas.Int64Index is deprecated and will be removed from pandas in a future version. Use pandas.Index with the appropriate dtype instead.\n",
      "  from pandas import MultiIndex, Int64Index\n",
      "Intel(R) Extension for Scikit-learn* enabled (https://github.com/intel/scikit-learn-intelex)\n"
     ]
    }
   ],
   "source": [
    "import numpy as np\n",
    "import pandas as pd\n",
    "import seaborn as sns\n",
    "sns.set_style(\"darkgrid\")\n",
    "import sklearn\n",
    "from sklearn.model_selection import train_test_split\n",
    "from sklearn.feature_extraction import DictVectorizer\n",
    "from sklearn.ensemble import RandomForestClassifier\n",
    "import xgboost as xgb\n",
    "import matplotlib\n",
    "import matplotlib.pyplot as plt\n",
    "%matplotlib inline  \n",
    "from sklearnex import patch_sklearn, config_context\n",
    "patch_sklearn()"
   ]
  },
  {
   "cell_type": "markdown",
   "id": "d37324f2",
   "metadata": {},
   "source": [
    "# Data preparation, cleaning and EDA"
   ]
  },
  {
   "cell_type": "markdown",
   "id": "a3c6ae75",
   "metadata": {},
   "source": [
    "Please download the dataset from here and unzip and place it in the same directoey as this ipynb file. \n",
    "Link to download: https://www.kaggle.com/datasets/felix4guti/traffic-violations-in-usa?select=Traffic_Violations.csv\n",
    "You need to be logged in to Kaggle to download it."
   ]
  },
  {
   "cell_type": "code",
   "execution_count": 24,
   "id": "30ba03b8",
   "metadata": {},
   "outputs": [
    {
     "name": "stderr",
     "output_type": "stream",
     "text": [
      "C:\\Users\\Mona\\AppData\\Local\\Temp\\ipykernel_2584\\1705084924.py:1: DtypeWarning: Columns (26) have mixed types. Specify dtype option on import or set low_memory=False.\n",
      "  df = pd.read_csv(\"Traffic_Violations.csv\")\n"
     ]
    },
    {
     "name": "stdout",
     "output_type": "stream",
     "text": [
      "Dataframe dimensions: (1018634, 35)\n",
      "The number of rows in the dataframe are: 1018634 \n",
      "The number of rows in the dataframe after removing duplicates are: 1017322 \n"
     ]
    },
    {
     "data": {
      "text/html": [
       "<div>\n",
       "<style scoped>\n",
       "    .dataframe tbody tr th:only-of-type {\n",
       "        vertical-align: middle;\n",
       "    }\n",
       "\n",
       "    .dataframe tbody tr th {\n",
       "        vertical-align: top;\n",
       "    }\n",
       "\n",
       "    .dataframe thead th {\n",
       "        text-align: right;\n",
       "    }\n",
       "</style>\n",
       "<table border=\"1\" class=\"dataframe\">\n",
       "  <thead>\n",
       "    <tr style=\"text-align: right;\">\n",
       "      <th></th>\n",
       "      <th>datatype</th>\n",
       "      <th>missing values</th>\n",
       "      <th>missing value %</th>\n",
       "      <th>number of unique values</th>\n",
       "      <th>unique values</th>\n",
       "    </tr>\n",
       "  </thead>\n",
       "  <tbody>\n",
       "    <tr>\n",
       "      <th>Date Of Stop</th>\n",
       "      <td>object</td>\n",
       "      <td>0</td>\n",
       "      <td>0.0</td>\n",
       "      <td>1822</td>\n",
       "      <td>[09/24/2013, 12/20/2012, 07/20/2012, 03/19/201...</td>\n",
       "    </tr>\n",
       "    <tr>\n",
       "      <th>Time Of Stop</th>\n",
       "      <td>object</td>\n",
       "      <td>0</td>\n",
       "      <td>0.0</td>\n",
       "      <td>1440</td>\n",
       "      <td>[17:11:00, 00:41:00, 23:12:00, 16:10:00, 12:52...</td>\n",
       "    </tr>\n",
       "    <tr>\n",
       "      <th>Agency</th>\n",
       "      <td>object</td>\n",
       "      <td>0</td>\n",
       "      <td>0.0</td>\n",
       "      <td>1</td>\n",
       "      <td>[MCP]</td>\n",
       "    </tr>\n",
       "    <tr>\n",
       "      <th>SubAgency</th>\n",
       "      <td>object</td>\n",
       "      <td>0</td>\n",
       "      <td>0.0</td>\n",
       "      <td>7</td>\n",
       "      <td>[3rd district, Silver Spring, 2nd district, Be...</td>\n",
       "    </tr>\n",
       "    <tr>\n",
       "      <th>Description</th>\n",
       "      <td>object</td>\n",
       "      <td>9</td>\n",
       "      <td>0.0009</td>\n",
       "      <td>10561</td>\n",
       "      <td>[DRIVING VEHICLE ON HIGHWAY WITH SUSPENDED REG...</td>\n",
       "    </tr>\n",
       "    <tr>\n",
       "      <th>Location</th>\n",
       "      <td>object</td>\n",
       "      <td>2</td>\n",
       "      <td>0.0002</td>\n",
       "      <td>155034</td>\n",
       "      <td>[8804 FLOWER AVE, NORFOLK AVE /  ST ELMO AVE, ...</td>\n",
       "    </tr>\n",
       "    <tr>\n",
       "      <th>Latitude</th>\n",
       "      <td>float64</td>\n",
       "      <td>84814</td>\n",
       "      <td>8.337</td>\n",
       "      <td>262305</td>\n",
       "      <td>[nan, 38.9835782, 39.1618098166667, 38.9827307...</td>\n",
       "    </tr>\n",
       "    <tr>\n",
       "      <th>Longitude</th>\n",
       "      <td>float64</td>\n",
       "      <td>84814</td>\n",
       "      <td>8.337</td>\n",
       "      <td>291493</td>\n",
       "      <td>[nan, -77.09310515, -77.25358095, -77.10075516...</td>\n",
       "    </tr>\n",
       "    <tr>\n",
       "      <th>Accident</th>\n",
       "      <td>object</td>\n",
       "      <td>0</td>\n",
       "      <td>0.0</td>\n",
       "      <td>1</td>\n",
       "      <td>[No]</td>\n",
       "    </tr>\n",
       "    <tr>\n",
       "      <th>Belts</th>\n",
       "      <td>object</td>\n",
       "      <td>0</td>\n",
       "      <td>0.0</td>\n",
       "      <td>2</td>\n",
       "      <td>[No, Yes]</td>\n",
       "    </tr>\n",
       "    <tr>\n",
       "      <th>Personal Injury</th>\n",
       "      <td>object</td>\n",
       "      <td>0</td>\n",
       "      <td>0.0</td>\n",
       "      <td>2</td>\n",
       "      <td>[No, Yes]</td>\n",
       "    </tr>\n",
       "    <tr>\n",
       "      <th>Property Damage</th>\n",
       "      <td>object</td>\n",
       "      <td>0</td>\n",
       "      <td>0.0</td>\n",
       "      <td>2</td>\n",
       "      <td>[No, Yes]</td>\n",
       "    </tr>\n",
       "    <tr>\n",
       "      <th>Fatal</th>\n",
       "      <td>object</td>\n",
       "      <td>0</td>\n",
       "      <td>0.0</td>\n",
       "      <td>2</td>\n",
       "      <td>[No, Yes]</td>\n",
       "    </tr>\n",
       "    <tr>\n",
       "      <th>Commercial License</th>\n",
       "      <td>object</td>\n",
       "      <td>0</td>\n",
       "      <td>0.0</td>\n",
       "      <td>2</td>\n",
       "      <td>[No, Yes]</td>\n",
       "    </tr>\n",
       "    <tr>\n",
       "      <th>HAZMAT</th>\n",
       "      <td>object</td>\n",
       "      <td>0</td>\n",
       "      <td>0.0</td>\n",
       "      <td>2</td>\n",
       "      <td>[No, Yes]</td>\n",
       "    </tr>\n",
       "    <tr>\n",
       "      <th>Commercial Vehicle</th>\n",
       "      <td>object</td>\n",
       "      <td>0</td>\n",
       "      <td>0.0</td>\n",
       "      <td>2</td>\n",
       "      <td>[No, Yes]</td>\n",
       "    </tr>\n",
       "    <tr>\n",
       "      <th>Alcohol</th>\n",
       "      <td>object</td>\n",
       "      <td>0</td>\n",
       "      <td>0.0</td>\n",
       "      <td>2</td>\n",
       "      <td>[No, Yes]</td>\n",
       "    </tr>\n",
       "    <tr>\n",
       "      <th>Work Zone</th>\n",
       "      <td>object</td>\n",
       "      <td>0</td>\n",
       "      <td>0.0</td>\n",
       "      <td>2</td>\n",
       "      <td>[No, Yes]</td>\n",
       "    </tr>\n",
       "    <tr>\n",
       "      <th>State</th>\n",
       "      <td>object</td>\n",
       "      <td>59</td>\n",
       "      <td>0.0058</td>\n",
       "      <td>69</td>\n",
       "      <td>[MD, VA, XX, PA, FL, DC, NY, TN, DE, WA, MA, N...</td>\n",
       "    </tr>\n",
       "    <tr>\n",
       "      <th>VehicleType</th>\n",
       "      <td>object</td>\n",
       "      <td>0</td>\n",
       "      <td>0.0</td>\n",
       "      <td>33</td>\n",
       "      <td>[02 - Automobile, 05 - Light Duty Truck, 29 - ...</td>\n",
       "    </tr>\n",
       "    <tr>\n",
       "      <th>Year</th>\n",
       "      <td>float64</td>\n",
       "      <td>6395</td>\n",
       "      <td>0.6286</td>\n",
       "      <td>276</td>\n",
       "      <td>[2008.0, 2005.0, 2002.0, 1996.0, 2001.0, 2004....</td>\n",
       "    </tr>\n",
       "    <tr>\n",
       "      <th>Make</th>\n",
       "      <td>object</td>\n",
       "      <td>48</td>\n",
       "      <td>0.0047</td>\n",
       "      <td>3129</td>\n",
       "      <td>[FORD, AUDI, TOYT, HONDA, CHEVROLET, DODGE, IN...</td>\n",
       "    </tr>\n",
       "    <tr>\n",
       "      <th>Model</th>\n",
       "      <td>object</td>\n",
       "      <td>169</td>\n",
       "      <td>0.0166</td>\n",
       "      <td>15488</td>\n",
       "      <td>[4S, CIVIC, ACCORD, IMPALA, CHARGER, TAURUS, Q...</td>\n",
       "    </tr>\n",
       "    <tr>\n",
       "      <th>Color</th>\n",
       "      <td>object</td>\n",
       "      <td>13558</td>\n",
       "      <td>1.3327</td>\n",
       "      <td>26</td>\n",
       "      <td>[BLACK, GRAY, RED, SILVER, WHITE, nan, GREEN, ...</td>\n",
       "    </tr>\n",
       "    <tr>\n",
       "      <th>Violation Type</th>\n",
       "      <td>object</td>\n",
       "      <td>0</td>\n",
       "      <td>0.0</td>\n",
       "      <td>4</td>\n",
       "      <td>[Citation, Warning, ESERO, SERO]</td>\n",
       "    </tr>\n",
       "    <tr>\n",
       "      <th>Charge</th>\n",
       "      <td>object</td>\n",
       "      <td>0</td>\n",
       "      <td>0.0</td>\n",
       "      <td>979</td>\n",
       "      <td>[13-401(h), 21-902(b1), 21-707(a), 21-1124.2(d...</td>\n",
       "    </tr>\n",
       "    <tr>\n",
       "      <th>Article</th>\n",
       "      <td>object</td>\n",
       "      <td>52059</td>\n",
       "      <td>5.1173</td>\n",
       "      <td>2</td>\n",
       "      <td>[Transportation Article, Maryland Rules, nan]</td>\n",
       "    </tr>\n",
       "    <tr>\n",
       "      <th>Contributed To Accident</th>\n",
       "      <td>object</td>\n",
       "      <td>0</td>\n",
       "      <td>0.0</td>\n",
       "      <td>2</td>\n",
       "      <td>[No, Yes]</td>\n",
       "    </tr>\n",
       "    <tr>\n",
       "      <th>Race</th>\n",
       "      <td>object</td>\n",
       "      <td>0</td>\n",
       "      <td>0.0</td>\n",
       "      <td>6</td>\n",
       "      <td>[BLACK, WHITE, ASIAN, HISPANIC, OTHER, NATIVE ...</td>\n",
       "    </tr>\n",
       "    <tr>\n",
       "      <th>Gender</th>\n",
       "      <td>object</td>\n",
       "      <td>0</td>\n",
       "      <td>0.0</td>\n",
       "      <td>3</td>\n",
       "      <td>[M, F, U]</td>\n",
       "    </tr>\n",
       "    <tr>\n",
       "      <th>Driver City</th>\n",
       "      <td>object</td>\n",
       "      <td>141</td>\n",
       "      <td>0.0139</td>\n",
       "      <td>6427</td>\n",
       "      <td>[TAKOMA PARK, DERWOOD, GERMANTOWN, ARLINGTON, ...</td>\n",
       "    </tr>\n",
       "    <tr>\n",
       "      <th>Driver State</th>\n",
       "      <td>object</td>\n",
       "      <td>11</td>\n",
       "      <td>0.0011</td>\n",
       "      <td>67</td>\n",
       "      <td>[MD, VA, DC, NY, PA, SC, FL, AK, NJ, NC, DE, M...</td>\n",
       "    </tr>\n",
       "    <tr>\n",
       "      <th>DL State</th>\n",
       "      <td>object</td>\n",
       "      <td>929</td>\n",
       "      <td>0.0913</td>\n",
       "      <td>69</td>\n",
       "      <td>[MD, VA, WV, DC, NY, XX, PA, CA, SC, IA, WA, F...</td>\n",
       "    </tr>\n",
       "    <tr>\n",
       "      <th>Arrest Type</th>\n",
       "      <td>object</td>\n",
       "      <td>0</td>\n",
       "      <td>0.0</td>\n",
       "      <td>19</td>\n",
       "      <td>[A - Marked Patrol, O - Foot Patrol, Q - Marke...</td>\n",
       "    </tr>\n",
       "    <tr>\n",
       "      <th>Geolocation</th>\n",
       "      <td>object</td>\n",
       "      <td>84814</td>\n",
       "      <td>8.337</td>\n",
       "      <td>498009</td>\n",
       "      <td>[nan, (38.9835782, -77.09310515), (39.16180981...</td>\n",
       "    </tr>\n",
       "  </tbody>\n",
       "</table>\n",
       "</div>"
      ],
      "text/plain": [
       "                        datatype missing values missing value %  \\\n",
       "Date Of Stop              object              0             0.0   \n",
       "Time Of Stop              object              0             0.0   \n",
       "Agency                    object              0             0.0   \n",
       "SubAgency                 object              0             0.0   \n",
       "Description               object              9          0.0009   \n",
       "Location                  object              2          0.0002   \n",
       "Latitude                 float64          84814           8.337   \n",
       "Longitude                float64          84814           8.337   \n",
       "Accident                  object              0             0.0   \n",
       "Belts                     object              0             0.0   \n",
       "Personal Injury           object              0             0.0   \n",
       "Property Damage           object              0             0.0   \n",
       "Fatal                     object              0             0.0   \n",
       "Commercial License        object              0             0.0   \n",
       "HAZMAT                    object              0             0.0   \n",
       "Commercial Vehicle        object              0             0.0   \n",
       "Alcohol                   object              0             0.0   \n",
       "Work Zone                 object              0             0.0   \n",
       "State                     object             59          0.0058   \n",
       "VehicleType               object              0             0.0   \n",
       "Year                     float64           6395          0.6286   \n",
       "Make                      object             48          0.0047   \n",
       "Model                     object            169          0.0166   \n",
       "Color                     object          13558          1.3327   \n",
       "Violation Type            object              0             0.0   \n",
       "Charge                    object              0             0.0   \n",
       "Article                   object          52059          5.1173   \n",
       "Contributed To Accident   object              0             0.0   \n",
       "Race                      object              0             0.0   \n",
       "Gender                    object              0             0.0   \n",
       "Driver City               object            141          0.0139   \n",
       "Driver State              object             11          0.0011   \n",
       "DL State                  object            929          0.0913   \n",
       "Arrest Type               object              0             0.0   \n",
       "Geolocation               object          84814           8.337   \n",
       "\n",
       "                        number of unique values  \\\n",
       "Date Of Stop                               1822   \n",
       "Time Of Stop                               1440   \n",
       "Agency                                        1   \n",
       "SubAgency                                     7   \n",
       "Description                               10561   \n",
       "Location                                 155034   \n",
       "Latitude                                 262305   \n",
       "Longitude                                291493   \n",
       "Accident                                      1   \n",
       "Belts                                         2   \n",
       "Personal Injury                               2   \n",
       "Property Damage                               2   \n",
       "Fatal                                         2   \n",
       "Commercial License                            2   \n",
       "HAZMAT                                        2   \n",
       "Commercial Vehicle                            2   \n",
       "Alcohol                                       2   \n",
       "Work Zone                                     2   \n",
       "State                                        69   \n",
       "VehicleType                                  33   \n",
       "Year                                        276   \n",
       "Make                                       3129   \n",
       "Model                                     15488   \n",
       "Color                                        26   \n",
       "Violation Type                                4   \n",
       "Charge                                      979   \n",
       "Article                                       2   \n",
       "Contributed To Accident                       2   \n",
       "Race                                          6   \n",
       "Gender                                        3   \n",
       "Driver City                                6427   \n",
       "Driver State                                 67   \n",
       "DL State                                     69   \n",
       "Arrest Type                                  19   \n",
       "Geolocation                              498009   \n",
       "\n",
       "                                                             unique values  \n",
       "Date Of Stop             [09/24/2013, 12/20/2012, 07/20/2012, 03/19/201...  \n",
       "Time Of Stop             [17:11:00, 00:41:00, 23:12:00, 16:10:00, 12:52...  \n",
       "Agency                                                               [MCP]  \n",
       "SubAgency                [3rd district, Silver Spring, 2nd district, Be...  \n",
       "Description              [DRIVING VEHICLE ON HIGHWAY WITH SUSPENDED REG...  \n",
       "Location                 [8804 FLOWER AVE, NORFOLK AVE /  ST ELMO AVE, ...  \n",
       "Latitude                 [nan, 38.9835782, 39.1618098166667, 38.9827307...  \n",
       "Longitude                [nan, -77.09310515, -77.25358095, -77.10075516...  \n",
       "Accident                                                              [No]  \n",
       "Belts                                                            [No, Yes]  \n",
       "Personal Injury                                                  [No, Yes]  \n",
       "Property Damage                                                  [No, Yes]  \n",
       "Fatal                                                            [No, Yes]  \n",
       "Commercial License                                               [No, Yes]  \n",
       "HAZMAT                                                           [No, Yes]  \n",
       "Commercial Vehicle                                               [No, Yes]  \n",
       "Alcohol                                                          [No, Yes]  \n",
       "Work Zone                                                        [No, Yes]  \n",
       "State                    [MD, VA, XX, PA, FL, DC, NY, TN, DE, WA, MA, N...  \n",
       "VehicleType              [02 - Automobile, 05 - Light Duty Truck, 29 - ...  \n",
       "Year                     [2008.0, 2005.0, 2002.0, 1996.0, 2001.0, 2004....  \n",
       "Make                     [FORD, AUDI, TOYT, HONDA, CHEVROLET, DODGE, IN...  \n",
       "Model                    [4S, CIVIC, ACCORD, IMPALA, CHARGER, TAURUS, Q...  \n",
       "Color                    [BLACK, GRAY, RED, SILVER, WHITE, nan, GREEN, ...  \n",
       "Violation Type                            [Citation, Warning, ESERO, SERO]  \n",
       "Charge                   [13-401(h), 21-902(b1), 21-707(a), 21-1124.2(d...  \n",
       "Article                      [Transportation Article, Maryland Rules, nan]  \n",
       "Contributed To Accident                                          [No, Yes]  \n",
       "Race                     [BLACK, WHITE, ASIAN, HISPANIC, OTHER, NATIVE ...  \n",
       "Gender                                                           [M, F, U]  \n",
       "Driver City              [TAKOMA PARK, DERWOOD, GERMANTOWN, ARLINGTON, ...  \n",
       "Driver State             [MD, VA, DC, NY, PA, SC, FL, AK, NJ, NC, DE, M...  \n",
       "DL State                 [MD, VA, WV, DC, NY, XX, PA, CA, SC, IA, WA, F...  \n",
       "Arrest Type              [A - Marked Patrol, O - Foot Patrol, Q - Marke...  \n",
       "Geolocation              [nan, (38.9835782, -77.09310515), (39.16180981...  "
      ]
     },
     "execution_count": 24,
     "metadata": {},
     "output_type": "execute_result"
    }
   ],
   "source": [
    "df = pd.read_csv(\"Traffic_Violations.csv\")\n",
    "\n",
    "# Giving the dimension information\n",
    "print('Dataframe dimensions:', df.shape)\n",
    "\n",
    "# dropping duplicates:\n",
    "print(f\"The number of rows in the dataframe are: {len(df)} \")\n",
    "df.drop_duplicates(inplace = True)\n",
    "print(f\"The number of rows in the dataframe after removing duplicates are: {len(df)} \")\n",
    "\n",
    "\n",
    "# Dataset informations, missing and unique values:\n",
    "\n",
    "tab_info=pd.DataFrame(df.dtypes).T.rename(index={0:'datatype'})\n",
    "tab_info=pd.concat([tab_info, pd.DataFrame(df.isnull().sum()).\n",
    "                        T.rename(index={0:'missing values'})], axis=0)\n",
    "percentage_missing = (df.isnull().sum()/df.shape[0]*100).round(4)\n",
    "tab_info=pd.concat([tab_info, pd.DataFrame(percentage_missing)\n",
    "                         .T.rename(index={0:'missing value %'})], axis=0)\n",
    "tab_info=pd.concat([tab_info, pd.DataFrame(df.nunique())\n",
    "                        .T.rename(index={0:'number of unique values'})], axis=0)\n",
    "df_unique = df.apply(lambda col: col.unique())\n",
    "tab_info=pd.concat([tab_info, pd.DataFrame(df_unique)\n",
    "                        .T.rename(index={0:'unique values'})], axis=0)\n",
    "                        \n",
    "tab_info.T\n"
   ]
  },
  {
   "cell_type": "markdown",
   "id": "1637e8e6",
   "metadata": {},
   "source": [
    "**date_of_stop** unless translated to seasons or weather conditions is not relevant. Dropped. \\\n",
    "**time_of_stop**: Possibly highly correlated with type of violation. Possibly convert to time zone, morning, afternoon, evening and night. Keep. \\\n",
    "**agency and sub-agency** are police agencies under whose jurisdiction the violation falls. \\\n",
    "**agency** has only one value: MCP (Maryland Capitol Police) so can be dropped. \\\n",
    "**sub-agency:** 7. Maybe let it be but possibly all agencies will follow same rules, unless some agency went rouge lol, there is not going to be much difference in how each deals with violations. Keeping in lieu of location as location zones. \\\n",
    "**description** needs to be dropped. To many unique text values (10561). There is a **charges** feaature, which translates the description into legal language, and the **article** which is applicable to the description are 2, but missing values are 52065. Possibly 'unknown' categoty. \n",
    "**location, geospatial_data** are redundant. **latitude/logitude** show same info  \\\n",
    "Checked from google maps: latitude and logitude is 38.98909808452402, -77.09736291824946 for *NORFOLK AVE / ST ELMO AVE* which is our second dataset observation, which is same as recorded \\\n",
    "However, lot's of missing values in  logitude/latitude, we can fill in missing values in logitude/latitude if we have location in words. leaving location for now, once missing values filled, it will be dropped. However, agencies are 7 and are based on location zones anway. lat/long is numerical data, so let's see if keeping it is worth it.\\\n",
    "**year** numerical values, 276 unique ones. Okay. \\\n",
    "**accident** can be dropped becuase only one unique value, that is 'No'. \\\n",
    "**driver_city**: too many, if binned then into states automatically, therefore leaving driver_state and dl_state and removing this. \\\n",
    "Undecided: First make sure everything is lower case and undescored, becuase USA has 51 states, and here **state** show 69, meaning there could be some encoding issue. I think this state refers to vehicle registration state. Same for **driver_state** and **dl_state** \n",
    "All undecided columns:\n",
    "\n",
    "```\n",
    "State                          \n",
    "VehicleType                    \n",
    "Make                         \n",
    "Model                       \n",
    "Color                         \n",
    "Charge                        \n",
    "Driver City                  \n",
    "Driver State                   \n",
    "DL State                       \n",
    "Arrest Type                    \n",
    "```"
   ]
  },
  {
   "cell_type": "code",
   "execution_count": 25,
   "id": "cfd3a9cd",
   "metadata": {},
   "outputs": [
    {
     "name": "stdout",
     "output_type": "stream",
     "text": [
      "The number of rows in the dataframe are: 1017322 \n",
      "The number of rows in the dataframe after removing duplicates are: 1010737 \n"
     ]
    }
   ],
   "source": [
    "# for column names:\n",
    "df.columns = df.columns.str.lower().str.replace(' ', '_')\n",
    "\n",
    "# dropping unneeded columns/features:\n",
    "df = df.drop(columns=[\"agency\", \"description\", \"location\", \"longitude\", \"latitude\",\"geolocation\", \"accident\"])\n",
    "\n",
    "# lowercasing and removing spaces from categorical data in the dataframe (done after size reduced):\n",
    "columns_cat = list(df.dtypes[df.dtypes == 'object'].index)\n",
    "columns_cat.remove('date_of_stop')\n",
    "columns_cat.remove('time_of_stop')\n",
    "df[columns_cat] = df[columns_cat].apply(lambda x: x.str.lower())\n",
    "df[columns_cat] = df[columns_cat].apply(lambda x: x.str.replace(' ', '_'))\n",
    "\n",
    "\n",
    "# dropping duplicates again:\n",
    "print(f\"The number of rows in the dataframe are: {len(df)} \")\n",
    "df.drop_duplicates(inplace = True)\n",
    "print(f\"The number of rows in the dataframe after removing duplicates are: {len(df)} \")\n"
   ]
  },
  {
   "cell_type": "markdown",
   "id": "30d50086",
   "metadata": {},
   "source": [
    "Looking at target variable:"
   ]
  },
  {
   "cell_type": "code",
   "execution_count": null,
   "id": "d6b60724",
   "metadata": {},
   "outputs": [
    {
     "name": "stdout",
     "output_type": "stream",
     "text": [
      "citation    0.486215\n",
      "warning     0.462300\n",
      "esero       0.050579\n",
      "sero        0.000906\n",
      "Name: violation_type, dtype: float64\n"
     ]
    },
    {
     "data": {
      "image/png": "[encoded data removed]",
      "text/plain": [
       "<Figure size 600x400 with 1 Axes>"
      ]
     },
     "metadata": {},
     "output_type": "display_data"
    }
   ],
   "source": [
    "print(df['violation_type'].value_counts(normalize= True))\n",
    "\n",
    "plt.figure(figsize=(6, 4))\n",
    "sns.histplot(df[\"violation_type\"])\n",
    "plt.ylabel('count')\n",
    "plt.xlabel('violation_type')\n",
    "plt.title('Examining if we have class imbalance:')\n",
    "plt.show()"
   ]
  },
  {
   "cell_type": "markdown",
   "id": "bbe2d2eb",
   "metadata": {},
   "source": [
    "options: \\\n",
    "1- SMOTE is out the question, it will try to create 496,695*60 = 298,071 samples out of 916 * 60 = 550 samples in the train set, to match the largest class. Also, very few samples in val and test set will be left. \\\n",
    "**2- Under sample the abundant class > can try this** \\\n",
    "3- Resample each class differently starting with 1:1 ratio of abundant and rare classes, while slowly increasing abundant class ratio. \\\n",
    "4- XGBoost will automatically take care of it to some extent, but for linear and logistic regression and RF, this class will be completely ignored during training. \\\n",
    "5- Create custom ensemble models > out of scope of project \\\n",
    "**6- K-medoid clustering, that will create 4 clusters and only take the points around center of custer is a good idea, even though it will drastically reduce the size of the dataset, possibly leaving around 900-1000 samples in each class > possible to try if memory doesn't run out** \\\n",
    "**7- Combining does make sense as it is a repair order for vehicle. SERO: Safety equipment repair order, ESORO: Safety equipment repair order. Later, another binary model can predict SERO/ESORO once we have the category overall > model chaining** \n",
    "8- **Dropping SERO for now** \n",
    "\n",
    "Will explore when about to train to see effect of changing target variable."
   ]
  },
  {
   "cell_type": "markdown",
   "id": "09c3932e",
   "metadata": {},
   "source": [
    "Cleaning up features:"
   ]
  },
  {
   "cell_type": "code",
   "execution_count": null,
   "id": "ec664103",
   "metadata": {},
   "outputs": [
    {
     "name": "stdout",
     "output_type": "stream",
     "text": [
      "51\n",
      "state           52\n",
      "dl_state        52\n",
      "driver_state    52\n",
      "dtype: int64\n"
     ]
    }
   ],
   "source": [
    "states_list = [ 'AK', 'AL', 'AR', 'AZ', 'CA', 'CO', 'CT', 'DC', 'DE', 'FL', 'GA',\n",
    "           'HI', 'IA', 'ID', 'IL', 'IN', 'KS', 'KY', 'LA', 'MA', 'MD', 'ME',\n",
    "           'MI', 'MN', 'MO', 'MS', 'MT', 'NC', 'ND', 'NE', 'NH', 'NJ', 'NM',\n",
    "           'NV', 'NY', 'OH', 'OK', 'OR', 'PA', 'RI', 'SC', 'SD', 'TN', 'TX',\n",
    "           'UT', 'VA', 'VT', 'WA', 'WI', 'WV', 'WY']\n",
    "\n",
    "\n",
    "states_list =  [i.lower() for i in states_list]\n",
    "print(len(states_list))\n",
    "\n",
    "# States are still not fixed, correcting them by comparing with lowercased 50 state name abbreivations, \n",
    "# and categorizing all others as unknows:\n",
    "state_col = [\"state\", \"dl_state\", \"driver_state\"]\n",
    "for col in state_col:\n",
    "    df[col] = df[col].apply(lambda x: x if x in states_list else \"unk\")\n",
    "\n",
    "print(df[state_col].apply(lambda col: col.nunique()))"
   ]
  },
  {
   "cell_type": "code",
   "execution_count": 108,
   "id": "092de7ad",
   "metadata": {},
   "outputs": [],
   "source": [
    "# convert all boolean columns to 0 and 1\n",
    "col_bool = [\"belts\",\"personal_injury\",\"property_damage\",\"fatal\",\"commercial_license\" ,\"hazmat\",\n",
    "\"commercial_vehicle\" ,\"alcohol\",\"work_zone\",\"contributed_to_accident\"]     \n",
    "\n",
    "for col in col_bool:\n",
    "    df[col] = (df[col] == 'yes').astype(int)"
   ]
  },
  {
   "cell_type": "code",
   "execution_count": 109,
   "id": "d57b020c",
   "metadata": {},
   "outputs": [
    {
     "data": {
      "text/plain": [
       "['summer', 'winter', 'spring', 'fall']\n",
       "Categories (4, object): ['winter', 'spring', 'summer', 'fall']"
      ]
     },
     "execution_count": 109,
     "metadata": {},
     "output_type": "execute_result"
    }
   ],
   "source": [
    "df[\"season_of_stop\"] = df[\"date_of_stop\"].str[:2]\n",
    "df[\"season_of_stop\"]= pd.to_numeric(df[\"season_of_stop\"], errors='coerce')\n",
    "df[\"season_of_stop\"]= df.season_of_stop.apply(lambda x:x if x!=12 else 0)\n",
    "b = [0,3,6,9,12]\n",
    "l = ['winter', 'spring','summer','fall']\n",
    "df[\"season_of_stop\"] = pd.cut(df[\"season_of_stop\"], bins=b, labels=l, include_lowest=True, ordered=False)\n",
    "df = df.drop(columns=\"date_of_stop\")\n",
    "df[\"season_of_stop\"].unique()"
   ]
  },
  {
   "cell_type": "code",
   "execution_count": 110,
   "id": "9022abf6",
   "metadata": {},
   "outputs": [
    {
     "data": {
      "text/plain": [
       "['eve', 'late_night', 'night', 'noon', 'morning', 'early_morning']\n",
       "Categories (6, object): ['late_night', 'early_morning', 'morning', 'noon', 'eve', 'night']"
      ]
     },
     "execution_count": 110,
     "metadata": {},
     "output_type": "execute_result"
    }
   ],
   "source": [
    "df[\"hour_of_stop\"] = df[\"time_of_stop\"].str[:2]\n",
    "df[\"hour_of_stop\"]= pd.to_numeric(df[\"hour_of_stop\"], errors='coerce')\n",
    "b = [0,4,8,12,16,20,24]\n",
    "l = ['late_night', 'early_morning','morning','noon','eve','night']\n",
    "# time_bins = [0,4,12,16,20,24]\n",
    "# time_labels = ['night','morning','afteroon','evening','night']\n",
    "df[\"hour_of_stop\"] = pd.cut(df[\"hour_of_stop\"], bins=b, labels=l, include_lowest=True, ordered=False)\n",
    "df = df.drop(columns = [\"time_of_stop\"])\n",
    "df[\"hour_of_stop\"].unique()"
   ]
  },
  {
   "cell_type": "code",
   "execution_count": 111,
   "id": "4588474d",
   "metadata": {},
   "outputs": [
    {
     "name": "stderr",
     "output_type": "stream",
     "text": [
      "C:\\Users\\Mona\\AppData\\Local\\Temp\\ipykernel_16392\\1302223209.py:2: UserWarning: \n",
      "\n",
      "`distplot` is a deprecated function and will be removed in seaborn v0.14.0.\n",
      "\n",
      "Please adapt your code to use either `displot` (a figure-level function with\n",
      "similar flexibility) or `histplot` (an axes-level function for histograms).\n",
      "\n",
      "For a guide to updating your code to use the new functions, please see\n",
      "https://gist.github.com/mwaskom/de44147ed2974457ad6372750bbe5751\n",
      "\n",
      "  sns.distplot(df[\"year\"])\n"
     ]
    },
    {
     "data": {
      "image/png": "[encoded data removed]",
      "text/plain": [
       "<Figure size 600x400 with 1 Axes>"
      ]
     },
     "metadata": {},
     "output_type": "display_data"
    }
   ],
   "source": [
    "plt.figure(figsize=(6, 4))\n",
    "sns.distplot(df[\"year\"])\n",
    "plt.ylabel('count')\n",
    "plt.xlabel('year')\n",
    "plt.title('Examining if there are any outliers/anamoly:')\n",
    "plt.show()"
   ]
  },
  {
   "cell_type": "markdown",
   "id": "80fc7b1c",
   "metadata": {},
   "source": [
    "it seems there are some outliers at 0 and 1000, doing a common sense check before using some more preprocesing after train set has been created, that is removing outlires based on 1st and 3rd quantiles, using IQR will reomove outliers after 2022, but "
   ]
  },
  {
   "cell_type": "code",
   "execution_count": 112,
   "id": "7cf7bb2c",
   "metadata": {},
   "outputs": [],
   "source": [
    "df[\"year\"] = df[\"year\"].apply(lambda x: float(\"nan\") if (x > 2022 or x < 0) else x)\n",
    "\n",
    "# now converting car from year to age:\n",
    "df[\"car_age\"] = 2022-df[\"year\"]\n",
    "df = df.drop(columns=\"year\")"
   ]
  },
  {
   "cell_type": "markdown",
   "id": "1903550d",
   "metadata": {},
   "source": [
    "Missing values will be dealt with after train test split:"
   ]
  },
  {
   "cell_type": "code",
   "execution_count": 113,
   "id": "6afd4140",
   "metadata": {},
   "outputs": [],
   "source": [
    "# saving df as csv:\n",
    "df.to_csv(\"cleaned_traffic_violations.csv\", index=False)"
   ]
  },
  {
   "cell_type": "markdown",
   "id": "bde9f45d",
   "metadata": {},
   "source": [
    "# Using cleaned dataset for further feature engineering and feature importance using train set:"
   ]
  },
  {
   "cell_type": "code",
   "execution_count": 1,
   "id": "0a63a2e6",
   "metadata": {},
   "outputs": [
    {
     "name": "stderr",
     "output_type": "stream",
     "text": [
      "c:\\Users\\Mona\\anaconda3\\envs\\mlzoomcamp\\lib\\site-packages\\xgboost\\compat.py:36: FutureWarning: pandas.Int64Index is deprecated and will be removed from pandas in a future version. Use pandas.Index with the appropriate dtype instead.\n",
      "  from pandas import MultiIndex, Int64Index\n"
     ]
    }
   ],
   "source": [
    "import numpy as np\n",
    "import pandas as pd\n",
    "import seaborn as sns\n",
    "from sklearn.model_selection import train_test_split\n",
    "from sklearn.feature_extraction import DictVectorizer\n",
    "from sklearn.ensemble import RandomForestClassifier\n",
    "import xgboost as xgb\n",
    "import matplotlib\n",
    "import matplotlib.pyplot as plt\n",
    "%matplotlib inline  \n",
    "\n",
    "# from sklearnex import patch_sklearn, config_context\n",
    "# patch_sklearn()"
   ]
  },
  {
   "cell_type": "code",
   "execution_count": 2,
   "id": "bff738f0",
   "metadata": {},
   "outputs": [
    {
     "name": "stdout",
     "output_type": "stream",
     "text": [
      "Dataframe dimensions: (1010737, 28)\n"
     ]
    }
   ],
   "source": [
    "df = pd.read_csv(\"cleaned_traffic_violations.csv\")\n",
    "\n",
    "# Giving the dimension information\n",
    "print('Dataframe dimensions:', df.shape)"
   ]
  },
  {
   "cell_type": "code",
   "execution_count": 2,
   "id": "aa9ff25e",
   "metadata": {},
   "outputs": [
    {
     "name": "stdout",
     "output_type": "stream",
     "text": [
      "Dataframe dimensions: (1010737, 28)\n"
     ]
    },
    {
     "data": {
      "text/html": [
       "<div>\n",
       "<style scoped>\n",
       "    .dataframe tbody tr th:only-of-type {\n",
       "        vertical-align: middle;\n",
       "    }\n",
       "\n",
       "    .dataframe tbody tr th {\n",
       "        vertical-align: top;\n",
       "    }\n",
       "\n",
       "    .dataframe thead th {\n",
       "        text-align: right;\n",
       "    }\n",
       "</style>\n",
       "<table border=\"1\" class=\"dataframe\">\n",
       "  <thead>\n",
       "    <tr style=\"text-align: right;\">\n",
       "      <th></th>\n",
       "      <th>datatype</th>\n",
       "      <th>missing values</th>\n",
       "      <th>missing value %</th>\n",
       "      <th>number of unique values</th>\n",
       "      <th>unique values</th>\n",
       "    </tr>\n",
       "  </thead>\n",
       "  <tbody>\n",
       "    <tr>\n",
       "      <th>subagency</th>\n",
       "      <td>object</td>\n",
       "      <td>0</td>\n",
       "      <td>0.0</td>\n",
       "      <td>7</td>\n",
       "      <td>[3rd_district,_silver_spring, 2nd_district,_be...</td>\n",
       "    </tr>\n",
       "    <tr>\n",
       "      <th>belts</th>\n",
       "      <td>int64</td>\n",
       "      <td>0</td>\n",
       "      <td>0.0</td>\n",
       "      <td>2</td>\n",
       "      <td>[0, 1]</td>\n",
       "    </tr>\n",
       "    <tr>\n",
       "      <th>personal_injury</th>\n",
       "      <td>int64</td>\n",
       "      <td>0</td>\n",
       "      <td>0.0</td>\n",
       "      <td>2</td>\n",
       "      <td>[0, 1]</td>\n",
       "    </tr>\n",
       "    <tr>\n",
       "      <th>property_damage</th>\n",
       "      <td>int64</td>\n",
       "      <td>0</td>\n",
       "      <td>0.0</td>\n",
       "      <td>2</td>\n",
       "      <td>[0, 1]</td>\n",
       "    </tr>\n",
       "    <tr>\n",
       "      <th>fatal</th>\n",
       "      <td>int64</td>\n",
       "      <td>0</td>\n",
       "      <td>0.0</td>\n",
       "      <td>2</td>\n",
       "      <td>[0, 1]</td>\n",
       "    </tr>\n",
       "    <tr>\n",
       "      <th>commercial_license</th>\n",
       "      <td>int64</td>\n",
       "      <td>0</td>\n",
       "      <td>0.0</td>\n",
       "      <td>2</td>\n",
       "      <td>[0, 1]</td>\n",
       "    </tr>\n",
       "    <tr>\n",
       "      <th>hazmat</th>\n",
       "      <td>int64</td>\n",
       "      <td>0</td>\n",
       "      <td>0.0</td>\n",
       "      <td>2</td>\n",
       "      <td>[0, 1]</td>\n",
       "    </tr>\n",
       "    <tr>\n",
       "      <th>commercial_vehicle</th>\n",
       "      <td>int64</td>\n",
       "      <td>0</td>\n",
       "      <td>0.0</td>\n",
       "      <td>2</td>\n",
       "      <td>[0, 1]</td>\n",
       "    </tr>\n",
       "    <tr>\n",
       "      <th>alcohol</th>\n",
       "      <td>int64</td>\n",
       "      <td>0</td>\n",
       "      <td>0.0</td>\n",
       "      <td>2</td>\n",
       "      <td>[0, 1]</td>\n",
       "    </tr>\n",
       "    <tr>\n",
       "      <th>work_zone</th>\n",
       "      <td>int64</td>\n",
       "      <td>0</td>\n",
       "      <td>0.0</td>\n",
       "      <td>2</td>\n",
       "      <td>[0, 1]</td>\n",
       "    </tr>\n",
       "    <tr>\n",
       "      <th>state</th>\n",
       "      <td>object</td>\n",
       "      <td>0</td>\n",
       "      <td>0.0</td>\n",
       "      <td>52</td>\n",
       "      <td>[md, va, unk, pa, fl, dc, ny, tn, de, wa, ma, ...</td>\n",
       "    </tr>\n",
       "    <tr>\n",
       "      <th>vehicletype</th>\n",
       "      <td>object</td>\n",
       "      <td>0</td>\n",
       "      <td>0.0</td>\n",
       "      <td>33</td>\n",
       "      <td>[02_-_automobile, 05_-_light_duty_truck, 29_-_...</td>\n",
       "    </tr>\n",
       "    <tr>\n",
       "      <th>make</th>\n",
       "      <td>object</td>\n",
       "      <td>48</td>\n",
       "      <td>0.0047</td>\n",
       "      <td>3129</td>\n",
       "      <td>[ford, audi, toyt, honda, chevrolet, dodge, in...</td>\n",
       "    </tr>\n",
       "    <tr>\n",
       "      <th>model</th>\n",
       "      <td>object</td>\n",
       "      <td>170</td>\n",
       "      <td>0.0168</td>\n",
       "      <td>15487</td>\n",
       "      <td>[4s, civic, accord, impala, charger, taurus, q...</td>\n",
       "    </tr>\n",
       "    <tr>\n",
       "      <th>color</th>\n",
       "      <td>object</td>\n",
       "      <td>13540</td>\n",
       "      <td>1.3396</td>\n",
       "      <td>26</td>\n",
       "      <td>[black, gray, red, silver, white, nan, green, ...</td>\n",
       "    </tr>\n",
       "    <tr>\n",
       "      <th>violation_type</th>\n",
       "      <td>object</td>\n",
       "      <td>0</td>\n",
       "      <td>0.0</td>\n",
       "      <td>4</td>\n",
       "      <td>[citation, warning, esero, sero]</td>\n",
       "    </tr>\n",
       "    <tr>\n",
       "      <th>charge</th>\n",
       "      <td>object</td>\n",
       "      <td>0</td>\n",
       "      <td>0.0</td>\n",
       "      <td>979</td>\n",
       "      <td>[13-401(h), 21-902(b1), 21-707(a), 21-1124.2(d...</td>\n",
       "    </tr>\n",
       "    <tr>\n",
       "      <th>article</th>\n",
       "      <td>object</td>\n",
       "      <td>52058</td>\n",
       "      <td>5.1505</td>\n",
       "      <td>2</td>\n",
       "      <td>[transportation_article, maryland_rules, nan]</td>\n",
       "    </tr>\n",
       "    <tr>\n",
       "      <th>contributed_to_accident</th>\n",
       "      <td>int64</td>\n",
       "      <td>0</td>\n",
       "      <td>0.0</td>\n",
       "      <td>2</td>\n",
       "      <td>[0, 1]</td>\n",
       "    </tr>\n",
       "    <tr>\n",
       "      <th>race</th>\n",
       "      <td>object</td>\n",
       "      <td>0</td>\n",
       "      <td>0.0</td>\n",
       "      <td>6</td>\n",
       "      <td>[black, white, asian, hispanic, other, native_...</td>\n",
       "    </tr>\n",
       "    <tr>\n",
       "      <th>gender</th>\n",
       "      <td>object</td>\n",
       "      <td>0</td>\n",
       "      <td>0.0</td>\n",
       "      <td>3</td>\n",
       "      <td>[m, f, u]</td>\n",
       "    </tr>\n",
       "    <tr>\n",
       "      <th>driver_city</th>\n",
       "      <td>object</td>\n",
       "      <td>141</td>\n",
       "      <td>0.014</td>\n",
       "      <td>6427</td>\n",
       "      <td>[takoma_park, derwood, germantown, arlington, ...</td>\n",
       "    </tr>\n",
       "    <tr>\n",
       "      <th>driver_state</th>\n",
       "      <td>object</td>\n",
       "      <td>0</td>\n",
       "      <td>0.0</td>\n",
       "      <td>52</td>\n",
       "      <td>[md, va, dc, ny, pa, sc, fl, ak, nj, nc, de, m...</td>\n",
       "    </tr>\n",
       "    <tr>\n",
       "      <th>dl_state</th>\n",
       "      <td>object</td>\n",
       "      <td>0</td>\n",
       "      <td>0.0</td>\n",
       "      <td>52</td>\n",
       "      <td>[md, va, wv, dc, ny, unk, pa, ca, sc, ia, wa, ...</td>\n",
       "    </tr>\n",
       "    <tr>\n",
       "      <th>arrest_type</th>\n",
       "      <td>object</td>\n",
       "      <td>0</td>\n",
       "      <td>0.0</td>\n",
       "      <td>19</td>\n",
       "      <td>[a_-_marked_patrol, o_-_foot_patrol, q_-_marke...</td>\n",
       "    </tr>\n",
       "    <tr>\n",
       "      <th>season_of_stop</th>\n",
       "      <td>object</td>\n",
       "      <td>0</td>\n",
       "      <td>0.0</td>\n",
       "      <td>4</td>\n",
       "      <td>[summer, winter, spring, fall]</td>\n",
       "    </tr>\n",
       "    <tr>\n",
       "      <th>hour_of_stop</th>\n",
       "      <td>object</td>\n",
       "      <td>0</td>\n",
       "      <td>0.0</td>\n",
       "      <td>6</td>\n",
       "      <td>[eve, late_night, night, noon, morning, early_...</td>\n",
       "    </tr>\n",
       "    <tr>\n",
       "      <th>car_age</th>\n",
       "      <td>float64</td>\n",
       "      <td>6839</td>\n",
       "      <td>0.6766</td>\n",
       "      <td>133</td>\n",
       "      <td>[14.0, 17.0, 20.0, 26.0, 21.0, 18.0, 13.0, 19....</td>\n",
       "    </tr>\n",
       "  </tbody>\n",
       "</table>\n",
       "</div>"
      ],
      "text/plain": [
       "                        datatype missing values missing value %  \\\n",
       "subagency                 object              0             0.0   \n",
       "belts                      int64              0             0.0   \n",
       "personal_injury            int64              0             0.0   \n",
       "property_damage            int64              0             0.0   \n",
       "fatal                      int64              0             0.0   \n",
       "commercial_license         int64              0             0.0   \n",
       "hazmat                     int64              0             0.0   \n",
       "commercial_vehicle         int64              0             0.0   \n",
       "alcohol                    int64              0             0.0   \n",
       "work_zone                  int64              0             0.0   \n",
       "state                     object              0             0.0   \n",
       "vehicletype               object              0             0.0   \n",
       "make                      object             48          0.0047   \n",
       "model                     object            170          0.0168   \n",
       "color                     object          13540          1.3396   \n",
       "violation_type            object              0             0.0   \n",
       "charge                    object              0             0.0   \n",
       "article                   object          52058          5.1505   \n",
       "contributed_to_accident    int64              0             0.0   \n",
       "race                      object              0             0.0   \n",
       "gender                    object              0             0.0   \n",
       "driver_city               object            141           0.014   \n",
       "driver_state              object              0             0.0   \n",
       "dl_state                  object              0             0.0   \n",
       "arrest_type               object              0             0.0   \n",
       "season_of_stop            object              0             0.0   \n",
       "hour_of_stop              object              0             0.0   \n",
       "car_age                  float64           6839          0.6766   \n",
       "\n",
       "                        number of unique values  \\\n",
       "subagency                                     7   \n",
       "belts                                         2   \n",
       "personal_injury                               2   \n",
       "property_damage                               2   \n",
       "fatal                                         2   \n",
       "commercial_license                            2   \n",
       "hazmat                                        2   \n",
       "commercial_vehicle                            2   \n",
       "alcohol                                       2   \n",
       "work_zone                                     2   \n",
       "state                                        52   \n",
       "vehicletype                                  33   \n",
       "make                                       3129   \n",
       "model                                     15487   \n",
       "color                                        26   \n",
       "violation_type                                4   \n",
       "charge                                      979   \n",
       "article                                       2   \n",
       "contributed_to_accident                       2   \n",
       "race                                          6   \n",
       "gender                                        3   \n",
       "driver_city                                6427   \n",
       "driver_state                                 52   \n",
       "dl_state                                     52   \n",
       "arrest_type                                  19   \n",
       "season_of_stop                                4   \n",
       "hour_of_stop                                  6   \n",
       "car_age                                     133   \n",
       "\n",
       "                                                             unique values  \n",
       "subagency                [3rd_district,_silver_spring, 2nd_district,_be...  \n",
       "belts                                                               [0, 1]  \n",
       "personal_injury                                                     [0, 1]  \n",
       "property_damage                                                     [0, 1]  \n",
       "fatal                                                               [0, 1]  \n",
       "commercial_license                                                  [0, 1]  \n",
       "hazmat                                                              [0, 1]  \n",
       "commercial_vehicle                                                  [0, 1]  \n",
       "alcohol                                                             [0, 1]  \n",
       "work_zone                                                           [0, 1]  \n",
       "state                    [md, va, unk, pa, fl, dc, ny, tn, de, wa, ma, ...  \n",
       "vehicletype              [02_-_automobile, 05_-_light_duty_truck, 29_-_...  \n",
       "make                     [ford, audi, toyt, honda, chevrolet, dodge, in...  \n",
       "model                    [4s, civic, accord, impala, charger, taurus, q...  \n",
       "color                    [black, gray, red, silver, white, nan, green, ...  \n",
       "violation_type                            [citation, warning, esero, sero]  \n",
       "charge                   [13-401(h), 21-902(b1), 21-707(a), 21-1124.2(d...  \n",
       "article                      [transportation_article, maryland_rules, nan]  \n",
       "contributed_to_accident                                             [0, 1]  \n",
       "race                     [black, white, asian, hispanic, other, native_...  \n",
       "gender                                                           [m, f, u]  \n",
       "driver_city              [takoma_park, derwood, germantown, arlington, ...  \n",
       "driver_state             [md, va, dc, ny, pa, sc, fl, ak, nj, nc, de, m...  \n",
       "dl_state                 [md, va, wv, dc, ny, unk, pa, ca, sc, ia, wa, ...  \n",
       "arrest_type              [a_-_marked_patrol, o_-_foot_patrol, q_-_marke...  \n",
       "season_of_stop                              [summer, winter, spring, fall]  \n",
       "hour_of_stop             [eve, late_night, night, noon, morning, early_...  \n",
       "car_age                  [14.0, 17.0, 20.0, 26.0, 21.0, 18.0, 13.0, 19....  "
      ]
     },
     "execution_count": 2,
     "metadata": {},
     "output_type": "execute_result"
    }
   ],
   "source": [
    "# Dataset informations, missing and unique values:\n",
    "tab_info=pd.DataFrame(df.dtypes).T.rename(index={0:'datatype'})\n",
    "\n",
    "tab_info=pd.concat([tab_info, pd.DataFrame(df.isnull().sum()).\n",
    "                        T.rename(index={0:'missing values'})], axis=0)\n",
    "\n",
    "percentage_missing = (df.isnull().sum()/df.shape[0]*100).round(4)\n",
    "tab_info=pd.concat([tab_info, pd.DataFrame(percentage_missing)\n",
    "                         .T.rename(index={0:'missing value %'})], axis=0)\n",
    "\n",
    "tab_info=pd.concat([tab_info, pd.DataFrame(df.nunique())\n",
    "                        .T.rename(index={0:'number of unique values'})], axis=0)\n",
    "\n",
    "df_unique = df.apply(lambda col: col.unique())\n",
    "tab_info=pd.concat([tab_info, pd.DataFrame(df_unique)\n",
    "                        .T.rename(index={0:'unique values'})], axis=0)\n",
    "\n",
    "tab_info.T\n"
   ]
  },
  {
   "cell_type": "code",
   "execution_count": 3,
   "id": "de5f189f",
   "metadata": {},
   "outputs": [
    {
     "name": "stdout",
     "output_type": "stream",
     "text": [
      "citation    0.486215\n",
      "warning     0.462300\n",
      "ero         0.051485\n",
      "Name: violation_type, dtype: float64\n"
     ]
    },
    {
     "data": {
      "text/plain": [
       "array([0, 1, 2])"
      ]
     },
     "execution_count": 3,
     "metadata": {},
     "output_type": "execute_result"
    }
   ],
   "source": [
    "# # Safety Equipment Repair Orders (SERO)\n",
    "# # Electric Vehicle safety equipment repair orders \n",
    "\n",
    "# # # To delete SERO:\n",
    "# df = df[df.violation_type!= 'sero']\n",
    "\n",
    "# # # Combine SERO and ESERO into ERO\n",
    "df['violation_type'] = df['violation_type'].apply(lambda x:x if (x!=\"sero\" and x!=\"esero\") else \"ero\")\n",
    "print(df.violation_type.value_counts(normalize=True))\n",
    "\n",
    "# label encoding target first:\n",
    "from sklearn.preprocessing import LabelEncoder\n",
    "\n",
    "target = df[\"violation_type\"]\n",
    "le = LabelEncoder()\n",
    "target = le.fit_transform(target)\n",
    "# list(le.classes_)\n",
    "# le.transform([\"tokyo\", \"tokyo\", \"paris\"])\n",
    "# list(le.inverse_transform([2, 2, 1]))\n",
    "np.unique(target)"
   ]
  },
  {
   "cell_type": "code",
   "execution_count": 4,
   "id": "d59399cc",
   "metadata": {},
   "outputs": [
    {
     "data": {
      "text/plain": [
       "Index(['subagency', 'belts', 'personal_injury', 'property_damage', 'fatal',\n",
       "       'commercial_license', 'hazmat', 'commercial_vehicle', 'alcohol',\n",
       "       'work_zone', 'state', 'vehicletype', 'make', 'model', 'color', 'charge',\n",
       "       'article', 'contributed_to_accident', 'race', 'gender', 'driver_city',\n",
       "       'driver_state', 'dl_state', 'arrest_type', 'season_of_stop',\n",
       "       'hour_of_stop', 'car_age'],\n",
       "      dtype='object')"
      ]
     },
     "execution_count": 4,
     "metadata": {},
     "output_type": "execute_result"
    }
   ],
   "source": [
    "features = df.drop(columns = \"violation_type\").copy()\n",
    "features.columns"
   ]
  },
  {
   "cell_type": "code",
   "execution_count": 41,
   "id": "4d8809e3",
   "metadata": {},
   "outputs": [],
   "source": [
    "# do train test split here:\n",
    "\n",
    "from sklearn.model_selection import train_test_split\n",
    "\n",
    "x_train_full, x_test, y_train_full, y_test = train_test_split(features, target, test_size=0.2, random_state=42, stratify=target)\n",
    "x_train, x_val, y_train, y_val = train_test_split(x_train_full, y_train_full, test_size=0.25, random_state=42, stratify=y_train_full)\n",
    "\n",
    "splits = [x_train_full, x_train, x_val, x_test]\n",
    "for split in splits:\n",
    "        # split.reset_index(inplace = True)\n",
    "        split.reset_index(drop=True, inplace=True)\n",
    "\n",
    "# splits = [y_train_full,y_train, y_val, y_test]\n",
    "# for split in splits:\n",
    "#          split.reset_index(drop = True, inplace = True)"
   ]
  },
  {
   "cell_type": "markdown",
   "id": "c5943a91",
   "metadata": {},
   "source": [
    "fixing car age outliers based on train set:"
   ]
  },
  {
   "cell_type": "code",
   "execution_count": 42,
   "id": "60fa82e6",
   "metadata": {},
   "outputs": [
    {
     "name": "stdout",
     "output_type": "stream",
     "text": [
      "IQR value for car_age is: 9.0\n",
      "-1.5 34.5\n"
     ]
    },
    {
     "name": "stderr",
     "output_type": "stream",
     "text": [
      "C:\\Users\\Mona\\AppData\\Local\\Temp\\ipykernel_7340\\238537641.py:16: UserWarning: \n",
      "\n",
      "`distplot` is a deprecated function and will be removed in seaborn v0.14.0.\n",
      "\n",
      "Please adapt your code to use either `displot` (a figure-level function with\n",
      "similar flexibility) or `histplot` (an axes-level function for histograms).\n",
      "\n",
      "For a guide to updating your code to use the new functions, please see\n",
      "https://gist.github.com/mwaskom/de44147ed2974457ad6372750bbe5751\n",
      "\n",
      "  sns.distplot(x_train[\"car_age\"])\n"
     ]
    },
    {
     "data": {
      "image/png": "[encoded data removed]",
      "text/plain": [
       "<Figure size 600x400 with 1 Axes>"
      ]
     },
     "metadata": {},
     "output_type": "display_data"
    }
   ],
   "source": [
    "'''\n",
    "since the curve besides the outliers look normal, we'll use the fact that most observations will lie within three standard deviations. Anything outside is an outlier:\n",
    "'''\n",
    "Q1 = x_train[\"car_age\"].quantile(0.25)\n",
    "Q3 = x_train[\"car_age\"].quantile(0.75)\n",
    "IQR = Q3 - Q1\n",
    "print(\"IQR value for car_age is: %s\" %IQR)\n",
    "\n",
    "lower_range = Q1 - 1.5 * IQR\n",
    "upper_range = Q3 + 1.5 * IQR\n",
    "print(lower_range, upper_range)\n",
    "\n",
    "x_train[\"car_age\"] = x_train[\"car_age\"].apply(lambda x:x if (x >= lower_range and x <= upper_range) else float(\"nan\"))\n",
    "\n",
    "plt.figure(figsize=(6, 4))\n",
    "sns.distplot(x_train[\"car_age\"])\n",
    "plt.ylabel('count')\n",
    "plt.xlabel('car age')\n",
    "plt.title('Examining if outliers have been fixed:')\n",
    "plt.show()"
   ]
  },
  {
   "cell_type": "markdown",
   "id": "fe3fbed2",
   "metadata": {},
   "source": [
    "\n",
    "\n",
    "data is pretty much normal so no log tranform or standard scaling "
   ]
  },
  {
   "cell_type": "code",
   "execution_count": 43,
   "id": "e311de34",
   "metadata": {},
   "outputs": [],
   "source": [
    "x_val[\"car_age\"] = df.car_age.apply(lambda x: float(\"nan\") if (x > upper_range or x < lower_range) else x)\n",
    "x_test[\"car_age\"] = df.car_age.apply(lambda x: float(\"nan\") if (x > upper_range or x < lower_range) else x)"
   ]
  },
  {
   "cell_type": "code",
   "execution_count": 44,
   "id": "3bd775b1",
   "metadata": {},
   "outputs": [],
   "source": [
    "from pandas.api.types import is_object_dtype\n",
    "from pandas.api.types import is_numeric_dtype\n",
    "\n",
    "# running this on df, as missing values MIGHT end up only in one of the splits\n",
    "all_missing_columns = df.columns[df.isnull().any()].tolist()\n",
    "\n",
    "\n",
    "for col in all_missing_columns:\n",
    "    if (is_object_dtype(df[col])):\n",
    "        x_train[col].fillna(x_train[col].mode()[0], inplace=True)\n",
    "        x_val[col].fillna(x_train[col].mode()[0], inplace=True)\n",
    "        x_test[col].fillna(x_train[col].mode()[0], inplace=True)\n",
    "\n",
    "    if (is_numeric_dtype(df[col])):\n",
    "        x_train[col].fillna(x_train[col].median(), inplace=True)\n",
    "        x_val[col].fillna(x_train[col].median(), inplace=True)\n",
    "        x_test[col].fillna(x_train[col].median(), inplace=True)\n"
   ]
  },
  {
   "cell_type": "markdown",
   "id": "c69af269",
   "metadata": {},
   "source": [
    "REDUCE CARDINALITY!"
   ]
  },
  {
   "cell_type": "code",
   "execution_count": 10,
   "id": "50ce0fff",
   "metadata": {},
   "outputs": [
    {
     "name": "stdout",
     "output_type": "stream",
     "text": [
      "vehicletype has a total of 2 categories instead of 33 categories after dimensionality reduction\n",
      "\n",
      "make has a total of 18 categories instead of 2570 categories after dimensionality reduction\n",
      "\n",
      "model has a total of 88 categories instead of 12578 categories after dimensionality reduction\n",
      "\n",
      "color has a total of 7 categories instead of 26 categories after dimensionality reduction\n",
      "\n",
      "charge has a total of 29 categories instead of 908 categories after dimensionality reduction\n",
      "\n",
      "driver_city has a total of 15 categories instead of 5393 categories after dimensionality reduction\n",
      "\n",
      "driver_state has a total of 2 categories instead of 52 categories after dimensionality reduction\n",
      "\n",
      "dl_state has a total of 2 categories instead of 52 categories after dimensionality reduction\n",
      "\n",
      "arrest_type has a total of 2 categories instead of 19 categories after dimensionality reduction\n",
      "\n"
     ]
    }
   ],
   "source": [
    "# help taken from: https://towardsdatascience.com/dealing-with-features-that-have-high-cardinality-1c9212d7ff1b\n",
    "from collections import Counter\n",
    "\n",
    "def cumulatively_categorise(column,threshold_cumulative_freq=0.75):\n",
    "\n",
    "  threshold_value=int(threshold_cumulative_freq*len(column))\n",
    "  categories_list=[]\n",
    "  s=0\n",
    "  counts=Counter(column)\n",
    "\n",
    "  for i,j in counts.most_common():\n",
    "    s+=dict(counts)[i]\n",
    "    categories_list.append(i)\n",
    "    if (s >= threshold_value):\n",
    "      break\n",
    "\n",
    "  categories_list.append('other')\n",
    "  new_column = column.apply(lambda x: x if (x in categories_list) else 'other')\n",
    "  return new_column, categories_list\n",
    "\n",
    "categorical_columns = x_train.select_dtypes(include=[\"object_\", \"category\"]).columns\n",
    "\n",
    "\n",
    "for col in categorical_columns:\n",
    "  initial_categories = len(x_train[col].unique().tolist())\n",
    "\n",
    "  if (initial_categories > 8 and initial_categories < 35):\n",
    "\n",
    "    x_train[col], categories_in_column = cumulatively_categorise(x_train[col], threshold_cumulative_freq= 0.8)\n",
    "    print (\"%s has a total of %d categories instead of %d categories after dimensionality reduction\\n\" \n",
    "          %(col, len(categories_in_column), initial_categories))\n",
    "    \n",
    "    x_val[col] = x_val[col] .apply(lambda x: x if (x in categories_in_column) else 'other')\n",
    "    x_test[col] = x_test[col] .apply(lambda x: x if (x in categories_in_column) else 'other')\n",
    "\n",
    "  if initial_categories >= 35:\n",
    "\n",
    "      x_train[col], categories_in_column = cumulatively_categorise(x_train[col], threshold_cumulative_freq= 0.7)\n",
    "      print (\"%s has a total of %d categories instead of %d categories after dimensionality reduction\\n\" \n",
    "            %(col, len(categories_in_column), initial_categories))\n",
    "      \n",
    "      x_val[col] = x_val[col] .apply(lambda x: x if (x in categories_in_column) else 'other')\n",
    "      x_test[col] = x_test[col] .apply(lambda x: x if (x in categories_in_column) else 'other')\n",
    "    \n",
    "        \n",
    "  \n",
    "\n",
    "\n",
    "# i think select kbest will automaically deal later, just threshold at some cumulative freq, not number of categorical_features\n",
    "# as llarrge cardinality, categories smaller, even top 20 won't capture"
   ]
  },
  {
   "cell_type": "markdown",
   "id": "57a87728",
   "metadata": {},
   "source": [
    "Model still has too many categories, so repeating again once:"
   ]
  },
  {
   "cell_type": "code",
   "execution_count": 11,
   "id": "3e64df49",
   "metadata": {},
   "outputs": [
    {
     "name": "stdout",
     "output_type": "stream",
     "text": [
      "model has a total of 5 categories instead of 88 categories after dimensionality reduction\n",
      "\n"
     ]
    }
   ],
   "source": [
    "initial_categories = len(x_train[\"model\"].unique().tolist())\n",
    "x_train[\"model\"], categories_in_column = cumulatively_categorise(x_train[\"model\"], threshold_cumulative_freq= 0.5)\n",
    "print (\"%s has a total of %d categories instead of %d categories after dimensionality reduction\\n\" \n",
    "            %(\"model\", len(categories_in_column), initial_categories))\n",
    "      \n",
    "x_val[\"model\"] = x_val[\"model\"] .apply(lambda x: x if (x in categories_in_column) else 'other')\n",
    "x_test[\"model\"] = x_test[\"model\"] .apply(lambda x: x if (x in categories_in_column) else 'other')"
   ]
  },
  {
   "cell_type": "markdown",
   "id": "bf63ecbf",
   "metadata": {},
   "source": [
    "The thresholds were determined through hit and trial, as to not drastically reduce categories for high caridnality categories, and to reduce the very high cardinality to keep total OHE features <100"
   ]
  },
  {
   "cell_type": "code",
   "execution_count": 12,
   "id": "f47401d5",
   "metadata": {},
   "outputs": [
    {
     "data": {
      "text/plain": [
       "111"
      ]
     },
     "execution_count": 12,
     "metadata": {},
     "output_type": "execute_result"
    }
   ],
   "source": [
    "# calculating total categorical features after OHE: \n",
    "# car_age values which are numeric, \n",
    "# and 10 columns are binary so they won't be OHE either (insight using df.info()), and the unique values of binary columns is\n",
    "# 10*2\n",
    "x_train.nunique().sum() - x_train.car_age.nunique() - 20"
   ]
  },
  {
   "cell_type": "markdown",
   "id": "14757f23",
   "metadata": {},
   "source": [
    "After cardinality reduction, let's look at our features now:"
   ]
  },
  {
   "cell_type": "code",
   "execution_count": 26,
   "id": "6ef0feee",
   "metadata": {},
   "outputs": [
    {
     "data": {
      "image/png": "[encoded data removed]",
      "text/plain": [
       "<Figure size 1600x2000 with 21 Axes>"
      ]
     },
     "metadata": {},
     "output_type": "display_data"
    }
   ],
   "source": [
    "# Let's see the kinds of violations\n",
    "f, axarr = plt.subplots(7, 3, figsize=(16, 20))\n",
    "f.subplots_adjust(hspace=1)\n",
    "locs, labels = plt.xticks()\n",
    "plt.setp(labels, rotation=45)\n",
    "\n",
    "colours = ['salmon','cyan','yellow']\n",
    "k=0\n",
    "columns_to_plot = x_train.columns.tolist()\n",
    "columns_to_plot.remove(\"car_age\")\n",
    "\n",
    "for i in range (7):\n",
    "    for j in range (3):\n",
    "        plot = sns.countplot(x = x_train[columns_to_plot[k]], ax=axarr[i][j], color=colours[j])\n",
    "        # axarr[i][j].set_title(columns_to_plot[k], fontsize=10)\n",
    "        plt.setp(plot.get_xticklabels(), rotation=90, fontsize=10)\n",
    "        k +=1\n"
   ]
  },
  {
   "cell_type": "markdown",
   "id": "b71cd56e",
   "metadata": {},
   "source": [
    "feature importance without fixing missing values yet:\n",
    "nopes, won't work. Need to do within pipeline"
   ]
  },
  {
   "cell_type": "markdown",
   "id": "71350ca5",
   "metadata": {},
   "source": [
    "The results are not very promising, so we take a look at feature importance, to reduce some features to see if there can be some improvment:"
   ]
  },
  {
   "cell_type": "code",
   "execution_count": 27,
   "id": "f28d544e",
   "metadata": {},
   "outputs": [],
   "source": [
    "from sklearn.preprocessing import OneHotEncoder\n",
    "\n",
    "enc = OneHotEncoder(handle_unknown='ignore')\n",
    "# X = [['Male', 1], ['Female', 3], ['Female', 2]]\n",
    "categorical_columns = x_train.select_dtypes(include=[\"object_\", \"category\"]).columns\n",
    "x_train_categorical = x_train[categorical_columns]\n",
    "x_train_OH = enc.fit_transform(x_train_categorical)\n",
    "\n",
    "# enc.categories_\n",
    "# enc.transform([['Female', 1], ['Male', 4]]).toarray()\n",
    "# enc.inverse_transform([[0, 1, 1, 0, 0], [0, 0, 0, 1, 0]])\n",
    "# enc.get_feature_names_out(['gender', 'group'])\n"
   ]
  },
  {
   "cell_type": "code",
   "execution_count": 28,
   "id": "b2e3612e",
   "metadata": {},
   "outputs": [
    {
     "data": {
      "text/plain": [
       "{'charge_64*': 0.06353242890329676,\n",
       " 'charge_55*': 0.028852486419901208,\n",
       " 'charge_16-101(a)': 0.013992527711924916,\n",
       " 'charge_16-303(c)': 0.0131592881579248,\n",
       " 'charge_16-303(h)': 0.011765303087381392,\n",
       " 'charge_21-201(a1)': 0.009401659887170219,\n",
       " 'charge_21-902(b1)': 0.009195215955300685,\n",
       " 'charge_21-902(a1)': 0.008854561289935734,\n",
       " 'charge_21-801.1': 0.007900614694317215,\n",
       " 'state_other': 0.006999827743895408,\n",
       " 'state_md': 0.006999827743895407,\n",
       " 'arrest_type_a_-_marked_patrol': 0.006482598174385443,\n",
       " 'arrest_type_other': 0.006482598174385443,\n",
       " 'charge_21-707(a)': 0.005310853510896482,\n",
       " 'charge_13-409(b)': 0.005020643000841041,\n",
       " 'charge_21-801(b)': 0.004600878624144959,\n",
       " 'charge_22-201.1': 0.0044218441340097454,\n",
       " 'charge_22-226(a)': 0.0042855212281022416,\n",
       " 'charge_22-204(f)': 0.00427292980174164,\n",
       " 'hour_of_stop_night': 0.004203631537456162,\n",
       " 'article_maryland_rules': 0.003920653305792444,\n",
       " 'article_transportation_article': 0.003920653305792443,\n",
       " 'race_hispanic': 0.0038810893960333423,\n",
       " 'charge_22-412.3(b)': 0.0035349125173993745,\n",
       " 'charge_21-801(a)': 0.0032727470002413377,\n",
       " 'hour_of_stop_late_night': 0.0031230172591691086,\n",
       " 'charge_16-112(c)': 0.003026731800955508,\n",
       " 'dl_state_md': 0.0029839725205747947,\n",
       " 'dl_state_other': 0.0029839725205747947,\n",
       " 'driver_state_other': 0.0028587147871321815,\n",
       " 'driver_state_md': 0.0028587147871321807,\n",
       " 'gender_m': 0.0028173190127420006,\n",
       " 'gender_f': 0.0026722313090850602,\n",
       " 'charge_other': 0.002349175125947664,\n",
       " 'charge_13-401(h)': 0.002067885684077994,\n",
       " 'race_white': 0.0019959660267786297,\n",
       " 'charge_13-411(a)': 0.0019807662963206574,\n",
       " 'charge_21-901.1(b)': 0.0019241517926744424,\n",
       " 'subagency_2nd_district,_bethesda': 0.0018334634625922011,\n",
       " 'charge_13-411(f)': 0.0016853002966918593,\n",
       " 'subagency_3rd_district,_silver_spring': 0.0015979225872480365,\n",
       " 'subagency_6th_district,_gaithersburg_/_montgomery_village': 0.0015035048336517129,\n",
       " 'subagency_1st_district,_rockville': 0.0013443775038384717,\n",
       " 'charge_16-116(a)': 0.0012886431249354985,\n",
       " 'make_toyt': 0.0012771609626676776,\n",
       " 'charge_21-1124.2(d2)': 0.001212162950414583,\n",
       " 'charge_21-204(b)': 0.0011974005400758013,\n",
       " 'model_other': 0.0011537137928428198,\n",
       " 'charge_13-411(d)': 0.0009847075414559023,\n",
       " 'charge_21-309(b)': 0.0008935605650960757,\n",
       " 'model_4s': 0.0007738415601421383,\n",
       " 'driver_city_hyattsville': 0.000754799021449315,\n",
       " 'driver_city_washington': 0.000746154420916639,\n",
       " 'charge_21-202(h1)': 0.0006896533395800465,\n",
       " 'make_hond': 0.0006619569185706865,\n",
       " 'subagency_headquarters_and_special_operations': 0.0006049273392108138,\n",
       " 'hour_of_stop_early_morning': 0.000604079668374842,\n",
       " 'race_asian': 0.0005924290487784277,\n",
       " 'model_tk': 0.0005782504736205445,\n",
       " 'driver_city_other': 0.000509556971873798,\n",
       " 'driver_city_silver_spring': 0.0005033564991491352,\n",
       " 'gender_u': 0.00044140298144839394,\n",
       " 'make_chevy': 0.0004090304825348969,\n",
       " 'race_other': 0.00038868112362214387,\n",
       " 'subagency_5th_district,_germantown': 0.0003794751263117846,\n",
       " 'vehicletype_02_-_automobile': 0.0003166512276105912,\n",
       " 'vehicletype_other': 0.0003166512276105912,\n",
       " 'hour_of_stop_eve': 0.0003062852255655141,\n",
       " 'make_honda': 0.0002821077262551014,\n",
       " 'hour_of_stop_noon': 0.00026263760070608516,\n",
       " 'make_nissan': 0.0002530940986958767,\n",
       " 'make_dodge': 0.00021445277827894516,\n",
       " 'make_chev': 0.00020063733243897222,\n",
       " 'make_niss': 0.00018853300612810785,\n",
       " 'driver_city_gaithersburg': 0.00018046845481863721,\n",
       " 'driver_city_potomac': 0.00015872864163937392,\n",
       " 'color_silver': 0.00015773248040986537,\n",
       " 'hour_of_stop_morning': 0.00015755831195394393,\n",
       " 'season_of_stop_winter': 0.00015752220316758714,\n",
       " 'color_gray': 0.00015711903908717517,\n",
       " 'race_black': 0.00015609174343189647,\n",
       " 'color_black': 0.00015334304373467583,\n",
       " 'driver_city_montgomery_village': 0.00015051120958233487,\n",
       " 'make_chevrolet': 0.00014578452943001668,\n",
       " 'driver_city_germantown': 0.00013564322260493575,\n",
       " 'make_lexus': 0.0001244903338218713,\n",
       " 'driver_city_clarksburg': 0.00011198152100798907,\n",
       " 'color_other': 0.0001108209373720595,\n",
       " 'subagency_4th_district,_wheaton': 0.00010214571822016877,\n",
       " 'make_bmw': 8.589258682553669e-05,\n",
       " 'make_acura': 8.509571725683063e-05,\n",
       " 'make_toyota': 8.371174784397098e-05,\n",
       " 'make_ford': 7.606726138497527e-05,\n",
       " 'season_of_stop_fall': 7.065185901661969e-05,\n",
       " 'driver_city_bethesda': 6.643847454790037e-05,\n",
       " 'color_white': 5.280261735345765e-05,\n",
       " 'driver_city_laurel': 5.1790578656016675e-05,\n",
       " 'season_of_stop_summer': 4.977934548108104e-05,\n",
       " 'season_of_stop_spring': 4.753945134056137e-05,\n",
       " 'driver_city_olney': 4.7107575232165945e-05,\n",
       " 'driver_city_rockville': 4.5967091772184526e-05,\n",
       " 'driver_city_takoma_park': 3.71234451119291e-05,\n",
       " 'model_accord': 3.0485526427379353e-05,\n",
       " 'make_other': 2.5926091119121697e-05,\n",
       " 'race_native_american': 2.3853803986479067e-05,\n",
       " 'make_jeep': 1.5036196911438066e-05,\n",
       " 'color_red': 8.2107933152345e-06,\n",
       " 'make_merz': 8.183196982275258e-06,\n",
       " 'make_hyundai': 7.4809172264048845e-06,\n",
       " 'driver_city_frederick': 2.769620973853623e-06,\n",
       " 'color_blue': 2.6540952118049577e-06}"
      ]
     },
     "execution_count": 28,
     "metadata": {},
     "output_type": "execute_result"
    }
   ],
   "source": [
    "from sklearn.feature_selection import mutual_info_classif  \n",
    "# < this used for feature selection, mutual info score is a matrix\n",
    "#only for sicrete, boolean, or OHE featues. Mutual info score on others\n",
    "# # later in selectk, ill use mutual info classif with one hot encoded features\n",
    "\n",
    "scores = {}\n",
    "scores= mutual_info_classif(x_train_OH, y_train, random_state=1)\n",
    "cat_columns = enc.get_feature_names_out(x_train_categorical.columns)\n",
    "scores_with_feat_names = dict(zip(cat_columns, scores))\n",
    "sorted_feat_imp = dict(sorted(scores_with_feat_names.items(), key=lambda item: item[1], reverse = True))\n",
    "sorted_feat_imp"
   ]
  },
  {
   "cell_type": "markdown",
   "id": "2d50b048",
   "metadata": {},
   "source": [
    "none has 0 value to indicate no relation to target variable, but some features can be eliminated since their mutual_info_classif score is very small. However, instead of manual removal (which is hard todo once OHE is done, we'll use sklearn pipeline to bring all the steps in phase 2 together.)"
   ]
  },
  {
   "cell_type": "code",
   "execution_count": 30,
   "id": "c1d55f34",
   "metadata": {},
   "outputs": [
    {
     "data": {
      "text/plain": [
       "0.05339479403969725"
      ]
     },
     "execution_count": 30,
     "metadata": {},
     "output_type": "execute_result"
    }
   ],
   "source": [
    "y_train_series = pd.Series(y_train) \n",
    "correlation = x_train[\"car_age\"].corr(y_train_series)\n",
    "abs(correlation)\n"
   ]
  },
  {
   "cell_type": "markdown",
   "id": "ef4dea44",
   "metadata": {},
   "source": [
    "The Pearson correlation measures the strength of the linear relationship between two variables. It has a value between -1 to 1, with a value of -1 meaning a total negative linear correlation, 0 being no correlation, and + 1 meaning a total positive correlation."
   ]
  },
  {
   "cell_type": "markdown",
   "id": "cdf83392",
   "metadata": {},
   "source": [
    "for now, we go ahead and get a baseline result with all features, and later in sklearn pipeline, we'll select best k features based on mutual info classification\n",
    "\n",
    "need to use OHE in pipeline, instead of this to sep categorical variables and to rank them\n"
   ]
  },
  {
   "cell_type": "markdown",
   "id": "7be89ec5",
   "metadata": {},
   "source": [
    "# Final model training and selecting using sklearn pipeline"
   ]
  },
  {
   "cell_type": "markdown",
   "id": "45f1eb46",
   "metadata": {},
   "source": [
    "now we'll use sklearn pipelines to automate both caridnality reduction? no. cuz min freq or max class don't cut it, so just OneHotEncoder\n",
    "and also, feature selection. Select best 100-150 features. "
   ]
  },
  {
   "cell_type": "code",
   "execution_count": 21,
   "id": "0a63a2e6",
   "metadata": {},
   "outputs": [],
   "source": [
    "import numpy as np\n",
    "import pandas as pd\n",
    "import seaborn as sns\n",
    "import matplotlib\n",
    "import matplotlib.pyplot as plt\n",
    "%matplotlib inline  \n",
    "from sklearn.model_selection import train_test_split\n",
    "from sklearn.feature_extraction import DictVectorizer\n",
    "\n",
    "# from sklearnex import patch_sklearn, config_context\n",
    "# patch_sklearn()"
   ]
  },
  {
   "cell_type": "code",
   "execution_count": 22,
   "id": "bff738f0",
   "metadata": {},
   "outputs": [
    {
     "name": "stdout",
     "output_type": "stream",
     "text": [
      "Dataframe dimensions: (1010737, 28)\n"
     ]
    }
   ],
   "source": [
    "df = pd.read_csv(\"cleaned_traffic_violations.csv\")\n",
    "\n",
    "# Giving the dimension information\n",
    "print('Dataframe dimensions:', df.shape)"
   ]
  },
  {
   "cell_type": "code",
   "execution_count": 23,
   "id": "de5f189f",
   "metadata": {},
   "outputs": [
    {
     "name": "stdout",
     "output_type": "stream",
     "text": [
      "citation    0.486215\n",
      "warning     0.462300\n",
      "ero         0.051485\n",
      "Name: violation_type, dtype: float64\n",
      "citation    0.486215\n",
      "warning     0.462300\n",
      "ero         0.051485\n",
      "Name: violation_type, dtype: float64\n"
     ]
    },
    {
     "data": {
      "image/png": "[encoded data removed]",
      "text/plain": [
       "<Figure size 600x400 with 1 Axes>"
      ]
     },
     "metadata": {},
     "output_type": "display_data"
    }
   ],
   "source": [
    "from sklearn.preprocessing import LabelEncoder\n",
    "\n",
    "# Safety Equipment Repair Orders (SERO)\n",
    "# Electric Vehicle safety equipment repair orders \n",
    "\n",
    "# Option 1: To delete SERO:\n",
    "# df = df[df.violation_type!= 'sero']\n",
    "\n",
    "# Option 2: To Combine SERO and ESERO into ERO\n",
    "df['violation_type'] = df['violation_type'].apply(lambda x:x if (x!=\"sero\" and x!=\"esero\") else \"ero\")\n",
    "print(df.violation_type.value_counts(normalize=True))\n",
    "\n",
    "plt.figure(figsize=(6, 4))\n",
    "sns.histplot(df[\"violation_type\"])\n",
    "plt.ylabel('count')\n",
    "plt.xlabel('violation_type')\n",
    "plt.title('Examining if we have class imbalance:')\n",
    "plt.show()\n",
    "\n"
   ]
  },
  {
   "cell_type": "code",
   "execution_count": null,
   "id": "43261b49",
   "metadata": {},
   "outputs": [],
   "source": [
    "target = df[\"violation_type\"]\n",
    "le = LabelEncoder()\n",
    "target = le.fit_transform(target)\n",
    "\n",
    "# list(le.classes_)\n",
    "# le.transform([\"tokyo\", \"tokyo\", \"paris\"])\n",
    "# list(le.inverse_transform([2, 2, 1]))\n",
    "np.unique(target)\n"
   ]
  },
  {
   "cell_type": "code",
   "execution_count": 4,
   "id": "d59399cc",
   "metadata": {},
   "outputs": [
    {
     "data": {
      "text/plain": [
       "Index(['subagency', 'belts', 'personal_injury', 'property_damage', 'fatal',\n",
       "       'commercial_license', 'hazmat', 'commercial_vehicle', 'alcohol',\n",
       "       'work_zone', 'state', 'vehicletype', 'make', 'model', 'color', 'charge',\n",
       "       'article', 'contributed_to_accident', 'race', 'gender', 'driver_city',\n",
       "       'driver_state', 'dl_state', 'arrest_type', 'season_of_stop',\n",
       "       'hour_of_stop', 'car_age'],\n",
       "      dtype='object')"
      ]
     },
     "execution_count": 4,
     "metadata": {},
     "output_type": "execute_result"
    }
   ],
   "source": [
    "features = df.drop(columns = \"violation_type\").copy()\n",
    "features.columns"
   ]
  },
  {
   "cell_type": "code",
   "execution_count": 5,
   "id": "295566d2",
   "metadata": {},
   "outputs": [],
   "source": [
    "x_train_full, x_test, y_train_full, y_test = train_test_split(features, target, test_size=0.2, random_state=42, stratify=target)\n",
    "x_train, x_val, y_train, y_val = train_test_split(x_train_full, y_train_full, test_size=0.25, random_state=42, stratify=y_train_full)\n",
    "\n",
    "splits = [x_train_full, x_train, x_val, x_test]\n",
    "for split in splits:\n",
    "        split.reset_index(drop=True, inplace=True)"
   ]
  },
  {
   "cell_type": "code",
   "execution_count": 6,
   "id": "b6c6cb56",
   "metadata": {},
   "outputs": [],
   "source": [
    "from sklearn.impute import SimpleImputer\n",
    "from sklearn.compose import ColumnTransformer\n",
    "from sklearn.pipeline import Pipeline\n",
    "from sklearn.preprocessing import OneHotEncoder, LabelEncoder, OrdinalEncoder, RobustScaler \n",
    "from sklearn.feature_selection import SelectKBest, mutual_info_classif\n",
    "import xgboost as xgb\n",
    "\n",
    "\n",
    "# def create_model_pipeline(use_cat_OHE = False, use_cat_OE = False, use_dmatrix = False):\n",
    "def create_model_pipeline(use_cat_OHE = False, use_cat_OE = False):\n",
    "\n",
    "    categorical_columns = x_train_full.select_dtypes(include=[\"object_\", \"category\"]).columns.tolist()\n",
    "    boolean_columns = x_train_full.select_dtypes(include=[\"number\"]).columns.tolist()\n",
    "    boolean_columns.remove(\"car_age\")\n",
    "    numerical_columns = [\"car_age\"]\n",
    "\n",
    "    boolean_transformer = SimpleImputer(strategy='most_frequent') \n",
    "\n",
    "    numerical_imputer = SimpleImputer(strategy=\"mean\")\n",
    "    numerical_robust_scaler = RobustScaler()\n",
    "    numerical_transformer = Pipeline(\n",
    "            steps = [(\"numerical_imputer\", numerical_imputer),(\"scaler\", numerical_robust_scaler),],\n",
    "            verbose = True\n",
    "    )\n",
    "\n",
    "    categorical_imputer = SimpleImputer(strategy='most_frequent')\n",
    "    categorical_OHE_encoder = OneHotEncoder(max_categories = 30, drop = None, sparse=True, handle_unknown=\"ignore\")\n",
    "    categorical_ordinal_encoder = OrdinalEncoder()\n",
    "\n",
    "    # deciding whether to encode categroical feature as OHE or ordinal features\n",
    "    if use_cat_OHE == True:\n",
    "        categorical_transformer = Pipeline(\n",
    "            steps = [(\"categorical_imputer\", categorical_imputer),(\"OHE_encoder\", categorical_OHE_encoder),\n",
    "            ],\n",
    "            verbose = True\n",
    "        )\n",
    "\n",
    "    elif use_cat_OE == True:\n",
    "        categorical_transformer = Pipeline(\n",
    "            steps = [(\"categorical_imputer\", categorical_imputer),(\"OE_encoder\", categorical_ordinal_encoder),\n",
    "            ],\n",
    "            verbose = True\n",
    "        )\n",
    "    else:\n",
    "        categorical_transformer = categorical_imputer\n",
    "\n",
    "    preprocess = ColumnTransformer(\n",
    "        transformers=[(\"bool\", boolean_transformer, boolean_columns),\n",
    "            (\"num\", numerical_transformer, numerical_columns),\n",
    "            (\"cat\", categorical_transformer, categorical_columns),\n",
    "        ],\n",
    "        verbose = True, remainder='passthrough', n_jobs = -1\n",
    "    )\n",
    "    \n",
    "    # toggling feature selection on and off:\n",
    "    if use_cat_OE == True:\n",
    "        model_pipeline = Pipeline(\n",
    "            steps = [\n",
    "                ('preprocess', preprocess),\n",
    "                # ('vectorizer', DictVectorizer())\n",
    "                # ('feature_selection', SelectKBest(score_func = mutual_info_classif, k =100)),\n",
    "                \n",
    "            ],\n",
    "            verbose = True\n",
    "        )\n",
    "    else:\n",
    "        model_pipeline = Pipeline(\n",
    "            steps = [\n",
    "                ('preprocess', preprocess),\n",
    "                # ('vectorizer', DictVectorizer())\n",
    "                ('feature_selection', SelectKBest(score_func = mutual_info_classif, k =100)),\n",
    "                \n",
    "            ],\n",
    "            verbose = True\n",
    "        )\n",
    "    # if use_dmatrix == True:\n",
    "    #     dtrain = xgb.DMatrix()\n",
    "    #     model_pipeline.steps.append('dtrain', dtrain) #insert as second step\n",
    "\n",
    "        \n",
    "\n",
    "    return model_pipeline\n"
   ]
  },
  {
   "cell_type": "code",
   "execution_count": 20,
   "id": "75c182eb",
   "metadata": {},
   "outputs": [
    {
     "data": {
      "text/html": [
       "<style>#sk-container-id-1 {color: black;background-color: white;}#sk-container-id-1 pre{padding: 0;}#sk-container-id-1 div.sk-toggleable {background-color: white;}#sk-container-id-1 label.sk-toggleable__label {cursor: pointer;display: block;width: 100%;margin-bottom: 0;padding: 0.3em;box-sizing: border-box;text-align: center;}#sk-container-id-1 label.sk-toggleable__label-arrow:before {content: \"▸\";float: left;margin-right: 0.25em;color: #696969;}#sk-container-id-1 label.sk-toggleable__label-arrow:hover:before {color: black;}#sk-container-id-1 div.sk-estimator:hover label.sk-toggleable__label-arrow:before {color: black;}#sk-container-id-1 div.sk-toggleable__content {max-height: 0;max-width: 0;overflow: hidden;text-align: left;background-color: #f0f8ff;}#sk-container-id-1 div.sk-toggleable__content pre {margin: 0.2em;color: black;border-radius: 0.25em;background-color: #f0f8ff;}#sk-container-id-1 input.sk-toggleable__control:checked~div.sk-toggleable__content {max-height: 200px;max-width: 100%;overflow: auto;}#sk-container-id-1 input.sk-toggleable__control:checked~label.sk-toggleable__label-arrow:before {content: \"▾\";}#sk-container-id-1 div.sk-estimator input.sk-toggleable__control:checked~label.sk-toggleable__label {background-color: #d4ebff;}#sk-container-id-1 div.sk-label input.sk-toggleable__control:checked~label.sk-toggleable__label {background-color: #d4ebff;}#sk-container-id-1 input.sk-hidden--visually {border: 0;clip: rect(1px 1px 1px 1px);clip: rect(1px, 1px, 1px, 1px);height: 1px;margin: -1px;overflow: hidden;padding: 0;position: absolute;width: 1px;}#sk-container-id-1 div.sk-estimator {font-family: monospace;background-color: #f0f8ff;border: 1px dotted black;border-radius: 0.25em;box-sizing: border-box;margin-bottom: 0.5em;}#sk-container-id-1 div.sk-estimator:hover {background-color: #d4ebff;}#sk-container-id-1 div.sk-parallel-item::after {content: \"\";width: 100%;border-bottom: 1px solid gray;flex-grow: 1;}#sk-container-id-1 div.sk-label:hover label.sk-toggleable__label {background-color: #d4ebff;}#sk-container-id-1 div.sk-serial::before {content: \"\";position: absolute;border-left: 1px solid gray;box-sizing: border-box;top: 0;bottom: 0;left: 50%;z-index: 0;}#sk-container-id-1 div.sk-serial {display: flex;flex-direction: column;align-items: center;background-color: white;padding-right: 0.2em;padding-left: 0.2em;position: relative;}#sk-container-id-1 div.sk-item {position: relative;z-index: 1;}#sk-container-id-1 div.sk-parallel {display: flex;align-items: stretch;justify-content: center;background-color: white;position: relative;}#sk-container-id-1 div.sk-item::before, #sk-container-id-1 div.sk-parallel-item::before {content: \"\";position: absolute;border-left: 1px solid gray;box-sizing: border-box;top: 0;bottom: 0;left: 50%;z-index: -1;}#sk-container-id-1 div.sk-parallel-item {display: flex;flex-direction: column;z-index: 1;position: relative;background-color: white;}#sk-container-id-1 div.sk-parallel-item:first-child::after {align-self: flex-end;width: 50%;}#sk-container-id-1 div.sk-parallel-item:last-child::after {align-self: flex-start;width: 50%;}#sk-container-id-1 div.sk-parallel-item:only-child::after {width: 0;}#sk-container-id-1 div.sk-dashed-wrapped {border: 1px dashed gray;margin: 0 0.4em 0.5em 0.4em;box-sizing: border-box;padding-bottom: 0.4em;background-color: white;}#sk-container-id-1 div.sk-label label {font-family: monospace;font-weight: bold;display: inline-block;line-height: 1.2em;}#sk-container-id-1 div.sk-label-container {text-align: center;}#sk-container-id-1 div.sk-container {/* jupyter's `normalize.less` sets `[hidden] { display: none; }` but bootstrap.min.css set `[hidden] { display: none !important; }` so we also need the `!important` here to be able to override the default hidden behavior on the sphinx rendered scikit-learn.org. See: https://github.com/scikit-learn/scikit-learn/issues/21755 */display: inline-block !important;position: relative;}#sk-container-id-1 div.sk-text-repr-fallback {display: none;}</style><div id=\"sk-container-id-1\" class=\"sk-top-container\"><div class=\"sk-text-repr-fallback\"><pre>Pipeline(steps=[(&#x27;preprocess&#x27;,\n",
       "                 ColumnTransformer(n_jobs=-1, remainder=&#x27;passthrough&#x27;,\n",
       "                                   transformers=[(&#x27;bool&#x27;,\n",
       "                                                  SimpleImputer(strategy=&#x27;most_frequent&#x27;),\n",
       "                                                  [&#x27;belts&#x27;, &#x27;personal_injury&#x27;,\n",
       "                                                   &#x27;property_damage&#x27;, &#x27;fatal&#x27;,\n",
       "                                                   &#x27;commercial_license&#x27;,\n",
       "                                                   &#x27;hazmat&#x27;,\n",
       "                                                   &#x27;commercial_vehicle&#x27;,\n",
       "                                                   &#x27;alcohol&#x27;, &#x27;work_zone&#x27;,\n",
       "                                                   &#x27;contributed_to_accident&#x27;]),\n",
       "                                                 (&#x27;num&#x27;,\n",
       "                                                  Pipeline(steps=[(&#x27;numerical_imputer&#x27;,\n",
       "                                                                   SimpleIm...\n",
       "                                                                   OneHotEncoder(handle_unknown=&#x27;ignore&#x27;,\n",
       "                                                                                 max_categories=30))],\n",
       "                                                           verbose=True),\n",
       "                                                  [&#x27;subagency&#x27;, &#x27;state&#x27;,\n",
       "                                                   &#x27;vehicletype&#x27;, &#x27;make&#x27;,\n",
       "                                                   &#x27;model&#x27;, &#x27;color&#x27;, &#x27;charge&#x27;,\n",
       "                                                   &#x27;article&#x27;, &#x27;race&#x27;, &#x27;gender&#x27;,\n",
       "                                                   &#x27;driver_city&#x27;,\n",
       "                                                   &#x27;driver_state&#x27;, &#x27;dl_state&#x27;,\n",
       "                                                   &#x27;arrest_type&#x27;,\n",
       "                                                   &#x27;season_of_stop&#x27;,\n",
       "                                                   &#x27;hour_of_stop&#x27;])],\n",
       "                                   verbose=True)),\n",
       "                (&#x27;feature_selection&#x27;,\n",
       "                 SelectKBest(k=100,\n",
       "                             score_func=&lt;function mutual_info_classif at 0x0000026795A58D30&gt;))],\n",
       "         verbose=True)</pre><b>In a Jupyter environment, please rerun this cell to show the HTML representation or trust the notebook. <br />On GitHub, the HTML representation is unable to render, please try loading this page with nbviewer.org.</b></div><div class=\"sk-container\" hidden><div class=\"sk-item sk-dashed-wrapped\"><div class=\"sk-label-container\"><div class=\"sk-label sk-toggleable\"><input class=\"sk-toggleable__control sk-hidden--visually\" id=\"sk-estimator-id-1\" type=\"checkbox\" ><label for=\"sk-estimator-id-1\" class=\"sk-toggleable__label sk-toggleable__label-arrow\">Pipeline</label><div class=\"sk-toggleable__content\"><pre>Pipeline(steps=[(&#x27;preprocess&#x27;,\n",
       "                 ColumnTransformer(n_jobs=-1, remainder=&#x27;passthrough&#x27;,\n",
       "                                   transformers=[(&#x27;bool&#x27;,\n",
       "                                                  SimpleImputer(strategy=&#x27;most_frequent&#x27;),\n",
       "                                                  [&#x27;belts&#x27;, &#x27;personal_injury&#x27;,\n",
       "                                                   &#x27;property_damage&#x27;, &#x27;fatal&#x27;,\n",
       "                                                   &#x27;commercial_license&#x27;,\n",
       "                                                   &#x27;hazmat&#x27;,\n",
       "                                                   &#x27;commercial_vehicle&#x27;,\n",
       "                                                   &#x27;alcohol&#x27;, &#x27;work_zone&#x27;,\n",
       "                                                   &#x27;contributed_to_accident&#x27;]),\n",
       "                                                 (&#x27;num&#x27;,\n",
       "                                                  Pipeline(steps=[(&#x27;numerical_imputer&#x27;,\n",
       "                                                                   SimpleIm...\n",
       "                                                                   OneHotEncoder(handle_unknown=&#x27;ignore&#x27;,\n",
       "                                                                                 max_categories=30))],\n",
       "                                                           verbose=True),\n",
       "                                                  [&#x27;subagency&#x27;, &#x27;state&#x27;,\n",
       "                                                   &#x27;vehicletype&#x27;, &#x27;make&#x27;,\n",
       "                                                   &#x27;model&#x27;, &#x27;color&#x27;, &#x27;charge&#x27;,\n",
       "                                                   &#x27;article&#x27;, &#x27;race&#x27;, &#x27;gender&#x27;,\n",
       "                                                   &#x27;driver_city&#x27;,\n",
       "                                                   &#x27;driver_state&#x27;, &#x27;dl_state&#x27;,\n",
       "                                                   &#x27;arrest_type&#x27;,\n",
       "                                                   &#x27;season_of_stop&#x27;,\n",
       "                                                   &#x27;hour_of_stop&#x27;])],\n",
       "                                   verbose=True)),\n",
       "                (&#x27;feature_selection&#x27;,\n",
       "                 SelectKBest(k=100,\n",
       "                             score_func=&lt;function mutual_info_classif at 0x0000026795A58D30&gt;))],\n",
       "         verbose=True)</pre></div></div></div><div class=\"sk-serial\"><div class=\"sk-item sk-dashed-wrapped\"><div class=\"sk-label-container\"><div class=\"sk-label sk-toggleable\"><input class=\"sk-toggleable__control sk-hidden--visually\" id=\"sk-estimator-id-2\" type=\"checkbox\" ><label for=\"sk-estimator-id-2\" class=\"sk-toggleable__label sk-toggleable__label-arrow\">preprocess: ColumnTransformer</label><div class=\"sk-toggleable__content\"><pre>ColumnTransformer(n_jobs=-1, remainder=&#x27;passthrough&#x27;,\n",
       "                  transformers=[(&#x27;bool&#x27;,\n",
       "                                 SimpleImputer(strategy=&#x27;most_frequent&#x27;),\n",
       "                                 [&#x27;belts&#x27;, &#x27;personal_injury&#x27;, &#x27;property_damage&#x27;,\n",
       "                                  &#x27;fatal&#x27;, &#x27;commercial_license&#x27;, &#x27;hazmat&#x27;,\n",
       "                                  &#x27;commercial_vehicle&#x27;, &#x27;alcohol&#x27;, &#x27;work_zone&#x27;,\n",
       "                                  &#x27;contributed_to_accident&#x27;]),\n",
       "                                (&#x27;num&#x27;,\n",
       "                                 Pipeline(steps=[(&#x27;numerical_imputer&#x27;,\n",
       "                                                  SimpleImputer()),\n",
       "                                                 (&#x27;scaler&#x27;, RobustScale...\n",
       "                                 Pipeline(steps=[(&#x27;categorical_imputer&#x27;,\n",
       "                                                  SimpleImputer(strategy=&#x27;most_frequent&#x27;)),\n",
       "                                                 (&#x27;OHE_encoder&#x27;,\n",
       "                                                  OneHotEncoder(handle_unknown=&#x27;ignore&#x27;,\n",
       "                                                                max_categories=30))],\n",
       "                                          verbose=True),\n",
       "                                 [&#x27;subagency&#x27;, &#x27;state&#x27;, &#x27;vehicletype&#x27;, &#x27;make&#x27;,\n",
       "                                  &#x27;model&#x27;, &#x27;color&#x27;, &#x27;charge&#x27;, &#x27;article&#x27;, &#x27;race&#x27;,\n",
       "                                  &#x27;gender&#x27;, &#x27;driver_city&#x27;, &#x27;driver_state&#x27;,\n",
       "                                  &#x27;dl_state&#x27;, &#x27;arrest_type&#x27;, &#x27;season_of_stop&#x27;,\n",
       "                                  &#x27;hour_of_stop&#x27;])],\n",
       "                  verbose=True)</pre></div></div></div><div class=\"sk-parallel\"><div class=\"sk-parallel-item\"><div class=\"sk-item\"><div class=\"sk-label-container\"><div class=\"sk-label sk-toggleable\"><input class=\"sk-toggleable__control sk-hidden--visually\" id=\"sk-estimator-id-3\" type=\"checkbox\" ><label for=\"sk-estimator-id-3\" class=\"sk-toggleable__label sk-toggleable__label-arrow\">bool</label><div class=\"sk-toggleable__content\"><pre>[&#x27;belts&#x27;, &#x27;personal_injury&#x27;, &#x27;property_damage&#x27;, &#x27;fatal&#x27;, &#x27;commercial_license&#x27;, &#x27;hazmat&#x27;, &#x27;commercial_vehicle&#x27;, &#x27;alcohol&#x27;, &#x27;work_zone&#x27;, &#x27;contributed_to_accident&#x27;]</pre></div></div></div><div class=\"sk-serial\"><div class=\"sk-item\"><div class=\"sk-estimator sk-toggleable\"><input class=\"sk-toggleable__control sk-hidden--visually\" id=\"sk-estimator-id-4\" type=\"checkbox\" ><label for=\"sk-estimator-id-4\" class=\"sk-toggleable__label sk-toggleable__label-arrow\">SimpleImputer</label><div class=\"sk-toggleable__content\"><pre>SimpleImputer(strategy=&#x27;most_frequent&#x27;)</pre></div></div></div></div></div></div><div class=\"sk-parallel-item\"><div class=\"sk-item\"><div class=\"sk-label-container\"><div class=\"sk-label sk-toggleable\"><input class=\"sk-toggleable__control sk-hidden--visually\" id=\"sk-estimator-id-5\" type=\"checkbox\" ><label for=\"sk-estimator-id-5\" class=\"sk-toggleable__label sk-toggleable__label-arrow\">num</label><div class=\"sk-toggleable__content\"><pre>[&#x27;car_age&#x27;]</pre></div></div></div><div class=\"sk-serial\"><div class=\"sk-item\"><div class=\"sk-serial\"><div class=\"sk-item\"><div class=\"sk-estimator sk-toggleable\"><input class=\"sk-toggleable__control sk-hidden--visually\" id=\"sk-estimator-id-6\" type=\"checkbox\" ><label for=\"sk-estimator-id-6\" class=\"sk-toggleable__label sk-toggleable__label-arrow\">SimpleImputer</label><div class=\"sk-toggleable__content\"><pre>SimpleImputer()</pre></div></div></div><div class=\"sk-item\"><div class=\"sk-estimator sk-toggleable\"><input class=\"sk-toggleable__control sk-hidden--visually\" id=\"sk-estimator-id-7\" type=\"checkbox\" ><label for=\"sk-estimator-id-7\" class=\"sk-toggleable__label sk-toggleable__label-arrow\">RobustScaler</label><div class=\"sk-toggleable__content\"><pre>RobustScaler()</pre></div></div></div></div></div></div></div></div><div class=\"sk-parallel-item\"><div class=\"sk-item\"><div class=\"sk-label-container\"><div class=\"sk-label sk-toggleable\"><input class=\"sk-toggleable__control sk-hidden--visually\" id=\"sk-estimator-id-8\" type=\"checkbox\" ><label for=\"sk-estimator-id-8\" class=\"sk-toggleable__label sk-toggleable__label-arrow\">cat</label><div class=\"sk-toggleable__content\"><pre>[&#x27;subagency&#x27;, &#x27;state&#x27;, &#x27;vehicletype&#x27;, &#x27;make&#x27;, &#x27;model&#x27;, &#x27;color&#x27;, &#x27;charge&#x27;, &#x27;article&#x27;, &#x27;race&#x27;, &#x27;gender&#x27;, &#x27;driver_city&#x27;, &#x27;driver_state&#x27;, &#x27;dl_state&#x27;, &#x27;arrest_type&#x27;, &#x27;season_of_stop&#x27;, &#x27;hour_of_stop&#x27;]</pre></div></div></div><div class=\"sk-serial\"><div class=\"sk-item\"><div class=\"sk-serial\"><div class=\"sk-item\"><div class=\"sk-estimator sk-toggleable\"><input class=\"sk-toggleable__control sk-hidden--visually\" id=\"sk-estimator-id-9\" type=\"checkbox\" ><label for=\"sk-estimator-id-9\" class=\"sk-toggleable__label sk-toggleable__label-arrow\">SimpleImputer</label><div class=\"sk-toggleable__content\"><pre>SimpleImputer(strategy=&#x27;most_frequent&#x27;)</pre></div></div></div><div class=\"sk-item\"><div class=\"sk-estimator sk-toggleable\"><input class=\"sk-toggleable__control sk-hidden--visually\" id=\"sk-estimator-id-10\" type=\"checkbox\" ><label for=\"sk-estimator-id-10\" class=\"sk-toggleable__label sk-toggleable__label-arrow\">OneHotEncoder</label><div class=\"sk-toggleable__content\"><pre>OneHotEncoder(handle_unknown=&#x27;ignore&#x27;, max_categories=30)</pre></div></div></div></div></div></div></div></div><div class=\"sk-parallel-item\"><div class=\"sk-item\"><div class=\"sk-label-container\"><div class=\"sk-label sk-toggleable\"><input class=\"sk-toggleable__control sk-hidden--visually\" id=\"sk-estimator-id-11\" type=\"checkbox\" ><label for=\"sk-estimator-id-11\" class=\"sk-toggleable__label sk-toggleable__label-arrow\">remainder</label><div class=\"sk-toggleable__content\"><pre></pre></div></div></div><div class=\"sk-serial\"><div class=\"sk-item\"><div class=\"sk-estimator sk-toggleable\"><input class=\"sk-toggleable__control sk-hidden--visually\" id=\"sk-estimator-id-12\" type=\"checkbox\" ><label for=\"sk-estimator-id-12\" class=\"sk-toggleable__label sk-toggleable__label-arrow\">passthrough</label><div class=\"sk-toggleable__content\"><pre>passthrough</pre></div></div></div></div></div></div></div></div><div class=\"sk-item\"><div class=\"sk-estimator sk-toggleable\"><input class=\"sk-toggleable__control sk-hidden--visually\" id=\"sk-estimator-id-13\" type=\"checkbox\" ><label for=\"sk-estimator-id-13\" class=\"sk-toggleable__label sk-toggleable__label-arrow\">SelectKBest</label><div class=\"sk-toggleable__content\"><pre>SelectKBest(k=100,\n",
       "            score_func=&lt;function mutual_info_classif at 0x0000026795A58D30&gt;)</pre></div></div></div></div></div></div></div>"
      ],
      "text/plain": [
       "Pipeline(steps=[('preprocess',\n",
       "                 ColumnTransformer(n_jobs=-1, remainder='passthrough',\n",
       "                                   transformers=[('bool',\n",
       "                                                  SimpleImputer(strategy='most_frequent'),\n",
       "                                                  ['belts', 'personal_injury',\n",
       "                                                   'property_damage', 'fatal',\n",
       "                                                   'commercial_license',\n",
       "                                                   'hazmat',\n",
       "                                                   'commercial_vehicle',\n",
       "                                                   'alcohol', 'work_zone',\n",
       "                                                   'contributed_to_accident']),\n",
       "                                                 ('num',\n",
       "                                                  Pipeline(steps=[('numerical_imputer',\n",
       "                                                                   SimpleIm...\n",
       "                                                                   OneHotEncoder(handle_unknown='ignore',\n",
       "                                                                                 max_categories=30))],\n",
       "                                                           verbose=True),\n",
       "                                                  ['subagency', 'state',\n",
       "                                                   'vehicletype', 'make',\n",
       "                                                   'model', 'color', 'charge',\n",
       "                                                   'article', 'race', 'gender',\n",
       "                                                   'driver_city',\n",
       "                                                   'driver_state', 'dl_state',\n",
       "                                                   'arrest_type',\n",
       "                                                   'season_of_stop',\n",
       "                                                   'hour_of_stop'])],\n",
       "                                   verbose=True)),\n",
       "                ('feature_selection',\n",
       "                 SelectKBest(k=100,\n",
       "                             score_func=<function mutual_info_classif at 0x0000026795A58D30>))],\n",
       "         verbose=True)"
      ]
     },
     "execution_count": 20,
     "metadata": {},
     "output_type": "execute_result"
    }
   ],
   "source": [
    "# to visualize pipeline so far:\n",
    "model_pipeline = create_model_pipeline(use_cat_OHE= True)\n",
    "model_pipeline"
   ]
  },
  {
   "cell_type": "markdown",
   "id": "5368e276",
   "metadata": {},
   "source": [
    "we havent added classifier yet, becuase we'll be working with different classifiers and we will need to change them.\n",
    "\n",
    "## Defining some useful functions:"
   ]
  },
  {
   "cell_type": "code",
   "execution_count": 7,
   "id": "d17b5daf",
   "metadata": {},
   "outputs": [],
   "source": [
    "from sklearn.model_selection import StratifiedKFold, cross_validate\n",
    "\n",
    "def do_stratifed_kfold_cv(model_pipeline, x_train_full, y_train_full):    \n",
    "    cv_outer = StratifiedKFold(n_splits=3, shuffle=True, random_state=1)\n",
    "    scores = cross_validate(model_pipeline, x_train_full, y= y_train_full, scoring=\"balanced_accuracy\", cv=cv_outer, \n",
    "                n_jobs=-1, verbose=1)\n",
    "    return scores"
   ]
  },
  {
   "cell_type": "code",
   "execution_count": 8,
   "id": "bd975843",
   "metadata": {},
   "outputs": [],
   "source": [
    "from sklearn.metrics import balanced_accuracy_score, precision_score, mean_squared_error\n",
    "from sklearn.metrics import confusion_matrix, ConfusionMatrixDisplay, classification_report\n",
    "\n",
    "def model_predict_scores(model_pipeline, x_val, y_val, le):\n",
    "    \n",
    "    y_pred = model_pipeline.predict(x_val)\n",
    "    \n",
    "    print(\"balanced accuracy socre is:\", round(balanced_accuracy_score(y_val, y_pred), 3))\n",
    "    print(\"precision of model is:\",round(precision_score(y_val, y_pred, average='weighted'),3))\n",
    "    print(\"RMSE of model is\",round(mean_squared_error(y_val, y_pred, squared=False),3))\n",
    "    print(classification_report(y_val, y_pred))\n",
    "\n",
    "    label_string = le.classes_\n",
    "    y_val_string = le.inverse_transform(y_val)\n",
    "    y_pred_string = le.inverse_transform(y_pred)\n",
    "\n",
    "    cm = confusion_matrix(y_val_string, y_pred_string, labels=label_string, normalize='true')\n",
    "    disp = ConfusionMatrixDisplay(confusion_matrix=cm, display_labels=label_string)\n",
    "    disp.plot()\n",
    "    plt.grid(None)\n",
    "    plt.show()\n",
    "\n",
    "    \n"
   ]
  },
  {
   "cell_type": "code",
   "execution_count": 10,
   "id": "e5d3b2b9",
   "metadata": {},
   "outputs": [],
   "source": [
    "from scipy.stats import uniform\n",
    "from sklearn.model_selection import StratifiedKFold, GridSearchCV, RandomizedSearchCV\n",
    "\n",
    "def random_grid_search(model_pipeline, distributions, x_train, y_train ):\n",
    "    \n",
    "    # configure the cross-validation procedure\n",
    "    cv_inner = StratifiedKFold(n_splits=3, shuffle=True, random_state=1)                            \n",
    "\n",
    "    # search = GridSearchCV(model, space, scoring='balanced_accuracy', n_jobs=1, cv=cv_inner, refit=True)\n",
    "    search = RandomizedSearchCV(model_pipeline, distributions, scoring=\"balanced_accuracy\", n_jobs= -1, cv=cv_inner, \n",
    "                refit=True, random_state=1, verbose=1)\n",
    "    search.fit(x_train, y_train)\n",
    "    print (\"Best params are:\", search.best_params_)\n",
    "    print (\"Validation set balanced_accuracy score on best params is:\", search.best_score_)\n",
    "\n",
    "    # if any cross-validation, it would make sense here but then I cannot best_params_\n",
    "    # potential link:\n",
    "    # however, gridsearch is already on cross validated, so enough. \n",
    "    # and doing non-nested cross validation for the sake of it is just going to show inflated results. Best to use just test set"
   ]
  },
  {
   "cell_type": "markdown",
   "id": "d9b9bfb6",
   "metadata": {},
   "source": [
    "## Fine-tuning and testing Logistic Regression:"
   ]
  },
  {
   "cell_type": "code",
   "execution_count": 52,
   "id": "b12d3d0a",
   "metadata": {},
   "outputs": [
    {
     "name": "stdout",
     "output_type": "stream",
     "text": [
      "Fitting 3 folds for each of 10 candidates, totalling 30 fits\n",
      "[Pipeline] ........ (step 1 of 3) Processing preprocess, total=  16.6s\n"
     ]
    },
    {
     "name": "stderr",
     "output_type": "stream",
     "text": [
      "c:\\Users\\Mona\\anaconda3\\envs\\mlzoomcamp\\lib\\site-packages\\sklearn\\metrics\\cluster\\_supervised.py:64: UserWarning: Clustering metrics expects discrete values but received continuous values for label, and multiclass values for target\n",
      "  warnings.warn(msg, UserWarning)\n"
     ]
    },
    {
     "name": "stdout",
     "output_type": "stream",
     "text": [
      "[Pipeline] . (step 2 of 3) Processing feature_selection, total=  40.0s\n",
      "[Pipeline] .... (step 3 of 3) Processing classification, total= 1.6min\n",
      "Best params are: {'classification__solver': 'lbfgs', 'classification__max_iter': 500, 'classification__C': 1}\n",
      "Validation set balanced_accuracy score on best params is: 0.6627305036106601\n"
     ]
    }
   ],
   "source": [
    "from sklearn.linear_model import LogisticRegression\n",
    "\n",
    "\n",
    "model_pipeline = create_model_pipeline(use_cat_OHE= True)\n",
    "model_for_classification = (LogisticRegression(random_state=42, n_jobs= -1))\n",
    "model_pipeline.steps.insert(2,('classification', model_for_classification)) #insert as second step\n",
    "\n",
    "# Do a random grid search to get best params:\n",
    "# add lgfs and max_iter\n",
    "distributions = {'classification__max_iter': [300, 500],\n",
    "                'classification__solver':[\"lbfgs\", \"sag\", \"saga\"],\n",
    "                'classification__C': [0.9, 1],\n",
    "}\n",
    "random_grid_search(model_pipeline, distributions, x_train, y_train )"
   ]
  },
  {
   "cell_type": "code",
   "execution_count": null,
   "id": "0cdffd2a",
   "metadata": {},
   "outputs": [
    {
     "name": "stdout",
     "output_type": "stream",
     "text": [
      "[Pipeline] ........ (step 1 of 3) Processing preprocess, total=  25.8s\n"
     ]
    },
    {
     "name": "stderr",
     "output_type": "stream",
     "text": [
      "c:\\Users\\Mona\\anaconda3\\envs\\mlzoomcamp\\lib\\site-packages\\sklearn\\metrics\\cluster\\_supervised.py:64: UserWarning: Clustering metrics expects discrete values but received continuous values for label, and multiclass values for target\n",
      "  warnings.warn(msg, UserWarning)\n"
     ]
    },
    {
     "name": "stdout",
     "output_type": "stream",
     "text": [
      "[Pipeline] . (step 2 of 3) Processing feature_selection, total=  56.3s\n"
     ]
    },
    {
     "name": "stderr",
     "output_type": "stream",
     "text": [
      "c:\\Users\\Mona\\anaconda3\\envs\\mlzoomcamp\\lib\\site-packages\\sklearn\\linear_model\\_sag.py:350: ConvergenceWarning: The max_iter was reached which means the coef_ did not converge\n",
      "  warnings.warn(\n"
     ]
    },
    {
     "name": "stdout",
     "output_type": "stream",
     "text": [
      "[Pipeline] .... (step 3 of 3) Processing classification, total= 2.5min\n",
      "\n",
      "Results on the test set are: \n",
      "balanced accuracy socre is: 0.661\n",
      "precision of model is: 0.7\n",
      "RMSE of model is 1.087\n",
      "              precision    recall  f1-score   support\n",
      "\n",
      "           0       0.72      0.63      0.67     98287\n",
      "           1       0.97      0.59      0.74     10408\n",
      "           2       0.65      0.76      0.70     93453\n",
      "\n",
      "    accuracy                           0.69    202148\n",
      "   macro avg       0.78      0.66      0.70    202148\n",
      "weighted avg       0.70      0.69      0.69    202148\n",
      "\n"
     ]
    },
    {
     "data": {
      "image/png": "[encoded data removed]",
      "text/plain": [
       "<Figure size 640x480 with 2 Axes>"
      ]
     },
     "metadata": {},
     "output_type": "display_data"
    }
   ],
   "source": [
    "# create pipeline with fine-tuned hyper-paramter of the model:\n",
    "model_pipeline = create_model_pipeline(use_cat_OHE= True)\n",
    "tuned_model_classification = LogisticRegression(random_state=42, max_iter=500, solver = 'lbfgs', C=1.0, n_jobs= -1)\n",
    "model_pipeline.steps.insert(2,('classification', tuned_model_classification)) #insert as second step\n",
    "\n",
    "# train with fine tuned hyper-params:\n",
    "model_pipeline.fit(x_train, y_train)\n",
    "\n",
    "# test the model on withheld dataset:\n",
    "print(\"\\nResults on the test set are: \")\n",
    "model_predict_scores(model_pipeline, x_val, y_val, le) "
   ]
  },
  {
   "cell_type": "code",
   "execution_count": null,
   "id": "ac46320f",
   "metadata": {},
   "outputs": [
    {
     "data": {
      "text/html": [
       "<style>#sk-container-id-9 {color: black;background-color: white;}#sk-container-id-9 pre{padding: 0;}#sk-container-id-9 div.sk-toggleable {background-color: white;}#sk-container-id-9 label.sk-toggleable__label {cursor: pointer;display: block;width: 100%;margin-bottom: 0;padding: 0.3em;box-sizing: border-box;text-align: center;}#sk-container-id-9 label.sk-toggleable__label-arrow:before {content: \"▸\";float: left;margin-right: 0.25em;color: #696969;}#sk-container-id-9 label.sk-toggleable__label-arrow:hover:before {color: black;}#sk-container-id-9 div.sk-estimator:hover label.sk-toggleable__label-arrow:before {color: black;}#sk-container-id-9 div.sk-toggleable__content {max-height: 0;max-width: 0;overflow: hidden;text-align: left;background-color: #f0f8ff;}#sk-container-id-9 div.sk-toggleable__content pre {margin: 0.2em;color: black;border-radius: 0.25em;background-color: #f0f8ff;}#sk-container-id-9 input.sk-toggleable__control:checked~div.sk-toggleable__content {max-height: 200px;max-width: 100%;overflow: auto;}#sk-container-id-9 input.sk-toggleable__control:checked~label.sk-toggleable__label-arrow:before {content: \"▾\";}#sk-container-id-9 div.sk-estimator input.sk-toggleable__control:checked~label.sk-toggleable__label {background-color: #d4ebff;}#sk-container-id-9 div.sk-label input.sk-toggleable__control:checked~label.sk-toggleable__label {background-color: #d4ebff;}#sk-container-id-9 input.sk-hidden--visually {border: 0;clip: rect(1px 1px 1px 1px);clip: rect(1px, 1px, 1px, 1px);height: 1px;margin: -1px;overflow: hidden;padding: 0;position: absolute;width: 1px;}#sk-container-id-9 div.sk-estimator {font-family: monospace;background-color: #f0f8ff;border: 1px dotted black;border-radius: 0.25em;box-sizing: border-box;margin-bottom: 0.5em;}#sk-container-id-9 div.sk-estimator:hover {background-color: #d4ebff;}#sk-container-id-9 div.sk-parallel-item::after {content: \"\";width: 100%;border-bottom: 1px solid gray;flex-grow: 1;}#sk-container-id-9 div.sk-label:hover label.sk-toggleable__label {background-color: #d4ebff;}#sk-container-id-9 div.sk-serial::before {content: \"\";position: absolute;border-left: 1px solid gray;box-sizing: border-box;top: 0;bottom: 0;left: 50%;z-index: 0;}#sk-container-id-9 div.sk-serial {display: flex;flex-direction: column;align-items: center;background-color: white;padding-right: 0.2em;padding-left: 0.2em;position: relative;}#sk-container-id-9 div.sk-item {position: relative;z-index: 1;}#sk-container-id-9 div.sk-parallel {display: flex;align-items: stretch;justify-content: center;background-color: white;position: relative;}#sk-container-id-9 div.sk-item::before, #sk-container-id-9 div.sk-parallel-item::before {content: \"\";position: absolute;border-left: 1px solid gray;box-sizing: border-box;top: 0;bottom: 0;left: 50%;z-index: -1;}#sk-container-id-9 div.sk-parallel-item {display: flex;flex-direction: column;z-index: 1;position: relative;background-color: white;}#sk-container-id-9 div.sk-parallel-item:first-child::after {align-self: flex-end;width: 50%;}#sk-container-id-9 div.sk-parallel-item:last-child::after {align-self: flex-start;width: 50%;}#sk-container-id-9 div.sk-parallel-item:only-child::after {width: 0;}#sk-container-id-9 div.sk-dashed-wrapped {border: 1px dashed gray;margin: 0 0.4em 0.5em 0.4em;box-sizing: border-box;padding-bottom: 0.4em;background-color: white;}#sk-container-id-9 div.sk-label label {font-family: monospace;font-weight: bold;display: inline-block;line-height: 1.2em;}#sk-container-id-9 div.sk-label-container {text-align: center;}#sk-container-id-9 div.sk-container {/* jupyter's `normalize.less` sets `[hidden] { display: none; }` but bootstrap.min.css set `[hidden] { display: none !important; }` so we also need the `!important` here to be able to override the default hidden behavior on the sphinx rendered scikit-learn.org. See: https://github.com/scikit-learn/scikit-learn/issues/21755 */display: inline-block !important;position: relative;}#sk-container-id-9 div.sk-text-repr-fallback {display: none;}</style><div id=\"sk-container-id-9\" class=\"sk-top-container\"><div class=\"sk-text-repr-fallback\"><pre>Pipeline(steps=[(&#x27;preprocess&#x27;,\n",
       "                 ColumnTransformer(n_jobs=-1, remainder=&#x27;passthrough&#x27;,\n",
       "                                   transformers=[(&#x27;bool&#x27;,\n",
       "                                                  SimpleImputer(strategy=&#x27;most_frequent&#x27;),\n",
       "                                                  [&#x27;belts&#x27;, &#x27;personal_injury&#x27;,\n",
       "                                                   &#x27;property_damage&#x27;, &#x27;fatal&#x27;,\n",
       "                                                   &#x27;commercial_license&#x27;,\n",
       "                                                   &#x27;hazmat&#x27;,\n",
       "                                                   &#x27;commercial_vehicle&#x27;,\n",
       "                                                   &#x27;alcohol&#x27;, &#x27;work_zone&#x27;,\n",
       "                                                   &#x27;contributed_to_accident&#x27;]),\n",
       "                                                 (&#x27;num&#x27;,\n",
       "                                                  Pipeline(steps=[(&#x27;numerical_imputer&#x27;,\n",
       "                                                                   SimpleIm...\n",
       "                                                   &#x27;model&#x27;, &#x27;color&#x27;, &#x27;charge&#x27;,\n",
       "                                                   &#x27;article&#x27;, &#x27;race&#x27;, &#x27;gender&#x27;,\n",
       "                                                   &#x27;driver_city&#x27;,\n",
       "                                                   &#x27;driver_state&#x27;, &#x27;dl_state&#x27;,\n",
       "                                                   &#x27;arrest_type&#x27;,\n",
       "                                                   &#x27;season_of_stop&#x27;,\n",
       "                                                   &#x27;hour_of_stop&#x27;])],\n",
       "                                   verbose=True)),\n",
       "                (&#x27;feature_selection&#x27;,\n",
       "                 SelectKBest(k=100,\n",
       "                             score_func=&lt;function mutual_info_classif at 0x00000175AC533880&gt;)),\n",
       "                (&#x27;classification&#x27;,\n",
       "                 LogisticRegression(max_iter=200, random_state=42,\n",
       "                                    solver=&#x27;sag&#x27;))],\n",
       "         verbose=True)</pre><b>In a Jupyter environment, please rerun this cell to show the HTML representation or trust the notebook. <br />On GitHub, the HTML representation is unable to render, please try loading this page with nbviewer.org.</b></div><div class=\"sk-container\" hidden><div class=\"sk-item sk-dashed-wrapped\"><div class=\"sk-label-container\"><div class=\"sk-label sk-toggleable\"><input class=\"sk-toggleable__control sk-hidden--visually\" id=\"sk-estimator-id-97\" type=\"checkbox\" ><label for=\"sk-estimator-id-97\" class=\"sk-toggleable__label sk-toggleable__label-arrow\">Pipeline</label><div class=\"sk-toggleable__content\"><pre>Pipeline(steps=[(&#x27;preprocess&#x27;,\n",
       "                 ColumnTransformer(n_jobs=-1, remainder=&#x27;passthrough&#x27;,\n",
       "                                   transformers=[(&#x27;bool&#x27;,\n",
       "                                                  SimpleImputer(strategy=&#x27;most_frequent&#x27;),\n",
       "                                                  [&#x27;belts&#x27;, &#x27;personal_injury&#x27;,\n",
       "                                                   &#x27;property_damage&#x27;, &#x27;fatal&#x27;,\n",
       "                                                   &#x27;commercial_license&#x27;,\n",
       "                                                   &#x27;hazmat&#x27;,\n",
       "                                                   &#x27;commercial_vehicle&#x27;,\n",
       "                                                   &#x27;alcohol&#x27;, &#x27;work_zone&#x27;,\n",
       "                                                   &#x27;contributed_to_accident&#x27;]),\n",
       "                                                 (&#x27;num&#x27;,\n",
       "                                                  Pipeline(steps=[(&#x27;numerical_imputer&#x27;,\n",
       "                                                                   SimpleIm...\n",
       "                                                   &#x27;model&#x27;, &#x27;color&#x27;, &#x27;charge&#x27;,\n",
       "                                                   &#x27;article&#x27;, &#x27;race&#x27;, &#x27;gender&#x27;,\n",
       "                                                   &#x27;driver_city&#x27;,\n",
       "                                                   &#x27;driver_state&#x27;, &#x27;dl_state&#x27;,\n",
       "                                                   &#x27;arrest_type&#x27;,\n",
       "                                                   &#x27;season_of_stop&#x27;,\n",
       "                                                   &#x27;hour_of_stop&#x27;])],\n",
       "                                   verbose=True)),\n",
       "                (&#x27;feature_selection&#x27;,\n",
       "                 SelectKBest(k=100,\n",
       "                             score_func=&lt;function mutual_info_classif at 0x00000175AC533880&gt;)),\n",
       "                (&#x27;classification&#x27;,\n",
       "                 LogisticRegression(max_iter=200, random_state=42,\n",
       "                                    solver=&#x27;sag&#x27;))],\n",
       "         verbose=True)</pre></div></div></div><div class=\"sk-serial\"><div class=\"sk-item sk-dashed-wrapped\"><div class=\"sk-label-container\"><div class=\"sk-label sk-toggleable\"><input class=\"sk-toggleable__control sk-hidden--visually\" id=\"sk-estimator-id-98\" type=\"checkbox\" ><label for=\"sk-estimator-id-98\" class=\"sk-toggleable__label sk-toggleable__label-arrow\">preprocess: ColumnTransformer</label><div class=\"sk-toggleable__content\"><pre>ColumnTransformer(n_jobs=-1, remainder=&#x27;passthrough&#x27;,\n",
       "                  transformers=[(&#x27;bool&#x27;,\n",
       "                                 SimpleImputer(strategy=&#x27;most_frequent&#x27;),\n",
       "                                 [&#x27;belts&#x27;, &#x27;personal_injury&#x27;, &#x27;property_damage&#x27;,\n",
       "                                  &#x27;fatal&#x27;, &#x27;commercial_license&#x27;, &#x27;hazmat&#x27;,\n",
       "                                  &#x27;commercial_vehicle&#x27;, &#x27;alcohol&#x27;, &#x27;work_zone&#x27;,\n",
       "                                  &#x27;contributed_to_accident&#x27;]),\n",
       "                                (&#x27;num&#x27;,\n",
       "                                 Pipeline(steps=[(&#x27;numerical_imputer&#x27;,\n",
       "                                                  SimpleImputer()),\n",
       "                                                 (&#x27;scaler&#x27;, RobustScale...\n",
       "                                 Pipeline(steps=[(&#x27;categorical_imputer&#x27;,\n",
       "                                                  SimpleImputer(strategy=&#x27;most_frequent&#x27;)),\n",
       "                                                 (&#x27;encoder&#x27;,\n",
       "                                                  OneHotEncoder(handle_unknown=&#x27;ignore&#x27;,\n",
       "                                                                max_categories=30))],\n",
       "                                          verbose=True),\n",
       "                                 [&#x27;subagency&#x27;, &#x27;state&#x27;, &#x27;vehicletype&#x27;, &#x27;make&#x27;,\n",
       "                                  &#x27;model&#x27;, &#x27;color&#x27;, &#x27;charge&#x27;, &#x27;article&#x27;, &#x27;race&#x27;,\n",
       "                                  &#x27;gender&#x27;, &#x27;driver_city&#x27;, &#x27;driver_state&#x27;,\n",
       "                                  &#x27;dl_state&#x27;, &#x27;arrest_type&#x27;, &#x27;season_of_stop&#x27;,\n",
       "                                  &#x27;hour_of_stop&#x27;])],\n",
       "                  verbose=True)</pre></div></div></div><div class=\"sk-parallel\"><div class=\"sk-parallel-item\"><div class=\"sk-item\"><div class=\"sk-label-container\"><div class=\"sk-label sk-toggleable\"><input class=\"sk-toggleable__control sk-hidden--visually\" id=\"sk-estimator-id-99\" type=\"checkbox\" ><label for=\"sk-estimator-id-99\" class=\"sk-toggleable__label sk-toggleable__label-arrow\">bool</label><div class=\"sk-toggleable__content\"><pre>[&#x27;belts&#x27;, &#x27;personal_injury&#x27;, &#x27;property_damage&#x27;, &#x27;fatal&#x27;, &#x27;commercial_license&#x27;, &#x27;hazmat&#x27;, &#x27;commercial_vehicle&#x27;, &#x27;alcohol&#x27;, &#x27;work_zone&#x27;, &#x27;contributed_to_accident&#x27;]</pre></div></div></div><div class=\"sk-serial\"><div class=\"sk-item\"><div class=\"sk-estimator sk-toggleable\"><input class=\"sk-toggleable__control sk-hidden--visually\" id=\"sk-estimator-id-100\" type=\"checkbox\" ><label for=\"sk-estimator-id-100\" class=\"sk-toggleable__label sk-toggleable__label-arrow\">SimpleImputer</label><div class=\"sk-toggleable__content\"><pre>SimpleImputer(strategy=&#x27;most_frequent&#x27;)</pre></div></div></div></div></div></div><div class=\"sk-parallel-item\"><div class=\"sk-item\"><div class=\"sk-label-container\"><div class=\"sk-label sk-toggleable\"><input class=\"sk-toggleable__control sk-hidden--visually\" id=\"sk-estimator-id-101\" type=\"checkbox\" ><label for=\"sk-estimator-id-101\" class=\"sk-toggleable__label sk-toggleable__label-arrow\">num</label><div class=\"sk-toggleable__content\"><pre>[&#x27;car_age&#x27;]</pre></div></div></div><div class=\"sk-serial\"><div class=\"sk-item\"><div class=\"sk-serial\"><div class=\"sk-item\"><div class=\"sk-estimator sk-toggleable\"><input class=\"sk-toggleable__control sk-hidden--visually\" id=\"sk-estimator-id-102\" type=\"checkbox\" ><label for=\"sk-estimator-id-102\" class=\"sk-toggleable__label sk-toggleable__label-arrow\">SimpleImputer</label><div class=\"sk-toggleable__content\"><pre>SimpleImputer()</pre></div></div></div><div class=\"sk-item\"><div class=\"sk-estimator sk-toggleable\"><input class=\"sk-toggleable__control sk-hidden--visually\" id=\"sk-estimator-id-103\" type=\"checkbox\" ><label for=\"sk-estimator-id-103\" class=\"sk-toggleable__label sk-toggleable__label-arrow\">RobustScaler</label><div class=\"sk-toggleable__content\"><pre>RobustScaler()</pre></div></div></div></div></div></div></div></div><div class=\"sk-parallel-item\"><div class=\"sk-item\"><div class=\"sk-label-container\"><div class=\"sk-label sk-toggleable\"><input class=\"sk-toggleable__control sk-hidden--visually\" id=\"sk-estimator-id-104\" type=\"checkbox\" ><label for=\"sk-estimator-id-104\" class=\"sk-toggleable__label sk-toggleable__label-arrow\">cat</label><div class=\"sk-toggleable__content\"><pre>[&#x27;subagency&#x27;, &#x27;state&#x27;, &#x27;vehicletype&#x27;, &#x27;make&#x27;, &#x27;model&#x27;, &#x27;color&#x27;, &#x27;charge&#x27;, &#x27;article&#x27;, &#x27;race&#x27;, &#x27;gender&#x27;, &#x27;driver_city&#x27;, &#x27;driver_state&#x27;, &#x27;dl_state&#x27;, &#x27;arrest_type&#x27;, &#x27;season_of_stop&#x27;, &#x27;hour_of_stop&#x27;]</pre></div></div></div><div class=\"sk-serial\"><div class=\"sk-item\"><div class=\"sk-serial\"><div class=\"sk-item\"><div class=\"sk-estimator sk-toggleable\"><input class=\"sk-toggleable__control sk-hidden--visually\" id=\"sk-estimator-id-105\" type=\"checkbox\" ><label for=\"sk-estimator-id-105\" class=\"sk-toggleable__label sk-toggleable__label-arrow\">SimpleImputer</label><div class=\"sk-toggleable__content\"><pre>SimpleImputer(strategy=&#x27;most_frequent&#x27;)</pre></div></div></div><div class=\"sk-item\"><div class=\"sk-estimator sk-toggleable\"><input class=\"sk-toggleable__control sk-hidden--visually\" id=\"sk-estimator-id-106\" type=\"checkbox\" ><label for=\"sk-estimator-id-106\" class=\"sk-toggleable__label sk-toggleable__label-arrow\">OneHotEncoder</label><div class=\"sk-toggleable__content\"><pre>OneHotEncoder(handle_unknown=&#x27;ignore&#x27;, max_categories=30)</pre></div></div></div></div></div></div></div></div><div class=\"sk-parallel-item\"><div class=\"sk-item\"><div class=\"sk-label-container\"><div class=\"sk-label sk-toggleable\"><input class=\"sk-toggleable__control sk-hidden--visually\" id=\"sk-estimator-id-107\" type=\"checkbox\" ><label for=\"sk-estimator-id-107\" class=\"sk-toggleable__label sk-toggleable__label-arrow\">remainder</label><div class=\"sk-toggleable__content\"><pre>[]</pre></div></div></div><div class=\"sk-serial\"><div class=\"sk-item\"><div class=\"sk-estimator sk-toggleable\"><input class=\"sk-toggleable__control sk-hidden--visually\" id=\"sk-estimator-id-108\" type=\"checkbox\" ><label for=\"sk-estimator-id-108\" class=\"sk-toggleable__label sk-toggleable__label-arrow\">passthrough</label><div class=\"sk-toggleable__content\"><pre>passthrough</pre></div></div></div></div></div></div></div></div><div class=\"sk-item\"><div class=\"sk-estimator sk-toggleable\"><input class=\"sk-toggleable__control sk-hidden--visually\" id=\"sk-estimator-id-109\" type=\"checkbox\" ><label for=\"sk-estimator-id-109\" class=\"sk-toggleable__label sk-toggleable__label-arrow\">SelectKBest</label><div class=\"sk-toggleable__content\"><pre>SelectKBest(k=100,\n",
       "            score_func=&lt;function mutual_info_classif at 0x00000175AC533880&gt;)</pre></div></div></div><div class=\"sk-item\"><div class=\"sk-estimator sk-toggleable\"><input class=\"sk-toggleable__control sk-hidden--visually\" id=\"sk-estimator-id-110\" type=\"checkbox\" ><label for=\"sk-estimator-id-110\" class=\"sk-toggleable__label sk-toggleable__label-arrow\">LogisticRegression</label><div class=\"sk-toggleable__content\"><pre>LogisticRegression(max_iter=200, random_state=42, solver=&#x27;sag&#x27;)</pre></div></div></div></div></div></div></div>"
      ],
      "text/plain": [
       "Pipeline(steps=[('preprocess',\n",
       "                 ColumnTransformer(n_jobs=-1, remainder='passthrough',\n",
       "                                   transformers=[('bool',\n",
       "                                                  SimpleImputer(strategy='most_frequent'),\n",
       "                                                  ['belts', 'personal_injury',\n",
       "                                                   'property_damage', 'fatal',\n",
       "                                                   'commercial_license',\n",
       "                                                   'hazmat',\n",
       "                                                   'commercial_vehicle',\n",
       "                                                   'alcohol', 'work_zone',\n",
       "                                                   'contributed_to_accident']),\n",
       "                                                 ('num',\n",
       "                                                  Pipeline(steps=[('numerical_imputer',\n",
       "                                                                   SimpleIm...\n",
       "                                                   'model', 'color', 'charge',\n",
       "                                                   'article', 'race', 'gender',\n",
       "                                                   'driver_city',\n",
       "                                                   'driver_state', 'dl_state',\n",
       "                                                   'arrest_type',\n",
       "                                                   'season_of_stop',\n",
       "                                                   'hour_of_stop'])],\n",
       "                                   verbose=True)),\n",
       "                ('feature_selection',\n",
       "                 SelectKBest(k=100,\n",
       "                             score_func=<function mutual_info_classif at 0x00000175AC533880>)),\n",
       "                ('classification',\n",
       "                 LogisticRegression(max_iter=200, random_state=42,\n",
       "                                    solver='sag'))],\n",
       "         verbose=True)"
      ]
     },
     "execution_count": 60,
     "metadata": {},
     "output_type": "execute_result"
    }
   ],
   "source": [
    "model_pipeline"
   ]
  },
  {
   "cell_type": "markdown",
   "id": "adfc3c06",
   "metadata": {},
   "source": [
    "## Fine-tuning and testing Random Forest"
   ]
  },
  {
   "cell_type": "code",
   "execution_count": 107,
   "id": "b12d3d0a",
   "metadata": {},
   "outputs": [
    {
     "name": "stderr",
     "output_type": "stream",
     "text": [
      "c:\\Users\\Mona\\anaconda3\\envs\\mlzoomcamp\\lib\\site-packages\\sklearn\\model_selection\\_search.py:306: UserWarning: The total space of parameters 4 is smaller than n_iter=10. Running 4 iterations. For exhaustive searches, use GridSearchCV.\n",
      "  warnings.warn(\n"
     ]
    },
    {
     "name": "stdout",
     "output_type": "stream",
     "text": [
      "Fitting 3 folds for each of 4 candidates, totalling 12 fits\n",
      "[Pipeline] ........ (step 1 of 3) Processing preprocess, total=  23.1s\n"
     ]
    },
    {
     "name": "stderr",
     "output_type": "stream",
     "text": [
      "c:\\Users\\Mona\\anaconda3\\envs\\mlzoomcamp\\lib\\site-packages\\sklearn\\metrics\\cluster\\_supervised.py:64: UserWarning: Clustering metrics expects discrete values but received continuous values for label, and multiclass values for target\n",
      "  warnings.warn(msg, UserWarning)\n"
     ]
    },
    {
     "name": "stdout",
     "output_type": "stream",
     "text": [
      "[Pipeline] . (step 2 of 3) Processing feature_selection, total=  56.2s\n",
      "[Pipeline] .... (step 3 of 3) Processing classification, total= 3.6min\n",
      "Best params are: {'classification__n_estimators': 400, 'classification__max_depth': 10}\n",
      "Validation set balanced_accuracy score on best params is: 0.6466159613009199\n"
     ]
    }
   ],
   "source": [
    "from sklearn.ensemble import RandomForestClassifier\n",
    "\n",
    "model_pipeline = create_model_pipeline(use_cat_OHE = True)\n",
    "model_for_classification = RandomForestClassifier(random_state=42, n_jobs= -1)\n",
    "model_pipeline.steps.insert(2,('classification', model_for_classification)) #insert as second step\n",
    "\n",
    "distributions = {\n",
    "    'classification__n_estimators': [200, 400],\n",
    "    # 'classification__max_features': [\"sqrt\", \"log2\"],\n",
    "    'classification__max_depth': [8,10],\n",
    "    # 'classification__min_samples_leaf': [20,50],\n",
    "    # 'classification__criterion': [\"gini\", \"entropy\"],\n",
    "}\n",
    "\n",
    "random_grid_search(model_pipeline, distributions, x_train, y_train )"
   ]
  },
  {
   "cell_type": "code",
   "execution_count": 110,
   "id": "0cdffd2a",
   "metadata": {},
   "outputs": [
    {
     "name": "stdout",
     "output_type": "stream",
     "text": [
      "[Pipeline] ........ (step 1 of 3) Processing preprocess, total=  25.1s\n"
     ]
    },
    {
     "name": "stderr",
     "output_type": "stream",
     "text": [
      "c:\\Users\\Mona\\anaconda3\\envs\\mlzoomcamp\\lib\\site-packages\\sklearn\\metrics\\cluster\\_supervised.py:64: UserWarning: Clustering metrics expects discrete values but received continuous values for label, and multiclass values for target\n",
      "  warnings.warn(msg, UserWarning)\n"
     ]
    },
    {
     "name": "stdout",
     "output_type": "stream",
     "text": [
      "[Pipeline] . (step 2 of 3) Processing feature_selection, total=  59.9s\n",
      "[Pipeline] .... (step 3 of 3) Processing classification, total= 3.5min\n",
      "\n",
      "Results on the test set are: \n",
      "balanced accuracy socre is: 0.646\n",
      "precision of model is: 0.707\n",
      "RMSE of model is 1.112\n",
      "              precision    recall  f1-score   support\n",
      "\n",
      "           0       0.77      0.53      0.63     98287\n",
      "           1       1.00      0.57      0.73     10408\n",
      "           2       0.61      0.84      0.71     93453\n",
      "\n",
      "    accuracy                           0.67    202148\n",
      "   macro avg       0.79      0.65      0.69    202148\n",
      "weighted avg       0.71      0.67      0.67    202148\n",
      "\n"
     ]
    },
    {
     "data": {
      "image/png": "[encoded data removed]",
      "text/plain": [
       "<Figure size 640x480 with 2 Axes>"
      ]
     },
     "metadata": {},
     "output_type": "display_data"
    }
   ],
   "source": [
    "# create pipeline with fine-tuned hyper-paramter of the model:\n",
    "model_pipeline = create_model_pipeline()\n",
    "tuned_model_classification = RandomForestClassifier(n_estimators=400, max_depth=10, random_state=42, n_jobs= -1)\n",
    "model_pipeline.steps.insert(2,('classification', tuned_model_classification)) #insert as second step\n",
    "\n",
    "# train with fine tuned hyper-params:\n",
    "model_pipeline.fit_transform(x_train, y_train)\n",
    "\n",
    "# test the model on withheld dataset:\n",
    "print(\"\\nResults on the test set are: \")\n",
    "model_predict_scores(model_pipeline, x_val, y_val, le) "
   ]
  },
  {
   "cell_type": "code",
   "execution_count": null,
   "id": "e415a337",
   "metadata": {},
   "outputs": [
    {
     "data": {
      "text/html": [
       "<style>#sk-container-id-24 {color: black;background-color: white;}#sk-container-id-24 pre{padding: 0;}#sk-container-id-24 div.sk-toggleable {background-color: white;}#sk-container-id-24 label.sk-toggleable__label {cursor: pointer;display: block;width: 100%;margin-bottom: 0;padding: 0.3em;box-sizing: border-box;text-align: center;}#sk-container-id-24 label.sk-toggleable__label-arrow:before {content: \"▸\";float: left;margin-right: 0.25em;color: #696969;}#sk-container-id-24 label.sk-toggleable__label-arrow:hover:before {color: black;}#sk-container-id-24 div.sk-estimator:hover label.sk-toggleable__label-arrow:before {color: black;}#sk-container-id-24 div.sk-toggleable__content {max-height: 0;max-width: 0;overflow: hidden;text-align: left;background-color: #f0f8ff;}#sk-container-id-24 div.sk-toggleable__content pre {margin: 0.2em;color: black;border-radius: 0.25em;background-color: #f0f8ff;}#sk-container-id-24 input.sk-toggleable__control:checked~div.sk-toggleable__content {max-height: 200px;max-width: 100%;overflow: auto;}#sk-container-id-24 input.sk-toggleable__control:checked~label.sk-toggleable__label-arrow:before {content: \"▾\";}#sk-container-id-24 div.sk-estimator input.sk-toggleable__control:checked~label.sk-toggleable__label {background-color: #d4ebff;}#sk-container-id-24 div.sk-label input.sk-toggleable__control:checked~label.sk-toggleable__label {background-color: #d4ebff;}#sk-container-id-24 input.sk-hidden--visually {border: 0;clip: rect(1px 1px 1px 1px);clip: rect(1px, 1px, 1px, 1px);height: 1px;margin: -1px;overflow: hidden;padding: 0;position: absolute;width: 1px;}#sk-container-id-24 div.sk-estimator {font-family: monospace;background-color: #f0f8ff;border: 1px dotted black;border-radius: 0.25em;box-sizing: border-box;margin-bottom: 0.5em;}#sk-container-id-24 div.sk-estimator:hover {background-color: #d4ebff;}#sk-container-id-24 div.sk-parallel-item::after {content: \"\";width: 100%;border-bottom: 1px solid gray;flex-grow: 1;}#sk-container-id-24 div.sk-label:hover label.sk-toggleable__label {background-color: #d4ebff;}#sk-container-id-24 div.sk-serial::before {content: \"\";position: absolute;border-left: 1px solid gray;box-sizing: border-box;top: 0;bottom: 0;left: 50%;z-index: 0;}#sk-container-id-24 div.sk-serial {display: flex;flex-direction: column;align-items: center;background-color: white;padding-right: 0.2em;padding-left: 0.2em;position: relative;}#sk-container-id-24 div.sk-item {position: relative;z-index: 1;}#sk-container-id-24 div.sk-parallel {display: flex;align-items: stretch;justify-content: center;background-color: white;position: relative;}#sk-container-id-24 div.sk-item::before, #sk-container-id-24 div.sk-parallel-item::before {content: \"\";position: absolute;border-left: 1px solid gray;box-sizing: border-box;top: 0;bottom: 0;left: 50%;z-index: -1;}#sk-container-id-24 div.sk-parallel-item {display: flex;flex-direction: column;z-index: 1;position: relative;background-color: white;}#sk-container-id-24 div.sk-parallel-item:first-child::after {align-self: flex-end;width: 50%;}#sk-container-id-24 div.sk-parallel-item:last-child::after {align-self: flex-start;width: 50%;}#sk-container-id-24 div.sk-parallel-item:only-child::after {width: 0;}#sk-container-id-24 div.sk-dashed-wrapped {border: 1px dashed gray;margin: 0 0.4em 0.5em 0.4em;box-sizing: border-box;padding-bottom: 0.4em;background-color: white;}#sk-container-id-24 div.sk-label label {font-family: monospace;font-weight: bold;display: inline-block;line-height: 1.2em;}#sk-container-id-24 div.sk-label-container {text-align: center;}#sk-container-id-24 div.sk-container {/* jupyter's `normalize.less` sets `[hidden] { display: none; }` but bootstrap.min.css set `[hidden] { display: none !important; }` so we also need the `!important` here to be able to override the default hidden behavior on the sphinx rendered scikit-learn.org. See: https://github.com/scikit-learn/scikit-learn/issues/21755 */display: inline-block !important;position: relative;}#sk-container-id-24 div.sk-text-repr-fallback {display: none;}</style><div id=\"sk-container-id-24\" class=\"sk-top-container\"><div class=\"sk-text-repr-fallback\"><pre>Pipeline(steps=[(&#x27;preprocess&#x27;,\n",
       "                 ColumnTransformer(n_jobs=-1, remainder=&#x27;passthrough&#x27;,\n",
       "                                   transformers=[(&#x27;bool&#x27;,\n",
       "                                                  SimpleImputer(strategy=&#x27;most_frequent&#x27;),\n",
       "                                                  [&#x27;belts&#x27;, &#x27;personal_injury&#x27;,\n",
       "                                                   &#x27;property_damage&#x27;, &#x27;fatal&#x27;,\n",
       "                                                   &#x27;commercial_license&#x27;,\n",
       "                                                   &#x27;hazmat&#x27;,\n",
       "                                                   &#x27;commercial_vehicle&#x27;,\n",
       "                                                   &#x27;alcohol&#x27;, &#x27;work_zone&#x27;,\n",
       "                                                   &#x27;contributed_to_accident&#x27;]),\n",
       "                                                 (&#x27;num&#x27;,\n",
       "                                                  Pipeline(steps=[(&#x27;numerical_imputer&#x27;,\n",
       "                                                                   SimpleIm...\n",
       "                                                   &#x27;model&#x27;, &#x27;color&#x27;, &#x27;charge&#x27;,\n",
       "                                                   &#x27;article&#x27;, &#x27;race&#x27;, &#x27;gender&#x27;,\n",
       "                                                   &#x27;driver_city&#x27;,\n",
       "                                                   &#x27;driver_state&#x27;, &#x27;dl_state&#x27;,\n",
       "                                                   &#x27;arrest_type&#x27;,\n",
       "                                                   &#x27;season_of_stop&#x27;,\n",
       "                                                   &#x27;hour_of_stop&#x27;])],\n",
       "                                   verbose=True)),\n",
       "                (&#x27;feature_selection&#x27;,\n",
       "                 SelectKBest(k=100,\n",
       "                             score_func=&lt;function mutual_info_classif at 0x00000175AC533880&gt;)),\n",
       "                (&#x27;classification&#x27;,\n",
       "                 RandomForestClassifier(max_depth=10, n_estimators=400,\n",
       "                                        n_jobs=-1, random_state=42))],\n",
       "         verbose=True)</pre><b>In a Jupyter environment, please rerun this cell to show the HTML representation or trust the notebook. <br />On GitHub, the HTML representation is unable to render, please try loading this page with nbviewer.org.</b></div><div class=\"sk-container\" hidden><div class=\"sk-item sk-dashed-wrapped\"><div class=\"sk-label-container\"><div class=\"sk-label sk-toggleable\"><input class=\"sk-toggleable__control sk-hidden--visually\" id=\"sk-estimator-id-294\" type=\"checkbox\" ><label for=\"sk-estimator-id-294\" class=\"sk-toggleable__label sk-toggleable__label-arrow\">Pipeline</label><div class=\"sk-toggleable__content\"><pre>Pipeline(steps=[(&#x27;preprocess&#x27;,\n",
       "                 ColumnTransformer(n_jobs=-1, remainder=&#x27;passthrough&#x27;,\n",
       "                                   transformers=[(&#x27;bool&#x27;,\n",
       "                                                  SimpleImputer(strategy=&#x27;most_frequent&#x27;),\n",
       "                                                  [&#x27;belts&#x27;, &#x27;personal_injury&#x27;,\n",
       "                                                   &#x27;property_damage&#x27;, &#x27;fatal&#x27;,\n",
       "                                                   &#x27;commercial_license&#x27;,\n",
       "                                                   &#x27;hazmat&#x27;,\n",
       "                                                   &#x27;commercial_vehicle&#x27;,\n",
       "                                                   &#x27;alcohol&#x27;, &#x27;work_zone&#x27;,\n",
       "                                                   &#x27;contributed_to_accident&#x27;]),\n",
       "                                                 (&#x27;num&#x27;,\n",
       "                                                  Pipeline(steps=[(&#x27;numerical_imputer&#x27;,\n",
       "                                                                   SimpleIm...\n",
       "                                                   &#x27;model&#x27;, &#x27;color&#x27;, &#x27;charge&#x27;,\n",
       "                                                   &#x27;article&#x27;, &#x27;race&#x27;, &#x27;gender&#x27;,\n",
       "                                                   &#x27;driver_city&#x27;,\n",
       "                                                   &#x27;driver_state&#x27;, &#x27;dl_state&#x27;,\n",
       "                                                   &#x27;arrest_type&#x27;,\n",
       "                                                   &#x27;season_of_stop&#x27;,\n",
       "                                                   &#x27;hour_of_stop&#x27;])],\n",
       "                                   verbose=True)),\n",
       "                (&#x27;feature_selection&#x27;,\n",
       "                 SelectKBest(k=100,\n",
       "                             score_func=&lt;function mutual_info_classif at 0x00000175AC533880&gt;)),\n",
       "                (&#x27;classification&#x27;,\n",
       "                 RandomForestClassifier(max_depth=10, n_estimators=400,\n",
       "                                        n_jobs=-1, random_state=42))],\n",
       "         verbose=True)</pre></div></div></div><div class=\"sk-serial\"><div class=\"sk-item sk-dashed-wrapped\"><div class=\"sk-label-container\"><div class=\"sk-label sk-toggleable\"><input class=\"sk-toggleable__control sk-hidden--visually\" id=\"sk-estimator-id-295\" type=\"checkbox\" ><label for=\"sk-estimator-id-295\" class=\"sk-toggleable__label sk-toggleable__label-arrow\">preprocess: ColumnTransformer</label><div class=\"sk-toggleable__content\"><pre>ColumnTransformer(n_jobs=-1, remainder=&#x27;passthrough&#x27;,\n",
       "                  transformers=[(&#x27;bool&#x27;,\n",
       "                                 SimpleImputer(strategy=&#x27;most_frequent&#x27;),\n",
       "                                 [&#x27;belts&#x27;, &#x27;personal_injury&#x27;, &#x27;property_damage&#x27;,\n",
       "                                  &#x27;fatal&#x27;, &#x27;commercial_license&#x27;, &#x27;hazmat&#x27;,\n",
       "                                  &#x27;commercial_vehicle&#x27;, &#x27;alcohol&#x27;, &#x27;work_zone&#x27;,\n",
       "                                  &#x27;contributed_to_accident&#x27;]),\n",
       "                                (&#x27;num&#x27;,\n",
       "                                 Pipeline(steps=[(&#x27;numerical_imputer&#x27;,\n",
       "                                                  SimpleImputer()),\n",
       "                                                 (&#x27;scaler&#x27;, RobustScale...\n",
       "                                 Pipeline(steps=[(&#x27;categorical_imputer&#x27;,\n",
       "                                                  SimpleImputer(strategy=&#x27;most_frequent&#x27;)),\n",
       "                                                 (&#x27;OHE_encoder&#x27;,\n",
       "                                                  OneHotEncoder(handle_unknown=&#x27;ignore&#x27;,\n",
       "                                                                max_categories=30))],\n",
       "                                          verbose=True),\n",
       "                                 [&#x27;subagency&#x27;, &#x27;state&#x27;, &#x27;vehicletype&#x27;, &#x27;make&#x27;,\n",
       "                                  &#x27;model&#x27;, &#x27;color&#x27;, &#x27;charge&#x27;, &#x27;article&#x27;, &#x27;race&#x27;,\n",
       "                                  &#x27;gender&#x27;, &#x27;driver_city&#x27;, &#x27;driver_state&#x27;,\n",
       "                                  &#x27;dl_state&#x27;, &#x27;arrest_type&#x27;, &#x27;season_of_stop&#x27;,\n",
       "                                  &#x27;hour_of_stop&#x27;])],\n",
       "                  verbose=True)</pre></div></div></div><div class=\"sk-parallel\"><div class=\"sk-parallel-item\"><div class=\"sk-item\"><div class=\"sk-label-container\"><div class=\"sk-label sk-toggleable\"><input class=\"sk-toggleable__control sk-hidden--visually\" id=\"sk-estimator-id-296\" type=\"checkbox\" ><label for=\"sk-estimator-id-296\" class=\"sk-toggleable__label sk-toggleable__label-arrow\">bool</label><div class=\"sk-toggleable__content\"><pre>[&#x27;belts&#x27;, &#x27;personal_injury&#x27;, &#x27;property_damage&#x27;, &#x27;fatal&#x27;, &#x27;commercial_license&#x27;, &#x27;hazmat&#x27;, &#x27;commercial_vehicle&#x27;, &#x27;alcohol&#x27;, &#x27;work_zone&#x27;, &#x27;contributed_to_accident&#x27;]</pre></div></div></div><div class=\"sk-serial\"><div class=\"sk-item\"><div class=\"sk-estimator sk-toggleable\"><input class=\"sk-toggleable__control sk-hidden--visually\" id=\"sk-estimator-id-297\" type=\"checkbox\" ><label for=\"sk-estimator-id-297\" class=\"sk-toggleable__label sk-toggleable__label-arrow\">SimpleImputer</label><div class=\"sk-toggleable__content\"><pre>SimpleImputer(strategy=&#x27;most_frequent&#x27;)</pre></div></div></div></div></div></div><div class=\"sk-parallel-item\"><div class=\"sk-item\"><div class=\"sk-label-container\"><div class=\"sk-label sk-toggleable\"><input class=\"sk-toggleable__control sk-hidden--visually\" id=\"sk-estimator-id-298\" type=\"checkbox\" ><label for=\"sk-estimator-id-298\" class=\"sk-toggleable__label sk-toggleable__label-arrow\">num</label><div class=\"sk-toggleable__content\"><pre>[&#x27;car_age&#x27;]</pre></div></div></div><div class=\"sk-serial\"><div class=\"sk-item\"><div class=\"sk-serial\"><div class=\"sk-item\"><div class=\"sk-estimator sk-toggleable\"><input class=\"sk-toggleable__control sk-hidden--visually\" id=\"sk-estimator-id-299\" type=\"checkbox\" ><label for=\"sk-estimator-id-299\" class=\"sk-toggleable__label sk-toggleable__label-arrow\">SimpleImputer</label><div class=\"sk-toggleable__content\"><pre>SimpleImputer()</pre></div></div></div><div class=\"sk-item\"><div class=\"sk-estimator sk-toggleable\"><input class=\"sk-toggleable__control sk-hidden--visually\" id=\"sk-estimator-id-300\" type=\"checkbox\" ><label for=\"sk-estimator-id-300\" class=\"sk-toggleable__label sk-toggleable__label-arrow\">RobustScaler</label><div class=\"sk-toggleable__content\"><pre>RobustScaler()</pre></div></div></div></div></div></div></div></div><div class=\"sk-parallel-item\"><div class=\"sk-item\"><div class=\"sk-label-container\"><div class=\"sk-label sk-toggleable\"><input class=\"sk-toggleable__control sk-hidden--visually\" id=\"sk-estimator-id-301\" type=\"checkbox\" ><label for=\"sk-estimator-id-301\" class=\"sk-toggleable__label sk-toggleable__label-arrow\">cat</label><div class=\"sk-toggleable__content\"><pre>[&#x27;subagency&#x27;, &#x27;state&#x27;, &#x27;vehicletype&#x27;, &#x27;make&#x27;, &#x27;model&#x27;, &#x27;color&#x27;, &#x27;charge&#x27;, &#x27;article&#x27;, &#x27;race&#x27;, &#x27;gender&#x27;, &#x27;driver_city&#x27;, &#x27;driver_state&#x27;, &#x27;dl_state&#x27;, &#x27;arrest_type&#x27;, &#x27;season_of_stop&#x27;, &#x27;hour_of_stop&#x27;]</pre></div></div></div><div class=\"sk-serial\"><div class=\"sk-item\"><div class=\"sk-serial\"><div class=\"sk-item\"><div class=\"sk-estimator sk-toggleable\"><input class=\"sk-toggleable__control sk-hidden--visually\" id=\"sk-estimator-id-302\" type=\"checkbox\" ><label for=\"sk-estimator-id-302\" class=\"sk-toggleable__label sk-toggleable__label-arrow\">SimpleImputer</label><div class=\"sk-toggleable__content\"><pre>SimpleImputer(strategy=&#x27;most_frequent&#x27;)</pre></div></div></div><div class=\"sk-item\"><div class=\"sk-estimator sk-toggleable\"><input class=\"sk-toggleable__control sk-hidden--visually\" id=\"sk-estimator-id-303\" type=\"checkbox\" ><label for=\"sk-estimator-id-303\" class=\"sk-toggleable__label sk-toggleable__label-arrow\">OneHotEncoder</label><div class=\"sk-toggleable__content\"><pre>OneHotEncoder(handle_unknown=&#x27;ignore&#x27;, max_categories=30)</pre></div></div></div></div></div></div></div></div><div class=\"sk-parallel-item\"><div class=\"sk-item\"><div class=\"sk-label-container\"><div class=\"sk-label sk-toggleable\"><input class=\"sk-toggleable__control sk-hidden--visually\" id=\"sk-estimator-id-304\" type=\"checkbox\" ><label for=\"sk-estimator-id-304\" class=\"sk-toggleable__label sk-toggleable__label-arrow\">remainder</label><div class=\"sk-toggleable__content\"><pre>[]</pre></div></div></div><div class=\"sk-serial\"><div class=\"sk-item\"><div class=\"sk-estimator sk-toggleable\"><input class=\"sk-toggleable__control sk-hidden--visually\" id=\"sk-estimator-id-305\" type=\"checkbox\" ><label for=\"sk-estimator-id-305\" class=\"sk-toggleable__label sk-toggleable__label-arrow\">passthrough</label><div class=\"sk-toggleable__content\"><pre>passthrough</pre></div></div></div></div></div></div></div></div><div class=\"sk-item\"><div class=\"sk-estimator sk-toggleable\"><input class=\"sk-toggleable__control sk-hidden--visually\" id=\"sk-estimator-id-306\" type=\"checkbox\" ><label for=\"sk-estimator-id-306\" class=\"sk-toggleable__label sk-toggleable__label-arrow\">SelectKBest</label><div class=\"sk-toggleable__content\"><pre>SelectKBest(k=100,\n",
       "            score_func=&lt;function mutual_info_classif at 0x00000175AC533880&gt;)</pre></div></div></div><div class=\"sk-item\"><div class=\"sk-estimator sk-toggleable\"><input class=\"sk-toggleable__control sk-hidden--visually\" id=\"sk-estimator-id-307\" type=\"checkbox\" ><label for=\"sk-estimator-id-307\" class=\"sk-toggleable__label sk-toggleable__label-arrow\">RandomForestClassifier</label><div class=\"sk-toggleable__content\"><pre>RandomForestClassifier(max_depth=10, n_estimators=400, n_jobs=-1,\n",
       "                       random_state=42)</pre></div></div></div></div></div></div></div>"
      ],
      "text/plain": [
       "Pipeline(steps=[('preprocess',\n",
       "                 ColumnTransformer(n_jobs=-1, remainder='passthrough',\n",
       "                                   transformers=[('bool',\n",
       "                                                  SimpleImputer(strategy='most_frequent'),\n",
       "                                                  ['belts', 'personal_injury',\n",
       "                                                   'property_damage', 'fatal',\n",
       "                                                   'commercial_license',\n",
       "                                                   'hazmat',\n",
       "                                                   'commercial_vehicle',\n",
       "                                                   'alcohol', 'work_zone',\n",
       "                                                   'contributed_to_accident']),\n",
       "                                                 ('num',\n",
       "                                                  Pipeline(steps=[('numerical_imputer',\n",
       "                                                                   SimpleIm...\n",
       "                                                   'model', 'color', 'charge',\n",
       "                                                   'article', 'race', 'gender',\n",
       "                                                   'driver_city',\n",
       "                                                   'driver_state', 'dl_state',\n",
       "                                                   'arrest_type',\n",
       "                                                   'season_of_stop',\n",
       "                                                   'hour_of_stop'])],\n",
       "                                   verbose=True)),\n",
       "                ('feature_selection',\n",
       "                 SelectKBest(k=100,\n",
       "                             score_func=<function mutual_info_classif at 0x00000175AC533880>)),\n",
       "                ('classification',\n",
       "                 RandomForestClassifier(max_depth=10, n_estimators=400,\n",
       "                                        n_jobs=-1, random_state=42))],\n",
       "         verbose=True)"
      ]
     },
     "metadata": {},
     "output_type": "display_data"
    }
   ],
   "source": [
    "model_pipeline"
   ]
  },
  {
   "cell_type": "markdown",
   "id": "a4d741a3",
   "metadata": {},
   "source": [
    "## Fine-tuning and testing XGBoostClassifer"
   ]
  },
  {
   "cell_type": "code",
   "execution_count": 11,
   "id": "b939c3b9",
   "metadata": {},
   "outputs": [
    {
     "name": "stdout",
     "output_type": "stream",
     "text": [
      "[Pipeline] ........ (step 1 of 2) Processing preprocess, total=  46.4s\n"
     ]
    },
    {
     "name": "stderr",
     "output_type": "stream",
     "text": [
      "c:\\Users\\Mona\\anaconda3\\envs\\mlzoomcamp\\lib\\site-packages\\sklearn\\metrics\\cluster\\_supervised.py:64: UserWarning: Clustering metrics expects discrete values but received continuous values for label, and multiclass values for target\n",
      "  warnings.warn(msg, UserWarning)\n"
     ]
    },
    {
     "name": "stdout",
     "output_type": "stream",
     "text": [
      "[Pipeline] . (step 2 of 2) Processing feature_selection, total= 1.5min\n"
     ]
    }
   ],
   "source": [
    "from xgboost import XGBClassifier\n",
    "from sklearn.metrics import balanced_accuracy_score\n",
    "\n",
    "\n",
    "model_pipeline = create_model_pipeline(use_cat_OHE = True)\n",
    "Xt = model_pipeline.fit_transform(x_train, y_train)\n",
    "X_val_t = model_pipeline.transform(x_val)\n",
    "\n",
    "scores = []\n",
    "for learning_rate in [ 0.01, 0.03]:\n",
    "    for max_depth in [10, 20]:\n",
    "        for n_estimators in [100, 200]:   \n",
    "\n",
    "            model = XGBClassifier(objective='multi:softmax',learning_rate=learning_rate, max_depth=max_depth,n_estimators=n_estimators, \n",
    "                        eval_metric=balanced_accuracy_score, n_jobs = -1, random_state=42)\n",
    "\n",
    "            model.fit(Xt, y_train)\n",
    "            y_pred = model.predict(X_val_t)\n",
    "\n",
    "            label_string = le.classes_\n",
    "            y_val_string = le.inverse_transform(y_val)\n",
    "            y_pred_string = le.inverse_transform(y_pred)\n",
    "            balanced_accuracy = round(balanced_accuracy_score(y_val, y_pred), 3)\n",
    "            scores.append((learning_rate, max_depth, n_estimators, balanced_accuracy))\n"
   ]
  },
  {
   "cell_type": "code",
   "execution_count": 26,
   "id": "44c00ccf",
   "metadata": {},
   "outputs": [
    {
     "data": {
      "text/html": [
       "<div>\n",
       "<style scoped>\n",
       "    .dataframe tbody tr th:only-of-type {\n",
       "        vertical-align: middle;\n",
       "    }\n",
       "\n",
       "    .dataframe tbody tr th {\n",
       "        vertical-align: top;\n",
       "    }\n",
       "\n",
       "    .dataframe thead th {\n",
       "        text-align: right;\n",
       "    }\n",
       "</style>\n",
       "<table border=\"1\" class=\"dataframe\">\n",
       "  <thead>\n",
       "    <tr style=\"text-align: right;\">\n",
       "      <th></th>\n",
       "      <th>learning_rate</th>\n",
       "      <th>max_depth</th>\n",
       "      <th>n_estimators</th>\n",
       "      <th>balanced_accuracy</th>\n",
       "    </tr>\n",
       "  </thead>\n",
       "  <tbody>\n",
       "    <tr>\n",
       "      <th>0</th>\n",
       "      <td>0.01</td>\n",
       "      <td>10</td>\n",
       "      <td>100</td>\n",
       "      <td>0.643</td>\n",
       "    </tr>\n",
       "    <tr>\n",
       "      <th>1</th>\n",
       "      <td>0.01</td>\n",
       "      <td>10</td>\n",
       "      <td>200</td>\n",
       "      <td>0.656</td>\n",
       "    </tr>\n",
       "    <tr>\n",
       "      <th>2</th>\n",
       "      <td>0.01</td>\n",
       "      <td>20</td>\n",
       "      <td>100</td>\n",
       "      <td>0.673</td>\n",
       "    </tr>\n",
       "    <tr>\n",
       "      <th>3</th>\n",
       "      <td>0.01</td>\n",
       "      <td>20</td>\n",
       "      <td>200</td>\n",
       "      <td>0.676</td>\n",
       "    </tr>\n",
       "    <tr>\n",
       "      <th>4</th>\n",
       "      <td>0.03</td>\n",
       "      <td>10</td>\n",
       "      <td>100</td>\n",
       "      <td>0.665</td>\n",
       "    </tr>\n",
       "    <tr>\n",
       "      <th>5</th>\n",
       "      <td>0.03</td>\n",
       "      <td>10</td>\n",
       "      <td>200</td>\n",
       "      <td>0.675</td>\n",
       "    </tr>\n",
       "    <tr>\n",
       "      <th>6</th>\n",
       "      <td>0.03</td>\n",
       "      <td>20</td>\n",
       "      <td>100</td>\n",
       "      <td>0.678</td>\n",
       "    </tr>\n",
       "    <tr>\n",
       "      <th>7</th>\n",
       "      <td>0.03</td>\n",
       "      <td>20</td>\n",
       "      <td>200</td>\n",
       "      <td>0.685</td>\n",
       "    </tr>\n",
       "  </tbody>\n",
       "</table>\n",
       "</div>"
      ],
      "text/plain": [
       "   learning_rate  max_depth  n_estimators  balanced_accuracy\n",
       "0           0.01         10           100              0.643\n",
       "1           0.01         10           200              0.656\n",
       "2           0.01         20           100              0.673\n",
       "3           0.01         20           200              0.676\n",
       "4           0.03         10           100              0.665\n",
       "5           0.03         10           200              0.675\n",
       "6           0.03         20           100              0.678\n",
       "7           0.03         20           200              0.685"
      ]
     },
     "execution_count": 26,
     "metadata": {},
     "output_type": "execute_result"
    }
   ],
   "source": [
    "columns = ['learning_rate', 'max_depth', 'n_estimators', 'balanced_accuracy']\n",
    "df_scores = pd.DataFrame(scores, columns=columns)\n",
    "df_scores"
   ]
  },
  {
   "cell_type": "code",
   "execution_count": 14,
   "id": "3933d3bb",
   "metadata": {},
   "outputs": [
    {
     "name": "stdout",
     "output_type": "stream",
     "text": [
      "[Pipeline] ........ (step 1 of 3) Processing preprocess, total=  18.6s\n"
     ]
    },
    {
     "name": "stderr",
     "output_type": "stream",
     "text": [
      "c:\\Users\\Mona\\anaconda3\\envs\\mlzoomcamp\\lib\\site-packages\\sklearn\\metrics\\cluster\\_supervised.py:64: UserWarning: Clustering metrics expects discrete values but received continuous values for label, and multiclass values for target\n",
      "  warnings.warn(msg, UserWarning)\n"
     ]
    },
    {
     "name": "stdout",
     "output_type": "stream",
     "text": [
      "[Pipeline] . (step 2 of 3) Processing feature_selection, total=  40.8s\n",
      "[Pipeline] .... (step 3 of 3) Processing classification, total=10.2min\n",
      "\n",
      "Results on the test set are: \n",
      "balanced accuracy socre is: 0.685\n",
      "precision of model is: 0.727\n",
      "RMSE of model is 1.047\n",
      "              precision    recall  f1-score   support\n",
      "\n",
      "           0       0.77      0.62      0.69     98287\n",
      "           1       0.96      0.62      0.75     10408\n",
      "           2       0.66      0.82      0.73     93453\n",
      "\n",
      "    accuracy                           0.71    202148\n",
      "   macro avg       0.79      0.68      0.72    202148\n",
      "weighted avg       0.73      0.71      0.71    202148\n",
      "\n"
     ]
    },
    {
     "data": {
      "image/png": "[encoded data removed]",
      "text/plain": [
       "<Figure size 640x480 with 2 Axes>"
      ]
     },
     "metadata": {},
     "output_type": "display_data"
    }
   ],
   "source": [
    "# test the best model on validation set with full pipeline and get scores:\n",
    "# create pipeline with fine-tuned hyper-paramter of the model:\n",
    "\n",
    "model_pipeline = create_model_pipeline(use_cat_OHE = True)\n",
    "tuned_model_classification = XGBClassifier(objective='multi:softmax',learning_rate=0.03, max_depth=20,n_estimators=200, eval_metric=balanced_accuracy_score, n_jobs = -1, random_state=42)\n",
    "model_pipeline.steps.insert(2,('classification', tuned_model_classification)) #insert as second step\n",
    "\n",
    "# train with fine tuned hyper-params:\n",
    "model_pipeline.fit(x_train, y_train)\n",
    "# test the model on withheld val dataset:\n",
    "print(\"\\nResults on the test set are: \")\n",
    "model_predict_scores(model_pipeline, x_val, y_val, le) "
   ]
  },
  {
   "cell_type": "code",
   "execution_count": 28,
   "id": "a1453139",
   "metadata": {},
   "outputs": [
    {
     "data": {
      "text/html": [
       "<style>#sk-container-id-4 {color: black;background-color: white;}#sk-container-id-4 pre{padding: 0;}#sk-container-id-4 div.sk-toggleable {background-color: white;}#sk-container-id-4 label.sk-toggleable__label {cursor: pointer;display: block;width: 100%;margin-bottom: 0;padding: 0.3em;box-sizing: border-box;text-align: center;}#sk-container-id-4 label.sk-toggleable__label-arrow:before {content: \"▸\";float: left;margin-right: 0.25em;color: #696969;}#sk-container-id-4 label.sk-toggleable__label-arrow:hover:before {color: black;}#sk-container-id-4 div.sk-estimator:hover label.sk-toggleable__label-arrow:before {color: black;}#sk-container-id-4 div.sk-toggleable__content {max-height: 0;max-width: 0;overflow: hidden;text-align: left;background-color: #f0f8ff;}#sk-container-id-4 div.sk-toggleable__content pre {margin: 0.2em;color: black;border-radius: 0.25em;background-color: #f0f8ff;}#sk-container-id-4 input.sk-toggleable__control:checked~div.sk-toggleable__content {max-height: 200px;max-width: 100%;overflow: auto;}#sk-container-id-4 input.sk-toggleable__control:checked~label.sk-toggleable__label-arrow:before {content: \"▾\";}#sk-container-id-4 div.sk-estimator input.sk-toggleable__control:checked~label.sk-toggleable__label {background-color: #d4ebff;}#sk-container-id-4 div.sk-label input.sk-toggleable__control:checked~label.sk-toggleable__label {background-color: #d4ebff;}#sk-container-id-4 input.sk-hidden--visually {border: 0;clip: rect(1px 1px 1px 1px);clip: rect(1px, 1px, 1px, 1px);height: 1px;margin: -1px;overflow: hidden;padding: 0;position: absolute;width: 1px;}#sk-container-id-4 div.sk-estimator {font-family: monospace;background-color: #f0f8ff;border: 1px dotted black;border-radius: 0.25em;box-sizing: border-box;margin-bottom: 0.5em;}#sk-container-id-4 div.sk-estimator:hover {background-color: #d4ebff;}#sk-container-id-4 div.sk-parallel-item::after {content: \"\";width: 100%;border-bottom: 1px solid gray;flex-grow: 1;}#sk-container-id-4 div.sk-label:hover label.sk-toggleable__label {background-color: #d4ebff;}#sk-container-id-4 div.sk-serial::before {content: \"\";position: absolute;border-left: 1px solid gray;box-sizing: border-box;top: 0;bottom: 0;left: 50%;z-index: 0;}#sk-container-id-4 div.sk-serial {display: flex;flex-direction: column;align-items: center;background-color: white;padding-right: 0.2em;padding-left: 0.2em;position: relative;}#sk-container-id-4 div.sk-item {position: relative;z-index: 1;}#sk-container-id-4 div.sk-parallel {display: flex;align-items: stretch;justify-content: center;background-color: white;position: relative;}#sk-container-id-4 div.sk-item::before, #sk-container-id-4 div.sk-parallel-item::before {content: \"\";position: absolute;border-left: 1px solid gray;box-sizing: border-box;top: 0;bottom: 0;left: 50%;z-index: -1;}#sk-container-id-4 div.sk-parallel-item {display: flex;flex-direction: column;z-index: 1;position: relative;background-color: white;}#sk-container-id-4 div.sk-parallel-item:first-child::after {align-self: flex-end;width: 50%;}#sk-container-id-4 div.sk-parallel-item:last-child::after {align-self: flex-start;width: 50%;}#sk-container-id-4 div.sk-parallel-item:only-child::after {width: 0;}#sk-container-id-4 div.sk-dashed-wrapped {border: 1px dashed gray;margin: 0 0.4em 0.5em 0.4em;box-sizing: border-box;padding-bottom: 0.4em;background-color: white;}#sk-container-id-4 div.sk-label label {font-family: monospace;font-weight: bold;display: inline-block;line-height: 1.2em;}#sk-container-id-4 div.sk-label-container {text-align: center;}#sk-container-id-4 div.sk-container {/* jupyter's `normalize.less` sets `[hidden] { display: none; }` but bootstrap.min.css set `[hidden] { display: none !important; }` so we also need the `!important` here to be able to override the default hidden behavior on the sphinx rendered scikit-learn.org. See: https://github.com/scikit-learn/scikit-learn/issues/21755 */display: inline-block !important;position: relative;}#sk-container-id-4 div.sk-text-repr-fallback {display: none;}</style><div id=\"sk-container-id-4\" class=\"sk-top-container\"><div class=\"sk-text-repr-fallback\"><pre>Pipeline(steps=[(&#x27;preprocess&#x27;,\n",
       "                 ColumnTransformer(n_jobs=-1, remainder=&#x27;passthrough&#x27;,\n",
       "                                   transformers=[(&#x27;bool&#x27;,\n",
       "                                                  SimpleImputer(strategy=&#x27;most_frequent&#x27;),\n",
       "                                                  [&#x27;belts&#x27;, &#x27;personal_injury&#x27;,\n",
       "                                                   &#x27;property_damage&#x27;, &#x27;fatal&#x27;,\n",
       "                                                   &#x27;commercial_license&#x27;,\n",
       "                                                   &#x27;hazmat&#x27;,\n",
       "                                                   &#x27;commercial_vehicle&#x27;,\n",
       "                                                   &#x27;alcohol&#x27;, &#x27;work_zone&#x27;,\n",
       "                                                   &#x27;contributed_to_accident&#x27;]),\n",
       "                                                 (&#x27;num&#x27;,\n",
       "                                                  Pipeline(steps=[(&#x27;numerical_imputer&#x27;,\n",
       "                                                                   SimpleIm...\n",
       "                               grow_policy=None, importance_type=None,\n",
       "                               interaction_constraints=None, learning_rate=0.03,\n",
       "                               max_bin=None, max_cat_threshold=None,\n",
       "                               max_cat_to_onehot=None, max_delta_step=None,\n",
       "                               max_depth=20, max_leaves=None,\n",
       "                               min_child_weight=None, missing=nan,\n",
       "                               monotone_constraints=None, n_estimators=200,\n",
       "                               n_jobs=-1, num_parallel_tree=None,\n",
       "                               objective=&#x27;multi:softmax&#x27;, predictor=None, ...))],\n",
       "         verbose=True)</pre><b>In a Jupyter environment, please rerun this cell to show the HTML representation or trust the notebook. <br />On GitHub, the HTML representation is unable to render, please try loading this page with nbviewer.org.</b></div><div class=\"sk-container\" hidden><div class=\"sk-item sk-dashed-wrapped\"><div class=\"sk-label-container\"><div class=\"sk-label sk-toggleable\"><input class=\"sk-toggleable__control sk-hidden--visually\" id=\"sk-estimator-id-29\" type=\"checkbox\" ><label for=\"sk-estimator-id-29\" class=\"sk-toggleable__label sk-toggleable__label-arrow\">Pipeline</label><div class=\"sk-toggleable__content\"><pre>Pipeline(steps=[(&#x27;preprocess&#x27;,\n",
       "                 ColumnTransformer(n_jobs=-1, remainder=&#x27;passthrough&#x27;,\n",
       "                                   transformers=[(&#x27;bool&#x27;,\n",
       "                                                  SimpleImputer(strategy=&#x27;most_frequent&#x27;),\n",
       "                                                  [&#x27;belts&#x27;, &#x27;personal_injury&#x27;,\n",
       "                                                   &#x27;property_damage&#x27;, &#x27;fatal&#x27;,\n",
       "                                                   &#x27;commercial_license&#x27;,\n",
       "                                                   &#x27;hazmat&#x27;,\n",
       "                                                   &#x27;commercial_vehicle&#x27;,\n",
       "                                                   &#x27;alcohol&#x27;, &#x27;work_zone&#x27;,\n",
       "                                                   &#x27;contributed_to_accident&#x27;]),\n",
       "                                                 (&#x27;num&#x27;,\n",
       "                                                  Pipeline(steps=[(&#x27;numerical_imputer&#x27;,\n",
       "                                                                   SimpleIm...\n",
       "                               grow_policy=None, importance_type=None,\n",
       "                               interaction_constraints=None, learning_rate=0.03,\n",
       "                               max_bin=None, max_cat_threshold=None,\n",
       "                               max_cat_to_onehot=None, max_delta_step=None,\n",
       "                               max_depth=20, max_leaves=None,\n",
       "                               min_child_weight=None, missing=nan,\n",
       "                               monotone_constraints=None, n_estimators=200,\n",
       "                               n_jobs=-1, num_parallel_tree=None,\n",
       "                               objective=&#x27;multi:softmax&#x27;, predictor=None, ...))],\n",
       "         verbose=True)</pre></div></div></div><div class=\"sk-serial\"><div class=\"sk-item sk-dashed-wrapped\"><div class=\"sk-label-container\"><div class=\"sk-label sk-toggleable\"><input class=\"sk-toggleable__control sk-hidden--visually\" id=\"sk-estimator-id-30\" type=\"checkbox\" ><label for=\"sk-estimator-id-30\" class=\"sk-toggleable__label sk-toggleable__label-arrow\">preprocess: ColumnTransformer</label><div class=\"sk-toggleable__content\"><pre>ColumnTransformer(n_jobs=-1, remainder=&#x27;passthrough&#x27;,\n",
       "                  transformers=[(&#x27;bool&#x27;,\n",
       "                                 SimpleImputer(strategy=&#x27;most_frequent&#x27;),\n",
       "                                 [&#x27;belts&#x27;, &#x27;personal_injury&#x27;, &#x27;property_damage&#x27;,\n",
       "                                  &#x27;fatal&#x27;, &#x27;commercial_license&#x27;, &#x27;hazmat&#x27;,\n",
       "                                  &#x27;commercial_vehicle&#x27;, &#x27;alcohol&#x27;, &#x27;work_zone&#x27;,\n",
       "                                  &#x27;contributed_to_accident&#x27;]),\n",
       "                                (&#x27;num&#x27;,\n",
       "                                 Pipeline(steps=[(&#x27;numerical_imputer&#x27;,\n",
       "                                                  SimpleImputer()),\n",
       "                                                 (&#x27;scaler&#x27;, RobustScale...\n",
       "                                 Pipeline(steps=[(&#x27;categorical_imputer&#x27;,\n",
       "                                                  SimpleImputer(strategy=&#x27;most_frequent&#x27;)),\n",
       "                                                 (&#x27;OHE_encoder&#x27;,\n",
       "                                                  OneHotEncoder(handle_unknown=&#x27;ignore&#x27;,\n",
       "                                                                max_categories=30))],\n",
       "                                          verbose=True),\n",
       "                                 [&#x27;subagency&#x27;, &#x27;state&#x27;, &#x27;vehicletype&#x27;, &#x27;make&#x27;,\n",
       "                                  &#x27;model&#x27;, &#x27;color&#x27;, &#x27;charge&#x27;, &#x27;article&#x27;, &#x27;race&#x27;,\n",
       "                                  &#x27;gender&#x27;, &#x27;driver_city&#x27;, &#x27;driver_state&#x27;,\n",
       "                                  &#x27;dl_state&#x27;, &#x27;arrest_type&#x27;, &#x27;season_of_stop&#x27;,\n",
       "                                  &#x27;hour_of_stop&#x27;])],\n",
       "                  verbose=True)</pre></div></div></div><div class=\"sk-parallel\"><div class=\"sk-parallel-item\"><div class=\"sk-item\"><div class=\"sk-label-container\"><div class=\"sk-label sk-toggleable\"><input class=\"sk-toggleable__control sk-hidden--visually\" id=\"sk-estimator-id-31\" type=\"checkbox\" ><label for=\"sk-estimator-id-31\" class=\"sk-toggleable__label sk-toggleable__label-arrow\">bool</label><div class=\"sk-toggleable__content\"><pre>[&#x27;belts&#x27;, &#x27;personal_injury&#x27;, &#x27;property_damage&#x27;, &#x27;fatal&#x27;, &#x27;commercial_license&#x27;, &#x27;hazmat&#x27;, &#x27;commercial_vehicle&#x27;, &#x27;alcohol&#x27;, &#x27;work_zone&#x27;, &#x27;contributed_to_accident&#x27;]</pre></div></div></div><div class=\"sk-serial\"><div class=\"sk-item\"><div class=\"sk-estimator sk-toggleable\"><input class=\"sk-toggleable__control sk-hidden--visually\" id=\"sk-estimator-id-32\" type=\"checkbox\" ><label for=\"sk-estimator-id-32\" class=\"sk-toggleable__label sk-toggleable__label-arrow\">SimpleImputer</label><div class=\"sk-toggleable__content\"><pre>SimpleImputer(strategy=&#x27;most_frequent&#x27;)</pre></div></div></div></div></div></div><div class=\"sk-parallel-item\"><div class=\"sk-item\"><div class=\"sk-label-container\"><div class=\"sk-label sk-toggleable\"><input class=\"sk-toggleable__control sk-hidden--visually\" id=\"sk-estimator-id-33\" type=\"checkbox\" ><label for=\"sk-estimator-id-33\" class=\"sk-toggleable__label sk-toggleable__label-arrow\">num</label><div class=\"sk-toggleable__content\"><pre>[&#x27;car_age&#x27;]</pre></div></div></div><div class=\"sk-serial\"><div class=\"sk-item\"><div class=\"sk-serial\"><div class=\"sk-item\"><div class=\"sk-estimator sk-toggleable\"><input class=\"sk-toggleable__control sk-hidden--visually\" id=\"sk-estimator-id-34\" type=\"checkbox\" ><label for=\"sk-estimator-id-34\" class=\"sk-toggleable__label sk-toggleable__label-arrow\">SimpleImputer</label><div class=\"sk-toggleable__content\"><pre>SimpleImputer()</pre></div></div></div><div class=\"sk-item\"><div class=\"sk-estimator sk-toggleable\"><input class=\"sk-toggleable__control sk-hidden--visually\" id=\"sk-estimator-id-35\" type=\"checkbox\" ><label for=\"sk-estimator-id-35\" class=\"sk-toggleable__label sk-toggleable__label-arrow\">RobustScaler</label><div class=\"sk-toggleable__content\"><pre>RobustScaler()</pre></div></div></div></div></div></div></div></div><div class=\"sk-parallel-item\"><div class=\"sk-item\"><div class=\"sk-label-container\"><div class=\"sk-label sk-toggleable\"><input class=\"sk-toggleable__control sk-hidden--visually\" id=\"sk-estimator-id-36\" type=\"checkbox\" ><label for=\"sk-estimator-id-36\" class=\"sk-toggleable__label sk-toggleable__label-arrow\">cat</label><div class=\"sk-toggleable__content\"><pre>[&#x27;subagency&#x27;, &#x27;state&#x27;, &#x27;vehicletype&#x27;, &#x27;make&#x27;, &#x27;model&#x27;, &#x27;color&#x27;, &#x27;charge&#x27;, &#x27;article&#x27;, &#x27;race&#x27;, &#x27;gender&#x27;, &#x27;driver_city&#x27;, &#x27;driver_state&#x27;, &#x27;dl_state&#x27;, &#x27;arrest_type&#x27;, &#x27;season_of_stop&#x27;, &#x27;hour_of_stop&#x27;]</pre></div></div></div><div class=\"sk-serial\"><div class=\"sk-item\"><div class=\"sk-serial\"><div class=\"sk-item\"><div class=\"sk-estimator sk-toggleable\"><input class=\"sk-toggleable__control sk-hidden--visually\" id=\"sk-estimator-id-37\" type=\"checkbox\" ><label for=\"sk-estimator-id-37\" class=\"sk-toggleable__label sk-toggleable__label-arrow\">SimpleImputer</label><div class=\"sk-toggleable__content\"><pre>SimpleImputer(strategy=&#x27;most_frequent&#x27;)</pre></div></div></div><div class=\"sk-item\"><div class=\"sk-estimator sk-toggleable\"><input class=\"sk-toggleable__control sk-hidden--visually\" id=\"sk-estimator-id-38\" type=\"checkbox\" ><label for=\"sk-estimator-id-38\" class=\"sk-toggleable__label sk-toggleable__label-arrow\">OneHotEncoder</label><div class=\"sk-toggleable__content\"><pre>OneHotEncoder(handle_unknown=&#x27;ignore&#x27;, max_categories=30)</pre></div></div></div></div></div></div></div></div><div class=\"sk-parallel-item\"><div class=\"sk-item\"><div class=\"sk-label-container\"><div class=\"sk-label sk-toggleable\"><input class=\"sk-toggleable__control sk-hidden--visually\" id=\"sk-estimator-id-39\" type=\"checkbox\" ><label for=\"sk-estimator-id-39\" class=\"sk-toggleable__label sk-toggleable__label-arrow\">remainder</label><div class=\"sk-toggleable__content\"><pre></pre></div></div></div><div class=\"sk-serial\"><div class=\"sk-item\"><div class=\"sk-estimator sk-toggleable\"><input class=\"sk-toggleable__control sk-hidden--visually\" id=\"sk-estimator-id-40\" type=\"checkbox\" ><label for=\"sk-estimator-id-40\" class=\"sk-toggleable__label sk-toggleable__label-arrow\">passthrough</label><div class=\"sk-toggleable__content\"><pre>passthrough</pre></div></div></div></div></div></div></div></div><div class=\"sk-item\"><div class=\"sk-estimator sk-toggleable\"><input class=\"sk-toggleable__control sk-hidden--visually\" id=\"sk-estimator-id-41\" type=\"checkbox\" ><label for=\"sk-estimator-id-41\" class=\"sk-toggleable__label sk-toggleable__label-arrow\">SelectKBest</label><div class=\"sk-toggleable__content\"><pre>SelectKBest(k=100,\n",
       "            score_func=&lt;function mutual_info_classif at 0x0000027280CC7D90&gt;)</pre></div></div></div><div class=\"sk-item\"><div class=\"sk-estimator sk-toggleable\"><input class=\"sk-toggleable__control sk-hidden--visually\" id=\"sk-estimator-id-42\" type=\"checkbox\" ><label for=\"sk-estimator-id-42\" class=\"sk-toggleable__label sk-toggleable__label-arrow\">XGBClassifier</label><div class=\"sk-toggleable__content\"><pre>XGBClassifier(base_score=None, booster=None, callbacks=None,\n",
       "              colsample_bylevel=None, colsample_bynode=None,\n",
       "              colsample_bytree=None, early_stopping_rounds=None,\n",
       "              enable_categorical=False,\n",
       "              eval_metric=&lt;function balanced_accuracy_score at 0x00000272DE6C1EA0&gt;,\n",
       "              feature_types=None, gamma=None, gpu_id=None, grow_policy=None,\n",
       "              importance_type=None, interaction_constraints=None,\n",
       "              learning_rate=0.03, max_bin=None, max_cat_threshold=None,\n",
       "              max_cat_to_onehot=None, max_delta_step=None, max_depth=20,\n",
       "              max_leaves=None, min_child_weight=None, missing=nan,\n",
       "              monotone_constraints=None, n_estimators=200, n_jobs=-1,\n",
       "              num_parallel_tree=None, objective=&#x27;multi:softmax&#x27;, predictor=None, ...)</pre></div></div></div></div></div></div></div>"
      ],
      "text/plain": [
       "Pipeline(steps=[('preprocess',\n",
       "                 ColumnTransformer(n_jobs=-1, remainder='passthrough',\n",
       "                                   transformers=[('bool',\n",
       "                                                  SimpleImputer(strategy='most_frequent'),\n",
       "                                                  ['belts', 'personal_injury',\n",
       "                                                   'property_damage', 'fatal',\n",
       "                                                   'commercial_license',\n",
       "                                                   'hazmat',\n",
       "                                                   'commercial_vehicle',\n",
       "                                                   'alcohol', 'work_zone',\n",
       "                                                   'contributed_to_accident']),\n",
       "                                                 ('num',\n",
       "                                                  Pipeline(steps=[('numerical_imputer',\n",
       "                                                                   SimpleIm...\n",
       "                               grow_policy=None, importance_type=None,\n",
       "                               interaction_constraints=None, learning_rate=0.03,\n",
       "                               max_bin=None, max_cat_threshold=None,\n",
       "                               max_cat_to_onehot=None, max_delta_step=None,\n",
       "                               max_depth=20, max_leaves=None,\n",
       "                               min_child_weight=None, missing=nan,\n",
       "                               monotone_constraints=None, n_estimators=200,\n",
       "                               n_jobs=-1, num_parallel_tree=None,\n",
       "                               objective='multi:softmax', predictor=None, ...))],\n",
       "         verbose=True)"
      ]
     },
     "execution_count": 28,
     "metadata": {},
     "output_type": "execute_result"
    }
   ],
   "source": [
    "model_pipeline"
   ]
  },
  {
   "cell_type": "markdown",
   "id": "fb181d45",
   "metadata": {},
   "source": [
    "# final model:"
   ]
  },
  {
   "cell_type": "code",
   "execution_count": 16,
   "id": "7bf87674",
   "metadata": {},
   "outputs": [
    {
     "name": "stdout",
     "output_type": "stream",
     "text": [
      "[Pipeline] ........ (step 1 of 2) Processing preprocess, total=  29.2s\n"
     ]
    },
    {
     "name": "stderr",
     "output_type": "stream",
     "text": [
      "c:\\Users\\Mona\\anaconda3\\envs\\mlzoomcamp\\lib\\site-packages\\sklearn\\metrics\\cluster\\_supervised.py:64: UserWarning: Clustering metrics expects discrete values but received continuous values for label, and multiclass values for target\n",
      "  warnings.warn(msg, UserWarning)\n"
     ]
    },
    {
     "name": "stdout",
     "output_type": "stream",
     "text": [
      "[Pipeline] . (step 2 of 2) Processing feature_selection, total= 1.0min\n",
      "\n",
      "Results on the test set are: \n",
      "balanced accuracy socre is: 0.687\n",
      "precision of model is: 0.729\n",
      "RMSE of model is 1.041\n",
      "              precision    recall  f1-score   support\n",
      "\n",
      "           0       0.77      0.63      0.69     98287\n",
      "           1       0.96      0.62      0.75     10408\n",
      "           2       0.66      0.82      0.73     93453\n",
      "\n",
      "    accuracy                           0.71    202148\n",
      "   macro avg       0.80      0.69      0.72    202148\n",
      "weighted avg       0.73      0.71      0.71    202148\n",
      "\n"
     ]
    },
    {
     "data": {
      "image/png": "[encoded data removed]",
      "text/plain": [
       "<Figure size 640x480 with 2 Axes>"
      ]
     },
     "metadata": {},
     "output_type": "display_data"
    }
   ],
   "source": [
    "# create pipeline to tansform data and fit the fine-tuned hyper-paramter of the model:\n",
    "# we do this in two separate steps to be able to save model, because in a pipeline object, I can't rerun final model\n",
    "\n",
    "model_pipeline = create_model_pipeline(use_cat_OHE = True)\n",
    "tuned_model_classification = XGBClassifier(objective='multi:softmax',learning_rate=0.03, max_depth=20,n_estimators=200, eval_metric=balanced_accuracy_score, n_jobs = -1, random_state=42)\n",
    "\n",
    "# train with fine tuned hyper-params:\n",
    "X_full_t = model_pipeline.fit_transform(x_train_full, y_train_full)\n",
    "tuned_model_classification.fit(X_full_t, y_train_full)\n",
    "# test the model on withheld val dataset:\n",
    "print(\"\\nResults on the test set are: \")\n",
    "X_test_t = model_pipeline.transform(x_test)\n",
    "model_predict_scores(tuned_model_classification, X_test_t, y_test, le) "
   ]
  },
  {
   "cell_type": "code",
   "execution_count": 17,
   "id": "bb83751b",
   "metadata": {},
   "outputs": [
    {
     "data": {
      "text/plain": [
       "['sklearn_pipeline.pkl']"
      ]
     },
     "execution_count": 17,
     "metadata": {},
     "output_type": "execute_result"
    }
   ],
   "source": [
    "# Save Model Using joblib\n",
    "import joblib\n",
    "\n",
    "filename = 'xgboost_traffic_violation_model.sav'\n",
    "joblib.dump(tuned_model_classification, filename)\n",
    "joblib.dump(model_pipeline, 'sklearn_pipeline.pkl')\n",
    "\n"
   ]
  },
  {
   "cell_type": "code",
   "execution_count": 18,
   "id": "fac3d422",
   "metadata": {},
   "outputs": [
    {
     "data": {
      "text/html": [
       "<style>#sk-container-id-2 {color: black;background-color: white;}#sk-container-id-2 pre{padding: 0;}#sk-container-id-2 div.sk-toggleable {background-color: white;}#sk-container-id-2 label.sk-toggleable__label {cursor: pointer;display: block;width: 100%;margin-bottom: 0;padding: 0.3em;box-sizing: border-box;text-align: center;}#sk-container-id-2 label.sk-toggleable__label-arrow:before {content: \"▸\";float: left;margin-right: 0.25em;color: #696969;}#sk-container-id-2 label.sk-toggleable__label-arrow:hover:before {color: black;}#sk-container-id-2 div.sk-estimator:hover label.sk-toggleable__label-arrow:before {color: black;}#sk-container-id-2 div.sk-toggleable__content {max-height: 0;max-width: 0;overflow: hidden;text-align: left;background-color: #f0f8ff;}#sk-container-id-2 div.sk-toggleable__content pre {margin: 0.2em;color: black;border-radius: 0.25em;background-color: #f0f8ff;}#sk-container-id-2 input.sk-toggleable__control:checked~div.sk-toggleable__content {max-height: 200px;max-width: 100%;overflow: auto;}#sk-container-id-2 input.sk-toggleable__control:checked~label.sk-toggleable__label-arrow:before {content: \"▾\";}#sk-container-id-2 div.sk-estimator input.sk-toggleable__control:checked~label.sk-toggleable__label {background-color: #d4ebff;}#sk-container-id-2 div.sk-label input.sk-toggleable__control:checked~label.sk-toggleable__label {background-color: #d4ebff;}#sk-container-id-2 input.sk-hidden--visually {border: 0;clip: rect(1px 1px 1px 1px);clip: rect(1px, 1px, 1px, 1px);height: 1px;margin: -1px;overflow: hidden;padding: 0;position: absolute;width: 1px;}#sk-container-id-2 div.sk-estimator {font-family: monospace;background-color: #f0f8ff;border: 1px dotted black;border-radius: 0.25em;box-sizing: border-box;margin-bottom: 0.5em;}#sk-container-id-2 div.sk-estimator:hover {background-color: #d4ebff;}#sk-container-id-2 div.sk-parallel-item::after {content: \"\";width: 100%;border-bottom: 1px solid gray;flex-grow: 1;}#sk-container-id-2 div.sk-label:hover label.sk-toggleable__label {background-color: #d4ebff;}#sk-container-id-2 div.sk-serial::before {content: \"\";position: absolute;border-left: 1px solid gray;box-sizing: border-box;top: 0;bottom: 0;left: 50%;z-index: 0;}#sk-container-id-2 div.sk-serial {display: flex;flex-direction: column;align-items: center;background-color: white;padding-right: 0.2em;padding-left: 0.2em;position: relative;}#sk-container-id-2 div.sk-item {position: relative;z-index: 1;}#sk-container-id-2 div.sk-parallel {display: flex;align-items: stretch;justify-content: center;background-color: white;position: relative;}#sk-container-id-2 div.sk-item::before, #sk-container-id-2 div.sk-parallel-item::before {content: \"\";position: absolute;border-left: 1px solid gray;box-sizing: border-box;top: 0;bottom: 0;left: 50%;z-index: -1;}#sk-container-id-2 div.sk-parallel-item {display: flex;flex-direction: column;z-index: 1;position: relative;background-color: white;}#sk-container-id-2 div.sk-parallel-item:first-child::after {align-self: flex-end;width: 50%;}#sk-container-id-2 div.sk-parallel-item:last-child::after {align-self: flex-start;width: 50%;}#sk-container-id-2 div.sk-parallel-item:only-child::after {width: 0;}#sk-container-id-2 div.sk-dashed-wrapped {border: 1px dashed gray;margin: 0 0.4em 0.5em 0.4em;box-sizing: border-box;padding-bottom: 0.4em;background-color: white;}#sk-container-id-2 div.sk-label label {font-family: monospace;font-weight: bold;display: inline-block;line-height: 1.2em;}#sk-container-id-2 div.sk-label-container {text-align: center;}#sk-container-id-2 div.sk-container {/* jupyter's `normalize.less` sets `[hidden] { display: none; }` but bootstrap.min.css set `[hidden] { display: none !important; }` so we also need the `!important` here to be able to override the default hidden behavior on the sphinx rendered scikit-learn.org. See: https://github.com/scikit-learn/scikit-learn/issues/21755 */display: inline-block !important;position: relative;}#sk-container-id-2 div.sk-text-repr-fallback {display: none;}</style><div id=\"sk-container-id-2\" class=\"sk-top-container\"><div class=\"sk-text-repr-fallback\"><pre>XGBClassifier(base_score=0.5, booster=&#x27;gbtree&#x27;, callbacks=None,\n",
       "              colsample_bylevel=1, colsample_bynode=1, colsample_bytree=1,\n",
       "              early_stopping_rounds=None, enable_categorical=False,\n",
       "              eval_metric=&lt;function balanced_accuracy_score at 0x00000272DE6C1EA0&gt;,\n",
       "              feature_types=None, gamma=0, gpu_id=-1, grow_policy=&#x27;depthwise&#x27;,\n",
       "              importance_type=None, interaction_constraints=&#x27;&#x27;,\n",
       "              learning_rate=0.03, max_bin=256, max_cat_threshold=64,\n",
       "              max_cat_to_onehot=4, max_delta_step=0, max_depth=20, max_leaves=0,\n",
       "              min_child_weight=1, missing=nan, monotone_constraints=&#x27;()&#x27;,\n",
       "              n_estimators=200, n_jobs=-1, num_parallel_tree=1,\n",
       "              objective=&#x27;multi:softmax&#x27;, predictor=&#x27;auto&#x27;, ...)</pre><b>In a Jupyter environment, please rerun this cell to show the HTML representation or trust the notebook. <br />On GitHub, the HTML representation is unable to render, please try loading this page with nbviewer.org.</b></div><div class=\"sk-container\" hidden><div class=\"sk-item\"><div class=\"sk-estimator sk-toggleable\"><input class=\"sk-toggleable__control sk-hidden--visually\" id=\"sk-estimator-id-15\" type=\"checkbox\" checked><label for=\"sk-estimator-id-15\" class=\"sk-toggleable__label sk-toggleable__label-arrow\">XGBClassifier</label><div class=\"sk-toggleable__content\"><pre>XGBClassifier(base_score=0.5, booster=&#x27;gbtree&#x27;, callbacks=None,\n",
       "              colsample_bylevel=1, colsample_bynode=1, colsample_bytree=1,\n",
       "              early_stopping_rounds=None, enable_categorical=False,\n",
       "              eval_metric=&lt;function balanced_accuracy_score at 0x00000272DE6C1EA0&gt;,\n",
       "              feature_types=None, gamma=0, gpu_id=-1, grow_policy=&#x27;depthwise&#x27;,\n",
       "              importance_type=None, interaction_constraints=&#x27;&#x27;,\n",
       "              learning_rate=0.03, max_bin=256, max_cat_threshold=64,\n",
       "              max_cat_to_onehot=4, max_delta_step=0, max_depth=20, max_leaves=0,\n",
       "              min_child_weight=1, missing=nan, monotone_constraints=&#x27;()&#x27;,\n",
       "              n_estimators=200, n_jobs=-1, num_parallel_tree=1,\n",
       "              objective=&#x27;multi:softmax&#x27;, predictor=&#x27;auto&#x27;, ...)</pre></div></div></div></div></div>"
      ],
      "text/plain": [
       "XGBClassifier(base_score=0.5, booster='gbtree', callbacks=None,\n",
       "              colsample_bylevel=1, colsample_bynode=1, colsample_bytree=1,\n",
       "              early_stopping_rounds=None, enable_categorical=False,\n",
       "              eval_metric=<function balanced_accuracy_score at 0x00000272DE6C1EA0>,\n",
       "              feature_types=None, gamma=0, gpu_id=-1, grow_policy='depthwise',\n",
       "              importance_type=None, interaction_constraints='',\n",
       "              learning_rate=0.03, max_bin=256, max_cat_threshold=64,\n",
       "              max_cat_to_onehot=4, max_delta_step=0, max_depth=20, max_leaves=0,\n",
       "              min_child_weight=1, missing=nan, monotone_constraints='()',\n",
       "              n_estimators=200, n_jobs=-1, num_parallel_tree=1,\n",
       "              objective='multi:softmax', predictor='auto', ...)"
      ]
     },
     "execution_count": 18,
     "metadata": {},
     "output_type": "execute_result"
    }
   ],
   "source": [
    "loaded_model = joblib.load(filename)\n",
    "loaded_model"
   ]
  },
  {
   "cell_type": "markdown",
   "id": "23ae12d0",
   "metadata": {},
   "source": [
    "# Saving model as a BentoML model"
   ]
  },
  {
   "cell_type": "code",
   "execution_count": 19,
   "id": "0ea2ca87",
   "metadata": {},
   "outputs": [
    {
     "name": "stderr",
     "output_type": "stream",
     "text": [
      "c:\\Users\\Mona\\anaconda3\\envs\\mlzoomcamp\\lib\\site-packages\\xgboost\\sklearn.py:787: UserWarning: eval_metric is not saved in Scikit-Learn meta.\n",
      "  warnings.warn(\n"
     ]
    },
    {
     "data": {
      "text/plain": [
       "Model(tag=\"traffic_violation_classification:sppa6ula76pkuvhb\", path=\"C:\\Users\\Mona\\bentoml\\models\\traffic_violation_classification\\sppa6ula76pkuvhb\\\")"
      ]
     },
     "execution_count": 19,
     "metadata": {},
     "output_type": "execute_result"
    }
   ],
   "source": [
    "import bentoml\n",
    "\n",
    "bentoml.xgboost.save_model(\n",
    "    'traffic_violation_classification',\n",
    "    model,\n",
    "    custom_objects={\n",
    "        'model_pipeline': model_pipeline\n",
    "    },\n",
    "    signatures= {\n",
    "        \"predict\":{\n",
    "            \"batchable\": True,\n",
    "            # we are going to concatenate arrays by first dimension\n",
    "            \"batch_dim\": 0,\n",
    "            \n",
    "        }\n",
    "    })"
   ]
  },
  {
   "cell_type": "markdown",
   "id": "a5151ea7",
   "metadata": {},
   "source": [
    "Getting a test sample from x_test:"
   ]
  },
  {
   "cell_type": "code",
   "execution_count": 20,
   "id": "ec2744ae",
   "metadata": {},
   "outputs": [
    {
     "name": "stdout",
     "output_type": "stream",
     "text": [
      "{\n",
      "  \"subagency\": \"4th_district,_wheaton\",\n",
      "  \"belts\": 0,\n",
      "  \"personal_injury\": 0,\n",
      "  \"property_damage\": 0,\n",
      "  \"fatal\": 0,\n",
      "  \"commercial_license\": 1,\n",
      "  \"hazmat\": 0,\n",
      "  \"commercial_vehicle\": 0,\n",
      "  \"alcohol\": 0,\n",
      "  \"work_zone\": 0,\n",
      "  \"state\": \"md\",\n",
      "  \"vehicletype\": \"02_-_automobile\",\n",
      "  \"make\": \"honda\",\n",
      "  \"model\": \"civic\",\n",
      "  \"color\": \"red\",\n",
      "  \"charge\": \"21-904(b2)\",\n",
      "  \"article\": \"transportation_article\",\n",
      "  \"contributed_to_accident\": 0,\n",
      "  \"race\": \"hispanic\",\n",
      "  \"gender\": \"m\",\n",
      "  \"driver_city\": \"silver_spring\",\n",
      "  \"driver_state\": \"md\",\n",
      "  \"dl_state\": \"md\",\n",
      "  \"arrest_type\": \"a_-_marked_patrol\",\n",
      "  \"season_of_stop\": \"summer\",\n",
      "  \"hour_of_stop\": \"late_night\",\n",
      "  \"car_age\": 28.0\n",
      "}\n"
     ]
    }
   ],
   "source": [
    "import json\n",
    "\n",
    "request = x_test.iloc[0].to_dict()\n",
    "print(json.dumps(request, indent=2))\n"
   ]
  }
 ],
 "metadata": {
  "kernelspec": {
   "display_name": "Python 3.9.13 ('mlzoomcamp')",
   "language": "python",
   "name": "python3"
  },
  "language_info": {
   "codemirror_mode": {
    "name": "ipython",
    "version": 3
   },
   "file_extension": ".py",
   "mimetype": "text/x-python",
   "name": "python",
   "nbconvert_exporter": "python",
   "pygments_lexer": "ipython3",
   "version": "3.10.6"
  },
  "vscode": {
   "interpreter": {
    "hash": "6f49a91f843bc62bf2c8314b3392f57386e3c11c937166c608fb35988f10d8d8"
   }
  }
 },
 "nbformat": 4,
 "nbformat_minor": 5
}
